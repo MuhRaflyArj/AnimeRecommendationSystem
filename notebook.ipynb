{
  "cells": [
    {
      "cell_type": "markdown",
      "metadata": {
        "id": "CWicej9tD9gU"
      },
      "source": [
        "# <center>Sistem Rekomendasi Anime Berbasis Hybrid Content-Based dan Collaborative Filtering<center>"
      ]
    },
    {
      "cell_type": "markdown",
      "metadata": {
        "id": "5qrS3BM4D9gW"
      },
      "source": [
        "## Import Modul"
      ]
    },
    {
      "cell_type": "code",
      "execution_count": 3,
      "metadata": {
        "id": "22PRj1ULD9gW"
      },
      "outputs": [],
      "source": [
        "import warnings\n",
        "warnings.filterwarnings('ignore')\n",
        "\n",
        "import numpy as np\n",
        "import pandas as pd\n",
        "import matplotlib.pyplot as plt\n",
        "import seaborn as sns\n",
        "import re\n",
        "\n",
        "from scipy.sparse import csr_matrix\n",
        "from sklearn.neighbors import NearestNeighbors\n",
        "from sklearn.feature_extraction.text import TfidfVectorizer\n",
        "from sklearn.metrics.pairwise import linear_kernel, sigmoid_kernel\n",
        "from sklearn.metrics import mean_absolute_error\n",
        "from sklearn.model_selection import train_test_split"
      ]
    },
    {
      "cell_type": "markdown",
      "metadata": {
        "id": "-b6Twm2nD9gX"
      },
      "source": [
        "## Import Dataset"
      ]
    },
    {
      "cell_type": "code",
      "execution_count": 4,
      "metadata": {
        "id": "swg-gHBZD9gX"
      },
      "outputs": [],
      "source": [
        "# Load dataset anime\n",
        "animeDf = pd.read_csv('./dataset/anime.csv')\n",
        "# Load dataset rating user\n",
        "ratingDf = pd.read_csv('./dataset/rating.csv')"
      ]
    },
    {
      "cell_type": "code",
      "execution_count": 6,
      "metadata": {},
      "outputs": [
        {
          "data": {
            "text/plain": [
              "(7813737, 3)"
            ]
          },
          "execution_count": 6,
          "metadata": {},
          "output_type": "execute_result"
        }
      ],
      "source": [
        "ratingDf.shape"
      ]
    },
    {
      "cell_type": "markdown",
      "metadata": {
        "id": "KZCnF6yqD9gX"
      },
      "source": [
        "#### Deskripsi Dataset\n",
        "\n",
        "Terdapat dua dataset yang digunakan, yaitu **anime.csv** dan **rating.csv**\n",
        "\n",
        "**anime.csv** <br>\n",
        "Dataset ini berisi informasi mengenai berbagai anime. Setiap baris dalam dataset mewakili satu anime. Dataset ini digunakan untuk analisis deskriptif dan sebagai input untuk sistem rekomendasi `Content Based Filtering`\n",
        "\n",
        "**rating.csv** <br>\n",
        "Dataset ini berisi penilaian yang diberikan oleh pengguna untuk berbagai anime. Setiap baris mewakili satu penilaian dari seorang user terhadap suatu anime. Dataset ini berguna untuk membuat sistem rekomendasi `Collaborative Filtering`, dimana pola penilaian pengguna dapat dianalisis untuk merekomendasikan anime yang mungkin disukai pengguna berdasarkan preferensi pengguna lain yang memiliki selera serupa."
      ]
    },
    {
      "cell_type": "markdown",
      "metadata": {
        "id": "q2-bjiVSD9gY"
      },
      "source": [
        "### Informasi Dataset"
      ]
    },
    {
      "cell_type": "code",
      "execution_count": 3,
      "metadata": {
        "colab": {
          "base_uri": "https://localhost:8080/"
        },
        "id": "xLPR6BAHD9gY",
        "outputId": "3e641bd2-31ea-4203-de5b-0df908eefb45"
      },
      "outputs": [
        {
          "name": "stdout",
          "output_type": "stream",
          "text": [
            "Ukuran dataset Anime : (12294, 7)\n",
            "<class 'pandas.core.frame.DataFrame'>\n",
            "RangeIndex: 12294 entries, 0 to 12293\n",
            "Data columns (total 7 columns):\n",
            " #   Column    Non-Null Count  Dtype  \n",
            "---  ------    --------------  -----  \n",
            " 0   anime_id  12294 non-null  int64  \n",
            " 1   name      12294 non-null  object \n",
            " 2   genre     12232 non-null  object \n",
            " 3   type      12269 non-null  object \n",
            " 4   episodes  12294 non-null  object \n",
            " 5   rating    12064 non-null  float64\n",
            " 6   members   12294 non-null  int64  \n",
            "dtypes: float64(1), int64(2), object(4)\n",
            "memory usage: 672.5+ KB\n"
          ]
        }
      ],
      "source": [
        "# Keterangan dataset anime\n",
        "print(\"Ukuran dataset Anime :\", animeDf.shape)\n",
        "animeDf.info()"
      ]
    },
    {
      "cell_type": "code",
      "execution_count": 4,
      "metadata": {
        "id": "2XeVeL01D9gY"
      },
      "outputs": [],
      "source": [
        "# Rename column dalam dataset anime\n",
        "animeDf.rename(columns={\n",
        "    'name' : 'anime_title'\n",
        "}, inplace=True)\n",
        "\n",
        "# Convert kolom 'episodes' ke numerik\n",
        "animeDf['episodes'] = pd.to_numeric(animeDf['episodes'], errors='coerce')"
      ]
    },
    {
      "cell_type": "markdown",
      "metadata": {
        "id": "tzP_95iMD9gY"
      },
      "source": [
        "Terdapat 12.294 baris data yang terdiri dari 7 kolom berikut :\n",
        "- **anime_id** : Unique id yang dimiliki suatu judul anime\n",
        "- **name** : Judul dari anime\n",
        "- **genre** : Genre dari suatu anime (dapat lebih dari 1)\n",
        "- **type** : Jenis tayangan anime\n",
        "- **eposides** : Jumlah episode dalam suatu judul anime\n",
        "- **rating** : Nilai rating rata-rata (0-10)\n",
        "- **members** : Jumlah anggota komunitas suatu anime"
      ]
    },
    {
      "cell_type": "code",
      "execution_count": 5,
      "metadata": {
        "colab": {
          "base_uri": "https://localhost:8080/"
        },
        "id": "KPr92uppD9gZ",
        "outputId": "6ba3e254-78ed-4ddf-f1e5-fe35913cc6a3"
      },
      "outputs": [
        {
          "name": "stdout",
          "output_type": "stream",
          "text": [
            "Ukuran dataset rating : (1000000, 3)\n",
            "<class 'pandas.core.frame.DataFrame'>\n",
            "RangeIndex: 1000000 entries, 0 to 999999\n",
            "Data columns (total 3 columns):\n",
            " #   Column    Non-Null Count    Dtype\n",
            "---  ------    --------------    -----\n",
            " 0   user_id   1000000 non-null  int64\n",
            " 1   anime_id  1000000 non-null  int64\n",
            " 2   rating    1000000 non-null  int64\n",
            "dtypes: int64(3)\n",
            "memory usage: 22.9 MB\n"
          ]
        }
      ],
      "source": [
        "# Keterangan dataset rating\n",
        "print(\"Ukuran dataset rating :\", ratingDf.shape)\n",
        "ratingDf.info()"
      ]
    },
    {
      "cell_type": "markdown",
      "metadata": {
        "id": "8_sPozPID9gZ"
      },
      "source": [
        "Terdapat 7.813.737 baris data yang terdiri dari 3 kolom berikut :\n",
        "- **user_id** : Unique id yang dimiliki suatu user\n",
        "- **anime_id** : Id dari anime yang di-rating\n",
        "- **rating** : Rating yang diberikan user (0 - 10) *-1 jika user belum pernah merating*"
      ]
    },
    {
      "cell_type": "markdown",
      "metadata": {
        "id": "bubtPrUbD9gZ"
      },
      "source": [
        "## Exploratory Data Analysis"
      ]
    },
    {
      "cell_type": "markdown",
      "metadata": {
        "id": "tcndGq2_D9gZ"
      },
      "source": [
        "#### Penggabungan data Rating User terhadap Anime yang dirating\n",
        "\n",
        "Penggabungan ini dilakukan untuk mengaitkan informasi dari kedua dataset. Langkah ini memungkinkan anaisis yang lebih mendalam seperti melihat hubungan antara genre dan rating, serta mempersiapkan data untuk pengembangan model rekomendasi yang efektif."
      ]
    },
    {
      "cell_type": "code",
      "execution_count": 6,
      "metadata": {
        "colab": {
          "base_uri": "https://localhost:8080/",
          "height": 504
        },
        "id": "DaVjELPZD9gZ",
        "outputId": "597152e5-49bf-4cf5-c4b8-143f640b8ebf"
      },
      "outputs": [
        {
          "name": "stdout",
          "output_type": "stream",
          "text": [
            "Ukuran Data: (1000000, 9)\n"
          ]
        },
        {
          "data": {
            "text/html": [
              "<div>\n",
              "<style scoped>\n",
              "    .dataframe tbody tr th:only-of-type {\n",
              "        vertical-align: middle;\n",
              "    }\n",
              "\n",
              "    .dataframe tbody tr th {\n",
              "        vertical-align: top;\n",
              "    }\n",
              "\n",
              "    .dataframe thead th {\n",
              "        text-align: right;\n",
              "    }\n",
              "</style>\n",
              "<table border=\"1\" class=\"dataframe\">\n",
              "  <thead>\n",
              "    <tr style=\"text-align: right;\">\n",
              "      <th></th>\n",
              "      <th>anime_id</th>\n",
              "      <th>anime_title</th>\n",
              "      <th>genre</th>\n",
              "      <th>type</th>\n",
              "      <th>episodes</th>\n",
              "      <th>rating</th>\n",
              "      <th>members</th>\n",
              "      <th>user_id</th>\n",
              "      <th>rating_user</th>\n",
              "    </tr>\n",
              "  </thead>\n",
              "  <tbody>\n",
              "    <tr>\n",
              "      <th>0</th>\n",
              "      <td>32281</td>\n",
              "      <td>Kimi no Na wa.</td>\n",
              "      <td>Drama, Romance, School, Supernatural</td>\n",
              "      <td>Movie</td>\n",
              "      <td>1.0</td>\n",
              "      <td>9.37</td>\n",
              "      <td>200630</td>\n",
              "      <td>99</td>\n",
              "      <td>5</td>\n",
              "    </tr>\n",
              "    <tr>\n",
              "      <th>1</th>\n",
              "      <td>32281</td>\n",
              "      <td>Kimi no Na wa.</td>\n",
              "      <td>Drama, Romance, School, Supernatural</td>\n",
              "      <td>Movie</td>\n",
              "      <td>1.0</td>\n",
              "      <td>9.37</td>\n",
              "      <td>200630</td>\n",
              "      <td>152</td>\n",
              "      <td>10</td>\n",
              "    </tr>\n",
              "    <tr>\n",
              "      <th>2</th>\n",
              "      <td>32281</td>\n",
              "      <td>Kimi no Na wa.</td>\n",
              "      <td>Drama, Romance, School, Supernatural</td>\n",
              "      <td>Movie</td>\n",
              "      <td>1.0</td>\n",
              "      <td>9.37</td>\n",
              "      <td>200630</td>\n",
              "      <td>244</td>\n",
              "      <td>10</td>\n",
              "    </tr>\n",
              "    <tr>\n",
              "      <th>3</th>\n",
              "      <td>32281</td>\n",
              "      <td>Kimi no Na wa.</td>\n",
              "      <td>Drama, Romance, School, Supernatural</td>\n",
              "      <td>Movie</td>\n",
              "      <td>1.0</td>\n",
              "      <td>9.37</td>\n",
              "      <td>200630</td>\n",
              "      <td>271</td>\n",
              "      <td>10</td>\n",
              "    </tr>\n",
              "    <tr>\n",
              "      <th>4</th>\n",
              "      <td>32281</td>\n",
              "      <td>Kimi no Na wa.</td>\n",
              "      <td>Drama, Romance, School, Supernatural</td>\n",
              "      <td>Movie</td>\n",
              "      <td>1.0</td>\n",
              "      <td>9.37</td>\n",
              "      <td>200630</td>\n",
              "      <td>278</td>\n",
              "      <td>-1</td>\n",
              "    </tr>\n",
              "  </tbody>\n",
              "</table>\n",
              "</div>"
            ],
            "text/plain": [
              "   anime_id     anime_title                                 genre   type  \\\n",
              "0     32281  Kimi no Na wa.  Drama, Romance, School, Supernatural  Movie   \n",
              "1     32281  Kimi no Na wa.  Drama, Romance, School, Supernatural  Movie   \n",
              "2     32281  Kimi no Na wa.  Drama, Romance, School, Supernatural  Movie   \n",
              "3     32281  Kimi no Na wa.  Drama, Romance, School, Supernatural  Movie   \n",
              "4     32281  Kimi no Na wa.  Drama, Romance, School, Supernatural  Movie   \n",
              "\n",
              "   episodes  rating  members  user_id  rating_user  \n",
              "0       1.0    9.37   200630       99            5  \n",
              "1       1.0    9.37   200630      152           10  \n",
              "2       1.0    9.37   200630      244           10  \n",
              "3       1.0    9.37   200630      271           10  \n",
              "4       1.0    9.37   200630      278           -1  "
            ]
          },
          "execution_count": 6,
          "metadata": {},
          "output_type": "execute_result"
        }
      ],
      "source": [
        "# Merge Data Anime dan User Rating\n",
        "mergedData = pd.merge(animeDf, ratingDf, on='anime_id', suffixes=['', '_user'])\n",
        "\n",
        "# Ukuran data yang sudah dimerge\n",
        "print('Ukuran Data:', mergedData.shape)\n",
        "mergedData.head() # Contoh DataFrame data yang sudah dimerge"
      ]
    },
    {
      "cell_type": "markdown",
      "metadata": {
        "id": "GQra67QPD9gZ"
      },
      "source": [
        "### Top 5 Anime Berdasarkan Banyaknya Rating"
      ]
    },
    {
      "cell_type": "code",
      "execution_count": 7,
      "metadata": {
        "colab": {
          "base_uri": "https://localhost:8080/",
          "height": 368
        },
        "id": "chSkbhpLD9gZ",
        "outputId": "52b8cba5-7235-4719-96fc-9aa362f147b1"
      },
      "outputs": [
        {
          "data": {
            "image/png": "[encoded data removed]",
            "text/plain": [
              "<Figure size 1500x800 with 1 Axes>"
            ]
          },
          "metadata": {},
          "output_type": "display_data"
        }
      ],
      "source": [
        "# Hitung jumlah rating setiap anime\n",
        "ratingCount = mergedData.groupby(['anime_title'])['rating'].count().reset_index().rename(\n",
        "    columns = {\n",
        "        'rating' : 'totalRating'\n",
        "    }\n",
        ")\n",
        "\n",
        "# Cari 5 anime dengan rating terbanyak\n",
        "topRating = ratingCount.sort_values(by='totalRating', ascending=False).head(5)\n",
        "\n",
        "# Plot hasil jumlah rating dan judul anime\n",
        "plt.figure(figsize=(15,8))\n",
        "plt.bar(topRating['anime_title'], topRating['totalRating'], color=plt.cm.viridis(np.linspace(0, 1, 5)))\n",
        "# Keterangan Plot\n",
        "plt.xlabel('Judul Anime')\n",
        "plt.ylabel('Jumlah User Rating')\n",
        "plt.title('Top 5 Anime Berdasarkan Banyaknya Rating')\n",
        "\n",
        "# Cetak plot\n",
        "plt.show()"
      ]
    },
    {
      "cell_type": "markdown",
      "metadata": {
        "id": "OwD-3KXzD9ga"
      },
      "source": [
        "Grafik di atas yang menunjukkan jumlah rating tertinggi mengindikasikan anime yang paling populer di kalangan pengguna. Informasi ini dapat digunakan sebagai dasar rekomendasi bagi pengguna baru, khususnya mereka yang belum memiliki history menonton maupun history rating. Dengan demikian, sistem rekomendasi dapat memberikan saran awal yang menarik dan relevan berdasarkan popularitas anime di kalangan komunitas pengguna."
      ]
    },
    {
      "cell_type": "code",
      "execution_count": 8,
      "metadata": {
        "id": "FXKZAubvD9ga"
      },
      "outputs": [],
      "source": [
        "# Tambahkan data total rating ke dalam dataframe\n",
        "mergedData = mergedData.merge(ratingCount, left_on='anime_title', right_on='anime_title', how='left')\n",
        "mergedData.rename(columns={\n",
        "    'user_rating_x' : 'user_rating',\n",
        "    'user_rating_y' : 'total_rating'\n",
        "}, inplace=True)"
      ]
    },
    {
      "cell_type": "markdown",
      "metadata": {
        "id": "E3pgbsyJD9ga"
      },
      "source": [
        "### Top 5 Anime Berdasarkan Jumlah Anggota Komunitas"
      ]
    },
    {
      "cell_type": "code",
      "execution_count": 9,
      "metadata": {
        "colab": {
          "base_uri": "https://localhost:8080/",
          "height": 375
        },
        "id": "UQP1bfTxD9ga",
        "outputId": "d9b8ed4b-7ac7-4999-b3c6-a69e6a0eeffe"
      },
      "outputs": [
        {
          "data": {
            "image/png": "[encoded data removed]",
            "text/plain": [
              "<Figure size 1500x800 with 1 Axes>"
            ]
          },
          "metadata": {},
          "output_type": "display_data"
        }
      ],
      "source": [
        "# Hapus data duplikat\n",
        "topCommunity = mergedData.drop_duplicates(subset='anime_title', keep='first')\n",
        "# Cari 5 komunitas terbesar dalam data\n",
        "topCommunity = topCommunity[['anime_title', 'members']].sort_values(by='members', ascending=False).head(5)\n",
        "\n",
        "# Plot hasil jumlah komunitas terbesar\n",
        "plt.figure(figsize=(15,8))\n",
        "plt.bar(topCommunity['anime_title'], topCommunity['members'], color=plt.cm.viridis(np.linspace(0, 1, 5)))\n",
        "# Keterangan plot\n",
        "plt.xlabel('Judul Anime')\n",
        "plt.ylabel('Jumlah Komunitas')\n",
        "plt.title('Top 5 Anime Berdasarkan Jumlah Anggota Komunitas')\n",
        "\n",
        "# Cetak Plot\n",
        "plt.show()"
      ]
    },
    {
      "cell_type": "markdown",
      "metadata": {
        "id": "pyRPjg3mD9ga"
      },
      "source": [
        "Anime seperti **Death Note**, **Shingeki no Kyojin**, dan **Sword Art Online** menempati posisi tertinggi dalam top 5 berdasarkan banyaknya rating dan top 5 berdasarkan banyaknya jumlah anggota komuintas. Hal tersebut mengindikasikan bahwa anime yang memiliki jumlah rating yang tinggi juga cenderung memiliki komunitas pengguna yang besar. Dengan memanfaatkan data popularitas berdasarkan rating dan jumlah anggota komunitas, sistem rekomendasi dapat memberikan saran yang lebih akurat dan relevan bagi pengguna."
      ]
    },
    {
      "cell_type": "markdown",
      "metadata": {
        "id": "rkG7I5HrD9ga"
      },
      "source": [
        "### Distribusi Nilai Rating"
      ]
    },
    {
      "cell_type": "code",
      "execution_count": 10,
      "metadata": {
        "colab": {
          "base_uri": "https://localhost:8080/",
          "height": 369
        },
        "id": "6M0ZmmImD9ga",
        "outputId": "760ce037-d276-471a-9ad5-0e5ff3a08387"
      },
      "outputs": [
        {
          "data": {
            "image/png": "[encoded data removed]",
            "text/plain": [
              "<Figure size 1500x800 with 2 Axes>"
            ]
          },
          "metadata": {},
          "output_type": "display_data"
        }
      ],
      "source": [
        "# Inisialisasi Plot\n",
        "fig, ax = plt.subplots(1, 2, figsize=(15,8))\n",
        "\n",
        "# Plot histogram rating dari website\n",
        "ax[0].hist(animeDf['rating'], bins=50, color='skyblue')\n",
        "ax[0].set_title('Rating Website')\n",
        "\n",
        "# Plot histogram rating dari user\n",
        "ax[1].hist(ratingDf['rating'], bins=11, color='skyblue')\n",
        "ax[1].set_title('Rating User')\n",
        "\n",
        "plt.show()"
      ]
    },
    {
      "cell_type": "markdown",
      "metadata": {
        "id": "3CsgT_RLD9ga"
      },
      "source": [
        "**Rating Website** mengacu pada rating rata-rata yang diberikan oleh seluruh pengguna untuk sebuah anime tertentu. Rating ini merupakan agregat dari semua penilaian individu yang diterima oleh anime tersebut dan memebrikan gambaran umum tentang seberapa baik anime tersebut diterima oleh komunitas secara keseluruhan.\n",
        "\n",
        "**Rating User** merujuk pada rating yang diberikan oleh pengguna individu terhadap anime tertentu. Data ini lebih spesifik dan mencerminkan preferensi pribadi dari setiap pengguna.\n",
        "\n",
        "Rating Website cenderung terpusat pada nilai 6 hingga 9, dengan puncak sekitar 7 dan 8. Ini menunjukkan bahwa anime secara umum dinilai cukup baik oleh pengguna di seluruh komunitas, dengan sebagian besar mendapatkan penilaian rata-rata yang cukup tinggi. Sedangkan rating user cenderung banyak yang menilai pada jangka 8 - 10. Hal ini dapat mencerminkan bahwa hanya anime dengan kualitas tertentu yang menarik cukup perhatian untuk dinilai secara luas.\n",
        "\n",
        "Nilai -1 yang cukup banyak menunjukkan jumlah signifikan pengguna yang menambahkan anime ke daftar mereka tanpa memberikan rating. Ini mengindikasikan bahwa banyak pengguna yang berinteraksi dengan anime tersebut tetapi memilih untuk tidak memberikan penilaian numerik. Jumlah rating yang menonjol pada nilai yang tinggi dapat disebabkan oleh beberapa hal, diantaranya positive bias yang menyebabkan kecenderungan untuk memberikan nilai sangat tinggi dan efek popularitas anime tersebut yang memberikan motivasi untuk sesama memberikan feedback positif."
      ]
    },
    {
      "cell_type": "markdown",
      "metadata": {},
      "source": [
        "#### Korelasi Antara Rating Anime dengan Jumlah Membernya"
      ]
    },
    {
      "cell_type": "code",
      "execution_count": 11,
      "metadata": {},
      "outputs": [
        {
          "data": {
            "image/png": "[encoded data removed]",
            "text/plain": [
              "<Figure size 1000x600 with 1 Axes>"
            ]
          },
          "metadata": {},
          "output_type": "display_data"
        }
      ],
      "source": [
        "# Inisialisasi Plot\n",
        "plt.figure(figsize=(10,6))\n",
        "\n",
        "# Plot Scaterplot antara rating (x) dan jumlah member (y)\n",
        "plt.scatter(animeDf['rating'], animeDf['members'], alpha=0.7)\n",
        "# Keterangan Plot\n",
        "plt.title('Persebaran Rating Anime dengan Jumlah Membernya')\n",
        "plt.xlabel('Rating')\n",
        "plt.ylabel('Jumlah Member')\n",
        "plt.grid(True)\n",
        "\n",
        "# Cetak Plot\n",
        "plt.show()"
      ]
    },
    {
      "cell_type": "markdown",
      "metadata": {},
      "source": [
        "Scatterplot diatas menunjukkan bahwa tidak ada korelasi linear yang kuat antara rating dan jumlah anggota (members). Meskipun anime dengan jumlah anggota yang banyak cenderung memiliki rating yang cukup baik, popularitas anie tidak selalu berbanding lurus dengan ratingnya. Ini menginidikasikan bahwa `terdapat faktor lain yang menentukan popularitas anime, selain dari rating yang diterima`."
      ]
    },
    {
      "cell_type": "markdown",
      "metadata": {
        "id": "PTU-g6yhD9ga"
      },
      "source": [
        "### Persebaran Format Distribusi Anime"
      ]
    },
    {
      "cell_type": "code",
      "execution_count": 12,
      "metadata": {
        "colab": {
          "base_uri": "https://localhost:8080/",
          "height": 428
        },
        "id": "DW9398klD9ga",
        "outputId": "ed8262d6-c2e3-4571-87c1-76de25f07c0a"
      },
      "outputs": [
        {
          "data": {
            "image/png": "[encoded data removed]",
            "text/plain": [
              "<Figure size 640x480 with 1 Axes>"
            ]
          },
          "metadata": {},
          "output_type": "display_data"
        }
      ],
      "source": [
        "# Menghitung total jumlah jenis streaming\n",
        "mediaTypeCount = animeDf['type'].value_counts()\n",
        "\n",
        "# Menggabungkan nilai yang kurang dari 5% menjadi kategori 'others'\n",
        "threshold = 0.05 * mediaTypeCount.sum() # Menghitung batas nilai 5%\n",
        "smallCount = mediaTypeCount[mediaTypeCount < threshold] # Mengambil kategori yang kurang dari 5%\n",
        "othersCount = smallCount.sum() # Menggabungkan seluruh kategori\n",
        "mediaTypeCount = mediaTypeCount[mediaTypeCount >= threshold] # Mengambil kategori yang lebih dari 5%\n",
        "\n",
        "if othersCount > 0 :\n",
        "    mediaTypeCount['Lainnya'] = othersCount\n",
        "\n",
        "# Plot pie chart\n",
        "plt.pie(mediaTypeCount, labels=mediaTypeCount.index, autopct='%1.1f%%', startangle=90)\n",
        "# Keterangan plot\n",
        "plt.legend(mediaTypeCount.index, loc='lower right')\n",
        "plt.title('Media yang Digunakan untuk Streaming')\n",
        "plt.show()"
      ]
    },
    {
      "cell_type": "markdown",
      "metadata": {
        "id": "bZXRVQKZD9gb"
      },
      "source": [
        "Persebaran pada distribusi format seperti **TV**, **OVA**, dan **Movie** menunjukkan bahwa pengguna memiliki preferensi dalam menikmati konten anime. Sistem rekomendasi harus lebih fleksibel dan mampu memberikan rekomendasi yang bervariasi berdasarkan preferensi pengguna terhadapt berbagai format distribusi."
      ]
    },
    {
      "cell_type": "markdown",
      "metadata": {
        "id": "mhIompKAD9gb"
      },
      "source": [
        "### Persebaran Jumlah Episode"
      ]
    },
    {
      "cell_type": "code",
      "execution_count": 13,
      "metadata": {
        "colab": {
          "base_uri": "https://localhost:8080/",
          "height": 268
        },
        "id": "2DwxdhPiD9gb",
        "outputId": "e4ce059e-a61a-452f-a170-bff1ee5c1f9d"
      },
      "outputs": [
        {
          "data": {
            "image/png": "[encoded data removed]",
            "text/plain": [
              "<Figure size 1600x600 with 2 Axes>"
            ]
          },
          "metadata": {},
          "output_type": "display_data"
        },
        {
          "name": "stdout",
          "output_type": "stream",
          "text": [
            "Jumlah Anime dengan Episode > 100: 159\n"
          ]
        }
      ],
      "source": [
        "# Inisialisasi plot\n",
        "fig, axes = plt.subplots(1, 2, figsize=(16, 6))\n",
        "\n",
        "# Plot histogram Jumlah Episode\n",
        "axes[0].hist(animeDf['episodes'], bins=20, color='skyblue')\n",
        "axes[0].set_title('Persebaran Jumlah Episode')\n",
        "axes[0].set_xlabel('Jumlah Episode')\n",
        "axes[0].set_ylabel('Frekuensi')\n",
        "\n",
        "# Plot histogram Jumlah Episode untuk episode kurang dari 100\n",
        "axes[1].hist(animeDf.loc[animeDf['episodes'] < 100]['episodes'], bins=20, color='skyblue')\n",
        "axes[1].set_title('Persebaran Jumlah Episode (< 100eps)')\n",
        "axes[1].set_xlabel('Jumlah Episode')\n",
        "axes[1].set_ylabel('Frekuensi')\n",
        "\n",
        "# Cetak plot\n",
        "plt.tight_layout()\n",
        "plt.show()\n",
        "\n",
        "print('Jumlah Anime dengan Episode > 100:', animeDf.loc[animeDf['episodes'] > 100].shape[0])\n"
      ]
    },
    {
      "cell_type": "markdown",
      "metadata": {
        "id": "-igtxsxiD9gb"
      },
      "source": [
        "Dari histogram jumlah episode anime, terlihat bahwa mayoritas anime memiliki jumlah episode yang sedikit, dengan puncak tajam pada rentang 0 hingga 50 episode. Ini menunjukkan bahwa sebagian besar anime dibuat dalam format pendek. Hanya sedikit anime yang memiliki lebih dari 100 episode, yaitu sekitar 159 anime. Distribusi ini mengindikasikan bahwa format musim pendek sangat umum, dengan banyak serial yang dibuat dalam 12-13 episode (satu musim pendek) atau 24-26 episode (dua musim pendek).\n",
        "\n",
        "Informasi ini penting karena menunjukkan perlunya memprioritaskan rekomendasi anime pendek yang lebih mungkin dsukai oleh pengguna yang mencari tontonan cepat. Namun, tetap penting untuk menyertakan beberapa rekomendasi anime panjang untuk pengguna yang menikmati cerita yang lebih mendalam."
      ]
    },
    {
      "cell_type": "markdown",
      "metadata": {},
      "source": [
        "#### Persebaran Jumlah Rating Yang Diberikan oleh User"
      ]
    },
    {
      "cell_type": "code",
      "execution_count": 14,
      "metadata": {},
      "outputs": [
        {
          "data": {
            "image/png": "[encoded data removed]",
            "text/plain": [
              "<Figure size 1600x600 with 2 Axes>"
            ]
          },
          "metadata": {},
          "output_type": "display_data"
        }
      ],
      "source": [
        "# Menghitung Jumlah Rating yang Diberikan oleh Setiap User\n",
        "userRatingCount = ratingDf.groupby('user_id')['rating'].count()\n",
        "userRatingCountFiltered = userRatingCount[userRatingCount < 200] # Filter Kurang dari 200\n",
        "\n",
        "# Inisialisasi Plot\n",
        "fig, axes = plt.subplots(1, 2, figsize=(16, 6))\n",
        "\n",
        "# Plot histogram Jumlah User Memberikan Rating\n",
        "axes[0].hist(userRatingCount, bins=20, color='skyblue')\n",
        "axes[0].set_title('Persebaran Banyaknya User Memberi Rating')\n",
        "axes[0].set_xlabel('Jumlah Rating')\n",
        "axes[0].set_ylabel('Frekuensi')\n",
        "\n",
        "# Plot histogram Jumlah User Memberikan Rating untuk Jumlah Rating kurang dari 200\n",
        "axes[1].hist(userRatingCountFiltered, bins=20, color='skyblue')\n",
        "axes[1].set_title('Persebaran Banyaknya User Memberi Rating (< 200rating)')\n",
        "axes[1].set_xlabel('Jumlah Rating')\n",
        "axes[1].set_ylabel('Frekuensi')\n",
        "\n",
        "# Cetak plot\n",
        "plt.tight_layout()\n",
        "plt.show()"
      ]
    },
    {
      "cell_type": "markdown",
      "metadata": {},
      "source": [
        "Dari histogram di atas, terlihat jelas bahwa partisipasi pengguna dalam memberikan rating sangat bervariasi, tetapi mayoritas cenderung memberikan hanya sedikit rating. Ini dapat berarti bahwa meskipun basis pengguna besar, kontribusi mereka dalam penilaian kontek mungkin terbatas. Dengan banyak pengguna yang memberikan sedikit rating, ini menciptakan masalah sparsity dalam data, yang dapat mempengaruhi akurasi model rekomendasi."
      ]
    },
    {
      "cell_type": "markdown",
      "metadata": {},
      "source": [
        "#### Persebaran Jumlah Rating oleh User yang Diterima Anime"
      ]
    },
    {
      "cell_type": "code",
      "execution_count": 15,
      "metadata": {},
      "outputs": [
        {
          "data": {
            "image/png": "[encoded data removed]",
            "text/plain": [
              "<Figure size 1600x600 with 2 Axes>"
            ]
          },
          "metadata": {},
          "output_type": "display_data"
        }
      ],
      "source": [
        "# Menghitung Jumlah Rating yang Diterima oleh setiap Anime\n",
        "animeRatingCount = ratingDf.groupby('anime_id')['rating'].count()\n",
        "animeRatingCountFiltered = animeRatingCount[animeRatingCount < 100] # Filter Kurang dari 100\n",
        "\n",
        "# Inisialisasi Plot\n",
        "fig, axes = plt.subplots(1, 2, figsize=(16, 6))\n",
        "\n",
        "# Plot histogram Jumlah Rating Anime\n",
        "axes[0].hist(animeRatingCount, bins=20, color='skyblue')\n",
        "axes[0].set_title('Persebaran Banyak Rating yang diterima Anime')\n",
        "axes[0].set_xlabel('Jumlah Rating Diterima')\n",
        "axes[0].set_ylabel('Frekuensi')\n",
        "\n",
        "# Plot histogram Jumlah Rating anime untuk rating kurang dari 100\n",
        "axes[1].hist(animeRatingCountFiltered, bins=20, color='skyblue')\n",
        "axes[1].set_title('Persebaran Banyak Rating yang diterima Anime (< 100rating)')\n",
        "axes[1].set_xlabel('Jumlah Rating Diterima')\n",
        "axes[1].set_ylabel('Frekuensi')\n",
        "\n",
        "# Cetak plot\n",
        "plt.tight_layout()\n",
        "plt.show()"
      ]
    },
    {
      "cell_type": "markdown",
      "metadata": {},
      "source": [
        "Dari histogram di atas, terlihat jelas bahwa popularitas anime sangat bervariasi, tetapi mayoritas anime cenderung menerima sedikit rating. Ini dapat berarti bahwa meskipun ada banyak anime yang tersedia, hanya beberapa yang benar-benar populer di kalangan pengguna. Hal ini juga menciptakan masalah sparsity dalam data, yang dapat mempengaruhi akurasi model."
      ]
    },
    {
      "cell_type": "markdown",
      "metadata": {
        "id": "mfhASk-ZD9gb"
      },
      "source": [
        "### Kesimpulan Akhir dari EDA\n",
        "\n",
        "Dari analisis EDA yang dilakukan, beberapa kesimpulan penting dapat diambil terkait distribusi dan preferensi user terhadap anime :\n",
        "\n",
        "1. **Distribusi Format Anime** <br>\n",
        "**TV** Merupakan yang paling dominan ($30.2\\%$), diikuti oleh **OVA** ($27.4\\%$), **Movie** ($19.1\\%$), dan Special ($14.1\\%$). Format lain seperti **ONA** dan kategori lainnya memiliki presentase yang lebih kecil. Ini menjunjukakn bahwa `meskipun TV tetap populer, ada diversifikasi yang signifikan dalam cara anime didistribusikan.`\n",
        "\n",
        "2. **Distribusi Jumlah Episode** <br>\n",
        "Mayoritas anime memiliki jumlah episode yang relatif sedikit, dengan puncak pada rentang 0 hingga 50 episode. Hanya sedikit anime yang memiliki lebih dari 100 episode (159 judul anime), menunjukkan bahwa `format musim pendek sangat umum dalam industri anime.`\n",
        "\n",
        "3. **Rating dan Rating User** <br>\n",
        "Rating Website cenderung terpusat pada nilai 6 hingga 9, dengan puncak sekitar 7 dan 8. Ini menunjukkan bahwa anime secara umum dinilai cukup baik oleh user di seluruh komunitas, dengan sebagian besar mendapatkan penilaian rata-rata yang cukup tinggi. Sedangkan rating user cenderung banyak yang menilai pada jangka 8 - 10. Hal ini dapat mencerminkan bahwa `hanya anime dengan kualitas tertentu yang menarik cukup perhatian untuk dinilai secara luas.`\n",
        "\n",
        "4. **Persebaran Rating yang Diberikan** <br>\n",
        "Terlihat jelas bahwa partisipasi user dalam memberikan rating dan popularitas anime sangat bervariasi, tetapi mayoritas user dan anime cenderung menerima sedikit rating. Ini mengindikasikan bahwa meskipun basis user besar dan banyak anime yang tersedia kontribusi user dalam penilaian konten mungkin terbatas dan hanya beberapa anime yang benar-benar populer di kalangan user. `Dengan banyaknya pengguna dan anime yang menerima sedikit rating, ini menciptakan masalah sparsity dalam data, yang dapat mempengaruhi akurasi model rekomendasi`\n"
      ]
    },
    {
      "cell_type": "markdown",
      "metadata": {
        "id": "JpjJxXvONx1N"
      },
      "source": [
        "## <center>Collaborative Filtering<center>"
      ]
    },
    {
      "cell_type": "markdown",
      "metadata": {
        "id": "DwPPXYCXD9gb"
      },
      "source": [
        "### Data Preprocessing untuk Collaborative Filtering\n",
        "\n",
        "Dalam **Collaborative Filtering**, format data yang digunakan untuk membuat rekomendasi adalah matrix user-anime, dimana setiap baris mewakili user dan kolom mewakili anime dengan value di dalam matriks menunjukkan rating yang diberikan oleh user tersebut.\n",
        "\n",
        "Proses preprocessing data bertujuan untuk mengonversi data mentah menjadi format ini dan memastikan integritas serta keakuratan data. Agar martix yang dibuat dan hasil rekomendasi optimal, terdapat beberapa langkah yang dilakukan.\n",
        "\n",
        "1. **Penghapusan Rating Tidak Valid** <br>\n",
        "User yang tidak melakukan rating akan dihapus karena data tersebut tidak berarti dalam Collaborative Filtering yang akan dibangun dan akan menyebabkan meningkatnya noise dan tingkat komputasi yang dibutuhkan.\n",
        "\n",
        "2. **Penghapusan Data Duplikat** <br>\n",
        "Baris data yang duplikat hanya menambahkan bias dimana seolah-olah ada dua atau lebih user yang berbeda memberikan suatu rating, namun nyatanya data tersebut hanya merepresentasikan satu user saja.\n",
        "\n",
        "3. **Penggabungan Data Anime dan Rating** <br>\n",
        "Penggabungan dilakukan untuk integrasi anime dan user ke dalam satu DataFrame. Dengan menggabungkan data anime dan user, suatu anime dapat melihat bagaimana anime tersebut dirating oleh berbagai user dan suatu user dapat melihat kemiripan dengan user lain."
      ]
    },
    {
      "cell_type": "code",
      "execution_count": 16,
      "metadata": {
        "id": "zW_IvlqBD9gb"
      },
      "outputs": [],
      "source": [
        "# Membuat data baru untuk dilakukan pre-processing\n",
        "animeFeatureCF = animeDf.copy()\n",
        "ratingFeatureCF = ratingDf.copy()"
      ]
    },
    {
      "cell_type": "markdown",
      "metadata": {
        "id": "3SxAWrKED9gb"
      },
      "source": [
        "#### Menghapus pengguna dengan rating yang tidak valid\n",
        "\n",
        "Rating yang tidak valid memiliki nilai -1 dan tidak berarti apa-apa untuk **Collaborative Filtering**, maka data rating tersebut akan dihapus"
      ]
    },
    {
      "cell_type": "code",
      "execution_count": 17,
      "metadata": {
        "colab": {
          "base_uri": "https://localhost:8080/"
        },
        "id": "VL131S5qD9gb",
        "outputId": "31e26186-64e3-4a71-f3f8-6139e83f0554"
      },
      "outputs": [
        {
          "name": "stdout",
          "output_type": "stream",
          "text": [
            "Data rating dengan nilai rating -1 : 186054\n"
          ]
        }
      ],
      "source": [
        "# Melihat jumlah nilai rating yang tidak valid pada data\n",
        "print('Data rating dengan nilai rating -1 :', ratingFeatureCF.loc[ratingFeatureCF['rating'] == -1].shape[0])\n",
        "\n",
        "# Menghapus baris data dengan rating -1\n",
        "ratingFeatureCF = ratingFeatureCF.loc[ratingFeatureCF['rating'] != -1]"
      ]
    },
    {
      "cell_type": "markdown",
      "metadata": {
        "id": "l-_zelX7iC-B"
      },
      "source": [
        "#### Menghapus Duplikat dalam Data\n",
        "\n",
        "Data duplikat dihapus karena dapat menyebabkan bias dalam perhitungan similarity dan memperlambat proses komputasi karena harus menghitung titik data yang sama lebih dari sekali"
      ]
    },
    {
      "cell_type": "code",
      "execution_count": 18,
      "metadata": {
        "colab": {
          "base_uri": "https://localhost:8080/"
        },
        "id": "GXVvlcUCD9gb",
        "outputId": "8ec5ae3c-5615-4ffc-b9c3-84b93864f82e"
      },
      "outputs": [
        {
          "name": "stdout",
          "output_type": "stream",
          "text": [
            "Jumlah duplikat di animeFeatureCF: 0\n",
            "Jumlah duplikat di ratingFeatureCF: 0\n"
          ]
        }
      ],
      "source": [
        "# Menghitung jumlah duplikat di animeFeatureCF\n",
        "print('Jumlah duplikat di animeFeatureCF:', animeFeatureCF.duplicated().sum())\n",
        "\n",
        "# Menghitung jumlah duplikat di ratingFeatureCF\n",
        "print('Jumlah duplikat di ratingFeatureCF:', ratingFeatureCF.duplicated().sum())"
      ]
    },
    {
      "cell_type": "code",
      "execution_count": 19,
      "metadata": {
        "id": "f3Z-tKYjD9gc"
      },
      "outputs": [],
      "source": [
        "# Menghapus data duplikat dari DataFrame\n",
        "ratingFeatureCF.drop_duplicates(inplace=True)"
      ]
    },
    {
      "cell_type": "markdown",
      "metadata": {},
      "source": [
        "#### Menghapus User yang Memberikan Rating Sedikit"
      ]
    },
    {
      "cell_type": "code",
      "execution_count": 20,
      "metadata": {
        "colab": {
          "base_uri": "https://localhost:8080/"
        },
        "id": "WqtntGLqTr3x",
        "outputId": "1f887fa1-9d94-4487-cc88-3d3136e5d0a2"
      },
      "outputs": [
        {
          "name": "stdout",
          "output_type": "stream",
          "text": [
            "Jumlah user dengan rating kurang dari 25: 1101\n"
          ]
        }
      ],
      "source": [
        "# Melihat user dengan jumlah rating kurang dari 25\n",
        "userRatingCount = ratingFeatureCF.groupby('user_id')['rating'].count()\n",
        "usersWithLessRatings = userRatingCount[userRatingCount < 5].index\n",
        "\n",
        "print('Jumlah user dengan rating kurang dari 25:', len(usersWithLessRatings))\n",
        "\n",
        "# Menghapus user dengan rating kurang dari 25\n",
        "ratingFeatureCF = ratingFeatureCF[~ratingFeatureCF['user_id'].isin(usersWithLessRatings)]\n"
      ]
    },
    {
      "cell_type": "markdown",
      "metadata": {},
      "source": [
        "#### Menghapus Anime yang Menerima Rating Sedikit"
      ]
    },
    {
      "cell_type": "code",
      "execution_count": 21,
      "metadata": {},
      "outputs": [],
      "source": [
        "# Menghitung jumlah rating yang diterima setiap anime\n",
        "animeRatingCount = ratingFeatureCF.groupby('anime_id').size()\n",
        "# Mengambil data anime dengan rating lebih dari 50\n",
        "animeRatingCountFiltered = animeRatingCount[animeRatingCount >= 10].index\n",
        "\n",
        "# Mengambil hanya anime dengan jumlah rating lebih dari 50 pada kedua dataset\n",
        "ratingFeatureCF = ratingFeatureCF[ratingFeatureCF['anime_id'].isin(animeRatingCountFiltered)]\n",
        "animeFeatureCF = animeFeatureCF[animeFeatureCF['anime_id'].isin(animeRatingCountFiltered)]"
      ]
    },
    {
      "cell_type": "markdown",
      "metadata": {
        "id": "OjfpA1rQiT5A"
      },
      "source": [
        "#### Menggabungkan Data Anime dan Rating\n",
        "\n",
        "Penggabungan dilakukan untuk mengintegrasikan data anime dan user sehingga dapat melihat kemiripan suatu user dengan user yang lain berasarkan rating yang diberikan oleh user tersebut"
      ]
    },
    {
      "cell_type": "code",
      "execution_count": 22,
      "metadata": {
        "colab": {
          "base_uri": "https://localhost:8080/",
          "height": 487
        },
        "id": "Cu205kAgD9gc",
        "outputId": "597c5c32-b23c-4bef-d25c-8eab085c6441"
      },
      "outputs": [
        {
          "data": {
            "text/html": [
              "<div>\n",
              "<style scoped>\n",
              "    .dataframe tbody tr th:only-of-type {\n",
              "        vertical-align: middle;\n",
              "    }\n",
              "\n",
              "    .dataframe tbody tr th {\n",
              "        vertical-align: top;\n",
              "    }\n",
              "\n",
              "    .dataframe thead th {\n",
              "        text-align: right;\n",
              "    }\n",
              "</style>\n",
              "<table border=\"1\" class=\"dataframe\">\n",
              "  <thead>\n",
              "    <tr style=\"text-align: right;\">\n",
              "      <th></th>\n",
              "      <th>anime_id</th>\n",
              "      <th>anime_title</th>\n",
              "      <th>genre</th>\n",
              "      <th>type</th>\n",
              "      <th>episodes</th>\n",
              "      <th>rating</th>\n",
              "      <th>members</th>\n",
              "      <th>user_id</th>\n",
              "      <th>rating_user</th>\n",
              "    </tr>\n",
              "  </thead>\n",
              "  <tbody>\n",
              "    <tr>\n",
              "      <th>0</th>\n",
              "      <td>32281</td>\n",
              "      <td>Kimi no Na wa.</td>\n",
              "      <td>Drama, Romance, School, Supernatural</td>\n",
              "      <td>Movie</td>\n",
              "      <td>1.0</td>\n",
              "      <td>9.37</td>\n",
              "      <td>200630</td>\n",
              "      <td>99</td>\n",
              "      <td>5</td>\n",
              "    </tr>\n",
              "    <tr>\n",
              "      <th>1</th>\n",
              "      <td>32281</td>\n",
              "      <td>Kimi no Na wa.</td>\n",
              "      <td>Drama, Romance, School, Supernatural</td>\n",
              "      <td>Movie</td>\n",
              "      <td>1.0</td>\n",
              "      <td>9.37</td>\n",
              "      <td>200630</td>\n",
              "      <td>152</td>\n",
              "      <td>10</td>\n",
              "    </tr>\n",
              "    <tr>\n",
              "      <th>2</th>\n",
              "      <td>32281</td>\n",
              "      <td>Kimi no Na wa.</td>\n",
              "      <td>Drama, Romance, School, Supernatural</td>\n",
              "      <td>Movie</td>\n",
              "      <td>1.0</td>\n",
              "      <td>9.37</td>\n",
              "      <td>200630</td>\n",
              "      <td>244</td>\n",
              "      <td>10</td>\n",
              "    </tr>\n",
              "    <tr>\n",
              "      <th>3</th>\n",
              "      <td>32281</td>\n",
              "      <td>Kimi no Na wa.</td>\n",
              "      <td>Drama, Romance, School, Supernatural</td>\n",
              "      <td>Movie</td>\n",
              "      <td>1.0</td>\n",
              "      <td>9.37</td>\n",
              "      <td>200630</td>\n",
              "      <td>271</td>\n",
              "      <td>10</td>\n",
              "    </tr>\n",
              "    <tr>\n",
              "      <th>4</th>\n",
              "      <td>32281</td>\n",
              "      <td>Kimi no Na wa.</td>\n",
              "      <td>Drama, Romance, School, Supernatural</td>\n",
              "      <td>Movie</td>\n",
              "      <td>1.0</td>\n",
              "      <td>9.37</td>\n",
              "      <td>200630</td>\n",
              "      <td>322</td>\n",
              "      <td>10</td>\n",
              "    </tr>\n",
              "  </tbody>\n",
              "</table>\n",
              "</div>"
            ],
            "text/plain": [
              "   anime_id     anime_title                                 genre   type  \\\n",
              "0     32281  Kimi no Na wa.  Drama, Romance, School, Supernatural  Movie   \n",
              "1     32281  Kimi no Na wa.  Drama, Romance, School, Supernatural  Movie   \n",
              "2     32281  Kimi no Na wa.  Drama, Romance, School, Supernatural  Movie   \n",
              "3     32281  Kimi no Na wa.  Drama, Romance, School, Supernatural  Movie   \n",
              "4     32281  Kimi no Na wa.  Drama, Romance, School, Supernatural  Movie   \n",
              "\n",
              "   episodes  rating  members  user_id  rating_user  \n",
              "0       1.0    9.37   200630       99            5  \n",
              "1       1.0    9.37   200630      152           10  \n",
              "2       1.0    9.37   200630      244           10  \n",
              "3       1.0    9.37   200630      271           10  \n",
              "4       1.0    9.37   200630      322           10  "
            ]
          },
          "execution_count": 22,
          "metadata": {},
          "output_type": "execute_result"
        }
      ],
      "source": [
        "# Menggabungkan data anime dan rating\n",
        "mergedData = pd.merge(animeFeatureCF, ratingFeatureCF, on='anime_id', suffixes=['', '_user'])\n",
        "\n",
        "mergedData.head() # Contoh data yang sudah dimerge"
      ]
    },
    {
      "cell_type": "markdown",
      "metadata": {
        "id": "0_6D_rC-kkhq"
      },
      "source": [
        "### Weighted Collaborative Filtering\n",
        "\n",
        "**Pengertian Collaborative Filtering** <br>\n",
        "Collaborative Filtering adalah teknik dalam sistem rekomendasi yang menggunakan pola perilaku dan preferensi user untuk memprediksi anime yang mungkin disukai oleh user lain. Teknik ini memanfaatkan data rating yang diberikan user pada berbagai anime untuk menemukan kesamaan dalam preferensi dan memberikan rekomendasi yang relevan.\n",
        "<br> <br>\n",
        "\n",
        "**Kelebihan Collaborative Filtering** <br>\n",
        "1. **Personalisasi yang Tinggi** <br>\n",
        "Memberikan rekomendasi yang sangat dipersonalisasi berdasarkan preferensi user.\n",
        "2. **Tidak Memerlukan Data Eksternal** <br>\n",
        "Hanya membutuhkan data interaksi user dengan anime, tidak perlu informasi tambahan terkait anime atau user tersendiri.\n",
        "3. **Adaptif** <br>\n",
        "Dapat menyesuaikan dengan perubahan preferensi user dari waktu ke waktu.\n",
        "\n",
        "**Kekurangan Collaborative Filtering** <br>\n",
        "1. **Masalah Data Sparsity** <br>\n",
        "Matriks user-anme sering kali sangat ebsar dan jarang terisi, hal ini dapat menyebabkan kebutuhan tingkat komputasi yang tinggi\n",
        "2. **Cold Start Problem** <br>\n",
        "Sulit memberikan rekomendasi akurat untuk user baru atau anime baru yang belum memiliki banyak rating\n",
        "3. **Scalability** <br>\n",
        "Mengelola dan menghitung kesamaan dalam dataset besar dapat membutuhkan tingkat komputasi yang tinggi.\n",
        "<br><br>\n",
        "\n",
        "**Collaborative Filtering dengan Cosine Similarity & Euclidean Distance** <br>\n",
        "Collaborative Filtering dengan `Euclidean Distance` adalah metode dimana kesamaan antar user dihitung menggunakan metric Euclidean. Ini mengukur jarak garis lurus antara dua titik. Dengan ini, Euclidean Distance digunakan untuk mengukur seberapa mirip dua user atau anime berdasarkan rating yang diberikan. Semakin kecil jarak Euclidean, semakin mirip user tersebut terhadap user lain.\n",
        "\n",
        "Jika dua user memberikan rating yang sangat mirip untuk beberapa anime, jarak Euclidean antara mereka akan kecil, menandakan bahwa preferensi mereka mirip. Berdasarkan ini, sistem rekomendasi dapat merekomendasikan anime yang disukai oleh satu user terhadap user lainnya.\n",
        "\n",
        "Collaborative Filtering dengan `Cosine Similarity` adalah metode dimana kesamaan antar user dihitung menggunaakn metrik Cosine Similarity. Cosine Similarity mengukur kesamaan antara dua vektor dengan menghitung cosinus dari sudut di antara mereka. Ini sering digunakan karena mengabaikan magnitudo dan hanya mengabaikan pertimbangan orientasi, yang berguna dalam mengukur kesamaan pola rating meskipun skalanya berebeda.\n",
        "\n",
        "Jika dua user memberikan rating yang memiliki pola serupa (suka atau tidak suka anime yang sama), maka Cosine Similarity antara mereka akan tinggi, menandakan bahwa preferensi mereka serupa. Berdasarkan ini, sistem rekomendasi dapat merekomendasikan anime yang disukai oleh suatu pengguna kepada pengguna lainnya.\n",
        "<br><br>\n",
        "\n",
        "**Weighted Collaborative Filtering** <br>\n",
        "Model terbaik akan diimplementasikan suatu weight tertentu terhadap hasil rekomendasi. Ini dilakukan dengan menambahkan bobot pada anime tertentu berasarkan atribut atau kriteria tambahan untuk meningkatkan akurasi rekomendasi. Misalnya, dalam rekomendasi anime, sistem rekomendasi dapat memberikan bobot lebih pada anime dengan format populer (TV, OVA, Movie), rating tinggi, atau jumlah episode tertentu untuk meningkatkan relevansi rekomendasi.\n",
        "<br><br>\n",
        "\n",
        "**Skema Pengujian** <br>\n",
        "Mean Absolute Error (MAE) akan digunakan sebagai metrik evaluasi utama untuk mengukur performa dari sistem rekomendasi yang dibuat. MAE mengukur seberapa besar rata-rata kesalahan antara rating yang diprediksi oleh model dan rating yang sebenarnya diberikan pengguna. Semakin rendah nilai MAE, semakin baik kinerja model dalam memprediksi. MAE memberikan gambaran sederhana namun efektif tentang akurasi prediksi model. `Model terbaik akan dipilih berdasarkan nilai MAE terkecil`\n",
        "<br><br>\n",
        "\n",
        "**Finetuning Weight pada Model Terbaik** <br>\n",
        "Finetuning weight pada model terbaik akan dilakukan untuk meningkatkan kinerja model. Proses ini melibatkan penyesuaian bobot yang diberikan pada kriteria tertentu (format populer, rating tinggi, dan jumlah episode) untuk meningkatkan kinerja model. Proses ini dilakukan melalui grid search untuk menemukan kombinasi bobot terbaik. Grid search menguji berbagai kombinasi parameter untuk mengidentifikasi yang menghasilkan kinerja terbaik berdasarkan MAE.\n"
      ]
    },
    {
      "cell_type": "markdown",
      "metadata": {
        "id": "GNd2ooLxnklg"
      },
      "source": [
        "#### Mengambil Data yang Relevan untuk Collaborative Filtering\n",
        "\n",
        "Kolom `user_id` digunakan mengidentifikasi suatu user, sedangkan `anime_id` mengidentifikasi suatu anime, sedangkran `rating_user` menyediakan inforasi tentang penilaian user terhadap suatu anime. Informasi ini cukup untuk membentuk matrix user-anime atau pivot table yang menjadi dasar model.\n",
        "\n",
        "Kolom lain seperti genre atau jumlah episode tidak diperlukan karena pada **Collaborative Filtering** berfokus pada pola kesamaan antara user dengan user lain."
      ]
    },
    {
      "cell_type": "code",
      "execution_count": 23,
      "metadata": {
        "colab": {
          "base_uri": "https://localhost:8080/",
          "height": 206
        },
        "id": "sZVs_EPzD9gi",
        "outputId": "b0d2ebf7-7666-42eb-9779-dcc45317303f"
      },
      "outputs": [
        {
          "data": {
            "text/html": [
              "<div>\n",
              "<style scoped>\n",
              "    .dataframe tbody tr th:only-of-type {\n",
              "        vertical-align: middle;\n",
              "    }\n",
              "\n",
              "    .dataframe tbody tr th {\n",
              "        vertical-align: top;\n",
              "    }\n",
              "\n",
              "    .dataframe thead th {\n",
              "        text-align: right;\n",
              "    }\n",
              "</style>\n",
              "<table border=\"1\" class=\"dataframe\">\n",
              "  <thead>\n",
              "    <tr style=\"text-align: right;\">\n",
              "      <th></th>\n",
              "      <th>user_id</th>\n",
              "      <th>anime_id</th>\n",
              "      <th>rating_user</th>\n",
              "    </tr>\n",
              "  </thead>\n",
              "  <tbody>\n",
              "    <tr>\n",
              "      <th>0</th>\n",
              "      <td>99</td>\n",
              "      <td>32281</td>\n",
              "      <td>5</td>\n",
              "    </tr>\n",
              "    <tr>\n",
              "      <th>1</th>\n",
              "      <td>152</td>\n",
              "      <td>32281</td>\n",
              "      <td>10</td>\n",
              "    </tr>\n",
              "    <tr>\n",
              "      <th>2</th>\n",
              "      <td>244</td>\n",
              "      <td>32281</td>\n",
              "      <td>10</td>\n",
              "    </tr>\n",
              "    <tr>\n",
              "      <th>3</th>\n",
              "      <td>271</td>\n",
              "      <td>32281</td>\n",
              "      <td>10</td>\n",
              "    </tr>\n",
              "    <tr>\n",
              "      <th>4</th>\n",
              "      <td>322</td>\n",
              "      <td>32281</td>\n",
              "      <td>10</td>\n",
              "    </tr>\n",
              "  </tbody>\n",
              "</table>\n",
              "</div>"
            ],
            "text/plain": [
              "   user_id  anime_id  rating_user\n",
              "0       99     32281            5\n",
              "1      152     32281           10\n",
              "2      244     32281           10\n",
              "3      271     32281           10\n",
              "4      322     32281           10"
            ]
          },
          "execution_count": 23,
          "metadata": {},
          "output_type": "execute_result"
        }
      ],
      "source": [
        "# Mengambil kolom yang relevan\n",
        "userRatings = mergedData[['user_id', 'anime_id', 'rating_user']]\n",
        "\n",
        "# Menghapus data user yang memberi rating ke anime yang sama\n",
        "userRatings = userRatings.drop_duplicates(subset=['user_id', 'anime_id'])\n",
        "\n",
        "userRatings.head() # Contoh data yang digunakan"
      ]
    },
    {
      "cell_type": "markdown",
      "metadata": {
        "id": "rsE_3YY1qXIw"
      },
      "source": [
        "#### Split Data Latih dan Data Uji\n",
        "\n",
        "Membagi data menjadi data latih dan data uji bertujuan untuk mengeevaluasi kinerja model secara objektif dan mencegah overfitting. **Data latih** digunakan untuk melatih model sehingga dapat mengenali pola dan hubungan dalam data, sedangkan **data uji** digunakan untuk menguji model yang telah dilatih untuk menilai performa dan generalisasi dari model tersebut.\n",
        "\n",
        "Data uji yang digunakan hanya $1\\%$ dari keseluruhan data, mengingat jumlah data yang mencapai jutaan dan masalah keterbatasan komputasi saat melakukan pengujian."
      ]
    },
    {
      "cell_type": "code",
      "execution_count": 24,
      "metadata": {
        "colab": {
          "base_uri": "https://localhost:8080/"
        },
        "id": "POVYzptUD9gi",
        "outputId": "0ffbb2c9-2a64-4ff5-f8aa-78e6aaf57ecd"
      },
      "outputs": [
        {
          "name": "stdout",
          "output_type": "stream",
          "text": [
            "Banyaknya data latih: 640045\n",
            "Banyaknya data uji: 160012\n"
          ]
        }
      ],
      "source": [
        "# Split data latih dan data uji\n",
        "trainData, testData = train_test_split(userRatings, test_size=0.2, random_state=42)\n",
        "\n",
        "# Cetak banyaknya data latih dan uji\n",
        "print('Banyaknya data latih:', trainData.shape[0])\n",
        "print('Banyaknya data uji:', testData.shape[0])"
      ]
    },
    {
      "cell_type": "markdown",
      "metadata": {
        "id": "lumR6R-Z0zV4"
      },
      "source": [
        "#### Membuat Pivot Table\n",
        "\n",
        "Dalam Collaborative Filtering, pivot table digunakan untuk menyusun informasi user dan anime dalam format matriks, di mana baris mewakili anime dan kolom mewakili user. Nilai dalam pivot table ini adalah rating yang diberikan pengguna terhadap item tersebut, dimana 0 berarti user belum memberikan rating terhadap anime tersebut.\n",
        "\n",
        "**Tujuan Pivot Table** <br>\n",
        "1. **Struktur Data yang Jelas** <br>\n",
        "Mengorganisasi data sehingga hubungan antara anime dan user menjadi lebih jelas.\n",
        "2. **Kemudahan Perhitungan** <br>\n",
        "Mempermuhdah perhitungan kesamaan antara pengguna karena dapat direpresentasikan menjadi vektor.\n",
        "\n",
        "`allPivot` merupakan pivot table yang dibuat dari seluruh data rating pengguna. Ini digunakan untuk memastikan bahwa semua informasi rating tersedia dan digunakan untuk prediksi dalam model rekomendasi.\n",
        "\n",
        "`trainPivot` merupakan pivot table yang dibuat dari data latih. Ini digunakan untuk melatih model rekomendasi, sehingga model dapat menangani pola-pola dalam data rating yang ada. Dengan memisahkan data latih, kita dapat mengukur kinerja model dengan uji coba secara objektif"
      ]
    },
    {
      "cell_type": "code",
      "execution_count": 25,
      "metadata": {
        "id": "bqdXvmj1D9gi"
      },
      "outputs": [],
      "source": [
        "# Membuat sparse matrix yang bersumber dari keseluruhan data\n",
        "allPivot = userRatings.pivot(index='anime_id', columns='user_id', values='rating_user').fillna(0)\n",
        "# membuat sparse matrix yang bersumber dari data latih\n",
        "trainPivot = trainData.pivot(index='anime_id', columns='user_id', values='rating_user').fillna(0)"
      ]
    },
    {
      "cell_type": "code",
      "execution_count": 26,
      "metadata": {
        "colab": {
          "base_uri": "https://localhost:8080/",
          "height": 287
        },
        "id": "BwndDloS6vxH",
        "outputId": "52bf6f1a-4503-4ae0-9ef9-6fced6199dd3"
      },
      "outputs": [
        {
          "data": {
            "text/html": [
              "<div>\n",
              "<style scoped>\n",
              "    .dataframe tbody tr th:only-of-type {\n",
              "        vertical-align: middle;\n",
              "    }\n",
              "\n",
              "    .dataframe tbody tr th {\n",
              "        vertical-align: top;\n",
              "    }\n",
              "\n",
              "    .dataframe thead th {\n",
              "        text-align: right;\n",
              "    }\n",
              "</style>\n",
              "<table border=\"1\" class=\"dataframe\">\n",
              "  <thead>\n",
              "    <tr style=\"text-align: right;\">\n",
              "      <th>user_id</th>\n",
              "      <th>3</th>\n",
              "      <th>5</th>\n",
              "      <th>7</th>\n",
              "      <th>8</th>\n",
              "      <th>11</th>\n",
              "      <th>12</th>\n",
              "      <th>14</th>\n",
              "      <th>16</th>\n",
              "      <th>17</th>\n",
              "      <th>18</th>\n",
              "      <th>...</th>\n",
              "      <th>9347</th>\n",
              "      <th>9348</th>\n",
              "      <th>9349</th>\n",
              "      <th>9350</th>\n",
              "      <th>9351</th>\n",
              "      <th>9352</th>\n",
              "      <th>9353</th>\n",
              "      <th>9355</th>\n",
              "      <th>9356</th>\n",
              "      <th>9357</th>\n",
              "    </tr>\n",
              "    <tr>\n",
              "      <th>anime_id</th>\n",
              "      <th></th>\n",
              "      <th></th>\n",
              "      <th></th>\n",
              "      <th></th>\n",
              "      <th></th>\n",
              "      <th></th>\n",
              "      <th></th>\n",
              "      <th></th>\n",
              "      <th></th>\n",
              "      <th></th>\n",
              "      <th></th>\n",
              "      <th></th>\n",
              "      <th></th>\n",
              "      <th></th>\n",
              "      <th></th>\n",
              "      <th></th>\n",
              "      <th></th>\n",
              "      <th></th>\n",
              "      <th></th>\n",
              "      <th></th>\n",
              "      <th></th>\n",
              "    </tr>\n",
              "  </thead>\n",
              "  <tbody>\n",
              "    <tr>\n",
              "      <th>1</th>\n",
              "      <td>0.0</td>\n",
              "      <td>0.0</td>\n",
              "      <td>0.0</td>\n",
              "      <td>0.0</td>\n",
              "      <td>0.0</td>\n",
              "      <td>0.0</td>\n",
              "      <td>0.0</td>\n",
              "      <td>0.0</td>\n",
              "      <td>0.0</td>\n",
              "      <td>0.0</td>\n",
              "      <td>...</td>\n",
              "      <td>9.0</td>\n",
              "      <td>0.0</td>\n",
              "      <td>0.0</td>\n",
              "      <td>0.0</td>\n",
              "      <td>0.0</td>\n",
              "      <td>0.0</td>\n",
              "      <td>0.0</td>\n",
              "      <td>0.0</td>\n",
              "      <td>0.0</td>\n",
              "      <td>0.0</td>\n",
              "    </tr>\n",
              "    <tr>\n",
              "      <th>5</th>\n",
              "      <td>0.0</td>\n",
              "      <td>0.0</td>\n",
              "      <td>0.0</td>\n",
              "      <td>0.0</td>\n",
              "      <td>0.0</td>\n",
              "      <td>0.0</td>\n",
              "      <td>0.0</td>\n",
              "      <td>0.0</td>\n",
              "      <td>0.0</td>\n",
              "      <td>0.0</td>\n",
              "      <td>...</td>\n",
              "      <td>0.0</td>\n",
              "      <td>0.0</td>\n",
              "      <td>0.0</td>\n",
              "      <td>0.0</td>\n",
              "      <td>0.0</td>\n",
              "      <td>0.0</td>\n",
              "      <td>0.0</td>\n",
              "      <td>0.0</td>\n",
              "      <td>0.0</td>\n",
              "      <td>0.0</td>\n",
              "    </tr>\n",
              "    <tr>\n",
              "      <th>6</th>\n",
              "      <td>0.0</td>\n",
              "      <td>0.0</td>\n",
              "      <td>0.0</td>\n",
              "      <td>0.0</td>\n",
              "      <td>0.0</td>\n",
              "      <td>0.0</td>\n",
              "      <td>0.0</td>\n",
              "      <td>0.0</td>\n",
              "      <td>7.0</td>\n",
              "      <td>0.0</td>\n",
              "      <td>...</td>\n",
              "      <td>8.0</td>\n",
              "      <td>0.0</td>\n",
              "      <td>0.0</td>\n",
              "      <td>0.0</td>\n",
              "      <td>0.0</td>\n",
              "      <td>0.0</td>\n",
              "      <td>0.0</td>\n",
              "      <td>0.0</td>\n",
              "      <td>0.0</td>\n",
              "      <td>0.0</td>\n",
              "    </tr>\n",
              "    <tr>\n",
              "      <th>7</th>\n",
              "      <td>0.0</td>\n",
              "      <td>0.0</td>\n",
              "      <td>0.0</td>\n",
              "      <td>0.0</td>\n",
              "      <td>0.0</td>\n",
              "      <td>0.0</td>\n",
              "      <td>0.0</td>\n",
              "      <td>0.0</td>\n",
              "      <td>0.0</td>\n",
              "      <td>0.0</td>\n",
              "      <td>...</td>\n",
              "      <td>0.0</td>\n",
              "      <td>0.0</td>\n",
              "      <td>0.0</td>\n",
              "      <td>0.0</td>\n",
              "      <td>0.0</td>\n",
              "      <td>0.0</td>\n",
              "      <td>0.0</td>\n",
              "      <td>0.0</td>\n",
              "      <td>0.0</td>\n",
              "      <td>0.0</td>\n",
              "    </tr>\n",
              "    <tr>\n",
              "      <th>8</th>\n",
              "      <td>0.0</td>\n",
              "      <td>0.0</td>\n",
              "      <td>0.0</td>\n",
              "      <td>0.0</td>\n",
              "      <td>0.0</td>\n",
              "      <td>0.0</td>\n",
              "      <td>0.0</td>\n",
              "      <td>0.0</td>\n",
              "      <td>0.0</td>\n",
              "      <td>0.0</td>\n",
              "      <td>...</td>\n",
              "      <td>0.0</td>\n",
              "      <td>0.0</td>\n",
              "      <td>0.0</td>\n",
              "      <td>0.0</td>\n",
              "      <td>0.0</td>\n",
              "      <td>0.0</td>\n",
              "      <td>0.0</td>\n",
              "      <td>0.0</td>\n",
              "      <td>0.0</td>\n",
              "      <td>0.0</td>\n",
              "    </tr>\n",
              "  </tbody>\n",
              "</table>\n",
              "<p>5 rows × 7756 columns</p>\n",
              "</div>"
            ],
            "text/plain": [
              "user_id   3     5     7     8     11    12    14    16    17    18    ...  \\\n",
              "anime_id                                                              ...   \n",
              "1          0.0   0.0   0.0   0.0   0.0   0.0   0.0   0.0   0.0   0.0  ...   \n",
              "5          0.0   0.0   0.0   0.0   0.0   0.0   0.0   0.0   0.0   0.0  ...   \n",
              "6          0.0   0.0   0.0   0.0   0.0   0.0   0.0   0.0   7.0   0.0  ...   \n",
              "7          0.0   0.0   0.0   0.0   0.0   0.0   0.0   0.0   0.0   0.0  ...   \n",
              "8          0.0   0.0   0.0   0.0   0.0   0.0   0.0   0.0   0.0   0.0  ...   \n",
              "\n",
              "user_id   9347  9348  9349  9350  9351  9352  9353  9355  9356  9357  \n",
              "anime_id                                                              \n",
              "1          9.0   0.0   0.0   0.0   0.0   0.0   0.0   0.0   0.0   0.0  \n",
              "5          0.0   0.0   0.0   0.0   0.0   0.0   0.0   0.0   0.0   0.0  \n",
              "6          8.0   0.0   0.0   0.0   0.0   0.0   0.0   0.0   0.0   0.0  \n",
              "7          0.0   0.0   0.0   0.0   0.0   0.0   0.0   0.0   0.0   0.0  \n",
              "8          0.0   0.0   0.0   0.0   0.0   0.0   0.0   0.0   0.0   0.0  \n",
              "\n",
              "[5 rows x 7756 columns]"
            ]
          },
          "execution_count": 26,
          "metadata": {},
          "output_type": "execute_result"
        }
      ],
      "source": [
        "trainPivot.head() # Contoh sparse matrix"
      ]
    },
    {
      "cell_type": "code",
      "execution_count": 27,
      "metadata": {},
      "outputs": [
        {
          "data": {
            "text/plain": [
              "(4565, 7756)"
            ]
          },
          "execution_count": 27,
          "metadata": {},
          "output_type": "execute_result"
        }
      ],
      "source": [
        "trainPivot.shape"
      ]
    },
    {
      "cell_type": "markdown",
      "metadata": {
        "id": "uCv4psI71Arn"
      },
      "source": [
        "#### Membuat Compressed Sparse Row (CSR)\n",
        "\n",
        "CSR adalah format penyimpanan matriks yang digunakan untuk menyimpan sparse matrix secara efisian dalam memori. CSR terdiri dari tiga komponen utama, yaitu\n",
        "1. **Data**: Array satu dimensi yang berisi semua elemen non-nol dari matriks.\n",
        "2. **Indices**: Array satu dimensi yang berisi indeks kolom untuk setiap elemen dalam array data.\n",
        "3. **Index Pointer**: Array satu dimensi yang berisi indeks dalam array data yang memulai setiap baris dari matriks.\n",
        "\n",
        "format CSR digunakan oleh SciKit Learn `NearestNeighbor` sebagai input data latih. Ini memungkinkan model untuk memanfaatkan struktur data yang lebih ringan dan lebih cepat dibandingkan sparse matrix."
      ]
    },
    {
      "cell_type": "code",
      "execution_count": 28,
      "metadata": {
        "id": "RQWwU9x2Chdz"
      },
      "outputs": [],
      "source": [
        "# Buat CSR dari sparse matrix (pivot table)\n",
        "allCSR = csr_matrix(allPivot.values)\n",
        "trainCSR = csr_matrix(trainPivot.values)"
      ]
    },
    {
      "cell_type": "markdown",
      "metadata": {
        "id": "mTF2-x40C59G"
      },
      "source": [
        "#### Model dengan Euclidean Distance\n",
        "\n",
        "**Euclidean Distance** adalah ukuran jarak garis lurus antara dua titik dalam ruang multidimensi. Ini digunakan untuk mengukur kemiripan antar user berdasrakan pola rating yang diberikan. Ini dihitung dari sparse matrix yang sudah dibuat.\n",
        "\n",
        "**Cara Kerja Euclidean Distance**\n",
        "1. **Menghitung Jarak Euclidean** <br>\n",
        "Jarak Euclidean antara vektor rating pengguna dihitung untuk menentukan kemiripan mereka. Semakin kecil jaraknya, semakin mirip preferensi pengguna tersebut.\n",
        "2. **Menemukan User Serupa** <br>\n",
        "User yang memiliki jarak euclidean yang kecil mengindikasikan kemiripan antara dua user tersebut. Semakin kecil jaraknya, semakin mirip preferensi pengguna tersebut.\n",
        "3. **Memberikan Rekomendasi** <br>\n",
        "Setelah menemukan pengguna yang mirip, sistem memberikan rekomendasi berdasarkan anime yang diberi rating tinggi oleh user serupa yang belum pernah dirating oleh pengguna target."
      ]
    },
    {
      "cell_type": "code",
      "execution_count": 29,
      "metadata": {
        "colab": {
          "base_uri": "https://localhost:8080/",
          "height": 75
        },
        "id": "-unp0yo9Curx",
        "outputId": "bf569048-5776-4bad-bd55-a6cce2d2ae02"
      },
      "outputs": [
        {
          "data": {
            "text/html": [
              "<style>#sk-container-id-1 {\n",
              "  /* Definition of color scheme common for light and dark mode */\n",
              "  --sklearn-color-text: black;\n",
              "  --sklearn-color-line: gray;\n",
              "  /* Definition of color scheme for unfitted estimators */\n",
              "  --sklearn-color-unfitted-level-0: #fff5e6;\n",
              "  --sklearn-color-unfitted-level-1: #f6e4d2;\n",
              "  --sklearn-color-unfitted-level-2: #ffe0b3;\n",
              "  --sklearn-color-unfitted-level-3: chocolate;\n",
              "  /* Definition of color scheme for fitted estimators */\n",
              "  --sklearn-color-fitted-level-0: #f0f8ff;\n",
              "  --sklearn-color-fitted-level-1: #d4ebff;\n",
              "  --sklearn-color-fitted-level-2: #b3dbfd;\n",
              "  --sklearn-color-fitted-level-3: cornflowerblue;\n",
              "\n",
              "  /* Specific color for light theme */\n",
              "  --sklearn-color-text-on-default-background: var(--sg-text-color, var(--theme-code-foreground, var(--jp-content-font-color1, black)));\n",
              "  --sklearn-color-background: var(--sg-background-color, var(--theme-background, var(--jp-layout-color0, white)));\n",
              "  --sklearn-color-border-box: var(--sg-text-color, var(--theme-code-foreground, var(--jp-content-font-color1, black)));\n",
              "  --sklearn-color-icon: #696969;\n",
              "\n",
              "  @media (prefers-color-scheme: dark) {\n",
              "    /* Redefinition of color scheme for dark theme */\n",
              "    --sklearn-color-text-on-default-background: var(--sg-text-color, var(--theme-code-foreground, var(--jp-content-font-color1, white)));\n",
              "    --sklearn-color-background: var(--sg-background-color, var(--theme-background, var(--jp-layout-color0, #111)));\n",
              "    --sklearn-color-border-box: var(--sg-text-color, var(--theme-code-foreground, var(--jp-content-font-color1, white)));\n",
              "    --sklearn-color-icon: #878787;\n",
              "  }\n",
              "}\n",
              "\n",
              "#sk-container-id-1 {\n",
              "  color: var(--sklearn-color-text);\n",
              "}\n",
              "\n",
              "#sk-container-id-1 pre {\n",
              "  padding: 0;\n",
              "}\n",
              "\n",
              "#sk-container-id-1 input.sk-hidden--visually {\n",
              "  border: 0;\n",
              "  clip: rect(1px 1px 1px 1px);\n",
              "  clip: rect(1px, 1px, 1px, 1px);\n",
              "  height: 1px;\n",
              "  margin: -1px;\n",
              "  overflow: hidden;\n",
              "  padding: 0;\n",
              "  position: absolute;\n",
              "  width: 1px;\n",
              "}\n",
              "\n",
              "#sk-container-id-1 div.sk-dashed-wrapped {\n",
              "  border: 1px dashed var(--sklearn-color-line);\n",
              "  margin: 0 0.4em 0.5em 0.4em;\n",
              "  box-sizing: border-box;\n",
              "  padding-bottom: 0.4em;\n",
              "  background-color: var(--sklearn-color-background);\n",
              "}\n",
              "\n",
              "#sk-container-id-1 div.sk-container {\n",
              "  /* jupyter's `normalize.less` sets `[hidden] { display: none; }`\n",
              "     but bootstrap.min.css set `[hidden] { display: none !important; }`\n",
              "     so we also need the `!important` here to be able to override the\n",
              "     default hidden behavior on the sphinx rendered scikit-learn.org.\n",
              "     See: https://github.com/scikit-learn/scikit-learn/issues/21755 */\n",
              "  display: inline-block !important;\n",
              "  position: relative;\n",
              "}\n",
              "\n",
              "#sk-container-id-1 div.sk-text-repr-fallback {\n",
              "  display: none;\n",
              "}\n",
              "\n",
              "div.sk-parallel-item,\n",
              "div.sk-serial,\n",
              "div.sk-item {\n",
              "  /* draw centered vertical line to link estimators */\n",
              "  background-image: linear-gradient(var(--sklearn-color-text-on-default-background), var(--sklearn-color-text-on-default-background));\n",
              "  background-size: 2px 100%;\n",
              "  background-repeat: no-repeat;\n",
              "  background-position: center center;\n",
              "}\n",
              "\n",
              "/* Parallel-specific style estimator block */\n",
              "\n",
              "#sk-container-id-1 div.sk-parallel-item::after {\n",
              "  content: \"\";\n",
              "  width: 100%;\n",
              "  border-bottom: 2px solid var(--sklearn-color-text-on-default-background);\n",
              "  flex-grow: 1;\n",
              "}\n",
              "\n",
              "#sk-container-id-1 div.sk-parallel {\n",
              "  display: flex;\n",
              "  align-items: stretch;\n",
              "  justify-content: center;\n",
              "  background-color: var(--sklearn-color-background);\n",
              "  position: relative;\n",
              "}\n",
              "\n",
              "#sk-container-id-1 div.sk-parallel-item {\n",
              "  display: flex;\n",
              "  flex-direction: column;\n",
              "}\n",
              "\n",
              "#sk-container-id-1 div.sk-parallel-item:first-child::after {\n",
              "  align-self: flex-end;\n",
              "  width: 50%;\n",
              "}\n",
              "\n",
              "#sk-container-id-1 div.sk-parallel-item:last-child::after {\n",
              "  align-self: flex-start;\n",
              "  width: 50%;\n",
              "}\n",
              "\n",
              "#sk-container-id-1 div.sk-parallel-item:only-child::after {\n",
              "  width: 0;\n",
              "}\n",
              "\n",
              "/* Serial-specific style estimator block */\n",
              "\n",
              "#sk-container-id-1 div.sk-serial {\n",
              "  display: flex;\n",
              "  flex-direction: column;\n",
              "  align-items: center;\n",
              "  background-color: var(--sklearn-color-background);\n",
              "  padding-right: 1em;\n",
              "  padding-left: 1em;\n",
              "}\n",
              "\n",
              "\n",
              "/* Toggleable style: style used for estimator/Pipeline/ColumnTransformer box that is\n",
              "clickable and can be expanded/collapsed.\n",
              "- Pipeline and ColumnTransformer use this feature and define the default style\n",
              "- Estimators will overwrite some part of the style using the `sk-estimator` class\n",
              "*/\n",
              "\n",
              "/* Pipeline and ColumnTransformer style (default) */\n",
              "\n",
              "#sk-container-id-1 div.sk-toggleable {\n",
              "  /* Default theme specific background. It is overwritten whether we have a\n",
              "  specific estimator or a Pipeline/ColumnTransformer */\n",
              "  background-color: var(--sklearn-color-background);\n",
              "}\n",
              "\n",
              "/* Toggleable label */\n",
              "#sk-container-id-1 label.sk-toggleable__label {\n",
              "  cursor: pointer;\n",
              "  display: block;\n",
              "  width: 100%;\n",
              "  margin-bottom: 0;\n",
              "  padding: 0.5em;\n",
              "  box-sizing: border-box;\n",
              "  text-align: center;\n",
              "}\n",
              "\n",
              "#sk-container-id-1 label.sk-toggleable__label-arrow:before {\n",
              "  /* Arrow on the left of the label */\n",
              "  content: \"▸\";\n",
              "  float: left;\n",
              "  margin-right: 0.25em;\n",
              "  color: var(--sklearn-color-icon);\n",
              "}\n",
              "\n",
              "#sk-container-id-1 label.sk-toggleable__label-arrow:hover:before {\n",
              "  color: var(--sklearn-color-text);\n",
              "}\n",
              "\n",
              "/* Toggleable content - dropdown */\n",
              "\n",
              "#sk-container-id-1 div.sk-toggleable__content {\n",
              "  max-height: 0;\n",
              "  max-width: 0;\n",
              "  overflow: hidden;\n",
              "  text-align: left;\n",
              "  /* unfitted */\n",
              "  background-color: var(--sklearn-color-unfitted-level-0);\n",
              "}\n",
              "\n",
              "#sk-container-id-1 div.sk-toggleable__content.fitted {\n",
              "  /* fitted */\n",
              "  background-color: var(--sklearn-color-fitted-level-0);\n",
              "}\n",
              "\n",
              "#sk-container-id-1 div.sk-toggleable__content pre {\n",
              "  margin: 0.2em;\n",
              "  border-radius: 0.25em;\n",
              "  color: var(--sklearn-color-text);\n",
              "  /* unfitted */\n",
              "  background-color: var(--sklearn-color-unfitted-level-0);\n",
              "}\n",
              "\n",
              "#sk-container-id-1 div.sk-toggleable__content.fitted pre {\n",
              "  /* unfitted */\n",
              "  background-color: var(--sklearn-color-fitted-level-0);\n",
              "}\n",
              "\n",
              "#sk-container-id-1 input.sk-toggleable__control:checked~div.sk-toggleable__content {\n",
              "  /* Expand drop-down */\n",
              "  max-height: 200px;\n",
              "  max-width: 100%;\n",
              "  overflow: auto;\n",
              "}\n",
              "\n",
              "#sk-container-id-1 input.sk-toggleable__control:checked~label.sk-toggleable__label-arrow:before {\n",
              "  content: \"▾\";\n",
              "}\n",
              "\n",
              "/* Pipeline/ColumnTransformer-specific style */\n",
              "\n",
              "#sk-container-id-1 div.sk-label input.sk-toggleable__control:checked~label.sk-toggleable__label {\n",
              "  color: var(--sklearn-color-text);\n",
              "  background-color: var(--sklearn-color-unfitted-level-2);\n",
              "}\n",
              "\n",
              "#sk-container-id-1 div.sk-label.fitted input.sk-toggleable__control:checked~label.sk-toggleable__label {\n",
              "  background-color: var(--sklearn-color-fitted-level-2);\n",
              "}\n",
              "\n",
              "/* Estimator-specific style */\n",
              "\n",
              "/* Colorize estimator box */\n",
              "#sk-container-id-1 div.sk-estimator input.sk-toggleable__control:checked~label.sk-toggleable__label {\n",
              "  /* unfitted */\n",
              "  background-color: var(--sklearn-color-unfitted-level-2);\n",
              "}\n",
              "\n",
              "#sk-container-id-1 div.sk-estimator.fitted input.sk-toggleable__control:checked~label.sk-toggleable__label {\n",
              "  /* fitted */\n",
              "  background-color: var(--sklearn-color-fitted-level-2);\n",
              "}\n",
              "\n",
              "#sk-container-id-1 div.sk-label label.sk-toggleable__label,\n",
              "#sk-container-id-1 div.sk-label label {\n",
              "  /* The background is the default theme color */\n",
              "  color: var(--sklearn-color-text-on-default-background);\n",
              "}\n",
              "\n",
              "/* On hover, darken the color of the background */\n",
              "#sk-container-id-1 div.sk-label:hover label.sk-toggleable__label {\n",
              "  color: var(--sklearn-color-text);\n",
              "  background-color: var(--sklearn-color-unfitted-level-2);\n",
              "}\n",
              "\n",
              "/* Label box, darken color on hover, fitted */\n",
              "#sk-container-id-1 div.sk-label.fitted:hover label.sk-toggleable__label.fitted {\n",
              "  color: var(--sklearn-color-text);\n",
              "  background-color: var(--sklearn-color-fitted-level-2);\n",
              "}\n",
              "\n",
              "/* Estimator label */\n",
              "\n",
              "#sk-container-id-1 div.sk-label label {\n",
              "  font-family: monospace;\n",
              "  font-weight: bold;\n",
              "  display: inline-block;\n",
              "  line-height: 1.2em;\n",
              "}\n",
              "\n",
              "#sk-container-id-1 div.sk-label-container {\n",
              "  text-align: center;\n",
              "}\n",
              "\n",
              "/* Estimator-specific */\n",
              "#sk-container-id-1 div.sk-estimator {\n",
              "  font-family: monospace;\n",
              "  border: 1px dotted var(--sklearn-color-border-box);\n",
              "  border-radius: 0.25em;\n",
              "  box-sizing: border-box;\n",
              "  margin-bottom: 0.5em;\n",
              "  /* unfitted */\n",
              "  background-color: var(--sklearn-color-unfitted-level-0);\n",
              "}\n",
              "\n",
              "#sk-container-id-1 div.sk-estimator.fitted {\n",
              "  /* fitted */\n",
              "  background-color: var(--sklearn-color-fitted-level-0);\n",
              "}\n",
              "\n",
              "/* on hover */\n",
              "#sk-container-id-1 div.sk-estimator:hover {\n",
              "  /* unfitted */\n",
              "  background-color: var(--sklearn-color-unfitted-level-2);\n",
              "}\n",
              "\n",
              "#sk-container-id-1 div.sk-estimator.fitted:hover {\n",
              "  /* fitted */\n",
              "  background-color: var(--sklearn-color-fitted-level-2);\n",
              "}\n",
              "\n",
              "/* Specification for estimator info (e.g. \"i\" and \"?\") */\n",
              "\n",
              "/* Common style for \"i\" and \"?\" */\n",
              "\n",
              ".sk-estimator-doc-link,\n",
              "a:link.sk-estimator-doc-link,\n",
              "a:visited.sk-estimator-doc-link {\n",
              "  float: right;\n",
              "  font-size: smaller;\n",
              "  line-height: 1em;\n",
              "  font-family: monospace;\n",
              "  background-color: var(--sklearn-color-background);\n",
              "  border-radius: 1em;\n",
              "  height: 1em;\n",
              "  width: 1em;\n",
              "  text-decoration: none !important;\n",
              "  margin-left: 1ex;\n",
              "  /* unfitted */\n",
              "  border: var(--sklearn-color-unfitted-level-1) 1pt solid;\n",
              "  color: var(--sklearn-color-unfitted-level-1);\n",
              "}\n",
              "\n",
              ".sk-estimator-doc-link.fitted,\n",
              "a:link.sk-estimator-doc-link.fitted,\n",
              "a:visited.sk-estimator-doc-link.fitted {\n",
              "  /* fitted */\n",
              "  border: var(--sklearn-color-fitted-level-1) 1pt solid;\n",
              "  color: var(--sklearn-color-fitted-level-1);\n",
              "}\n",
              "\n",
              "/* On hover */\n",
              "div.sk-estimator:hover .sk-estimator-doc-link:hover,\n",
              ".sk-estimator-doc-link:hover,\n",
              "div.sk-label-container:hover .sk-estimator-doc-link:hover,\n",
              ".sk-estimator-doc-link:hover {\n",
              "  /* unfitted */\n",
              "  background-color: var(--sklearn-color-unfitted-level-3);\n",
              "  color: var(--sklearn-color-background);\n",
              "  text-decoration: none;\n",
              "}\n",
              "\n",
              "div.sk-estimator.fitted:hover .sk-estimator-doc-link.fitted:hover,\n",
              ".sk-estimator-doc-link.fitted:hover,\n",
              "div.sk-label-container:hover .sk-estimator-doc-link.fitted:hover,\n",
              ".sk-estimator-doc-link.fitted:hover {\n",
              "  /* fitted */\n",
              "  background-color: var(--sklearn-color-fitted-level-3);\n",
              "  color: var(--sklearn-color-background);\n",
              "  text-decoration: none;\n",
              "}\n",
              "\n",
              "/* Span, style for the box shown on hovering the info icon */\n",
              ".sk-estimator-doc-link span {\n",
              "  display: none;\n",
              "  z-index: 9999;\n",
              "  position: relative;\n",
              "  font-weight: normal;\n",
              "  right: .2ex;\n",
              "  padding: .5ex;\n",
              "  margin: .5ex;\n",
              "  width: min-content;\n",
              "  min-width: 20ex;\n",
              "  max-width: 50ex;\n",
              "  color: var(--sklearn-color-text);\n",
              "  box-shadow: 2pt 2pt 4pt #999;\n",
              "  /* unfitted */\n",
              "  background: var(--sklearn-color-unfitted-level-0);\n",
              "  border: .5pt solid var(--sklearn-color-unfitted-level-3);\n",
              "}\n",
              "\n",
              ".sk-estimator-doc-link.fitted span {\n",
              "  /* fitted */\n",
              "  background: var(--sklearn-color-fitted-level-0);\n",
              "  border: var(--sklearn-color-fitted-level-3);\n",
              "}\n",
              "\n",
              ".sk-estimator-doc-link:hover span {\n",
              "  display: block;\n",
              "}\n",
              "\n",
              "/* \"?\"-specific style due to the `<a>` HTML tag */\n",
              "\n",
              "#sk-container-id-1 a.estimator_doc_link {\n",
              "  float: right;\n",
              "  font-size: 1rem;\n",
              "  line-height: 1em;\n",
              "  font-family: monospace;\n",
              "  background-color: var(--sklearn-color-background);\n",
              "  border-radius: 1rem;\n",
              "  height: 1rem;\n",
              "  width: 1rem;\n",
              "  text-decoration: none;\n",
              "  /* unfitted */\n",
              "  color: var(--sklearn-color-unfitted-level-1);\n",
              "  border: var(--sklearn-color-unfitted-level-1) 1pt solid;\n",
              "}\n",
              "\n",
              "#sk-container-id-1 a.estimator_doc_link.fitted {\n",
              "  /* fitted */\n",
              "  border: var(--sklearn-color-fitted-level-1) 1pt solid;\n",
              "  color: var(--sklearn-color-fitted-level-1);\n",
              "}\n",
              "\n",
              "/* On hover */\n",
              "#sk-container-id-1 a.estimator_doc_link:hover {\n",
              "  /* unfitted */\n",
              "  background-color: var(--sklearn-color-unfitted-level-3);\n",
              "  color: var(--sklearn-color-background);\n",
              "  text-decoration: none;\n",
              "}\n",
              "\n",
              "#sk-container-id-1 a.estimator_doc_link.fitted:hover {\n",
              "  /* fitted */\n",
              "  background-color: var(--sklearn-color-fitted-level-3);\n",
              "}\n",
              "</style><div id=\"sk-container-id-1\" class=\"sk-top-container\"><div class=\"sk-text-repr-fallback\"><pre>NearestNeighbors(metric=&#x27;euclidean&#x27;)</pre><b>In a Jupyter environment, please rerun this cell to show the HTML representation or trust the notebook. <br />On GitHub, the HTML representation is unable to render, please try loading this page with nbviewer.org.</b></div><div class=\"sk-container\" hidden><div class=\"sk-item\"><div class=\"sk-estimator fitted sk-toggleable\"><input class=\"sk-toggleable__control sk-hidden--visually\" id=\"sk-estimator-id-1\" type=\"checkbox\" checked><label for=\"sk-estimator-id-1\" class=\"sk-toggleable__label fitted sk-toggleable__label-arrow fitted\">&nbsp;&nbsp;NearestNeighbors<a class=\"sk-estimator-doc-link fitted\" rel=\"noreferrer\" target=\"_blank\" href=\"https://scikit-learn.org/1.5/modules/generated/sklearn.neighbors.NearestNeighbors.html\">?<span>Documentation for NearestNeighbors</span></a><span class=\"sk-estimator-doc-link fitted\">i<span>Fitted</span></span></label><div class=\"sk-toggleable__content fitted\"><pre>NearestNeighbors(metric=&#x27;euclidean&#x27;)</pre></div> </div></div></div></div>"
            ],
            "text/plain": [
              "NearestNeighbors(metric='euclidean')"
            ]
          },
          "execution_count": 29,
          "metadata": {},
          "output_type": "execute_result"
        }
      ],
      "source": [
        "# Membuat model euclidean berdasarkan CSR dari sparse matrix\n",
        "modelEuclidean = NearestNeighbors(metric='euclidean')\n",
        "modelEuclidean.fit(trainCSR)"
      ]
    },
    {
      "cell_type": "code",
      "execution_count": 30,
      "metadata": {
        "id": "U-S2oyx8FoYd"
      },
      "outputs": [],
      "source": [
        "def predictRatingEuclidean(userId, animeId):\n",
        "    '''\n",
        "    Fungsi ini digunakan untuk memprediksi rating yang mungkin diberikan oleh seorang\n",
        "    pengguna terhadap suatu anime berdasarkan kesamaan Euclidean distance antara\n",
        "    pengguna tersebut dengan pengguna lain.\n",
        "    '''\n",
        "\n",
        "    # Inisialisasi nilai rating\n",
        "    predictedRating = 0\n",
        "\n",
        "    # Mengecek apakah animeId ada dalam sparse matrix keseluruhan data\n",
        "    if animeId in allPivot.index:\n",
        "        # Mennghitung jarak Euclidean dan indeks neighbor terdekat\n",
        "        distances, indices = modelEuclidean.kneighbors(allPivot.loc[animeId, :].values.reshape(1, -1), n_neighbors=8)\n",
        "        similarUsers = indices.flatten() # Mendapatkan user yang serupa\n",
        "\n",
        "        # Cek apakah userId ada dalam kolom dari keselurhan data\n",
        "        if userId in allPivot.columns:\n",
        "            # Mengambil rating yang diberikan oleh pengguna yang mirip\n",
        "            userRatings = allPivot.iloc[similarUsers, allPivot.columns.get_loc(userId)]\n",
        "            # Jika ada rating dari pengguna yang mirip, hitung rata-rata rating tersebut\n",
        "            if userRatings.sum() > 0:\n",
        "                predictedRating = userRatings[userRatings > 0].mean()\n",
        "            else:\n",
        "                # Jika tidak ada rating, gunakan rata-rata rating semua pengguna untuk anime tersebut\n",
        "                predictedRating = allPivot.loc[animeId, allPivot.loc[animeId, :] > 0].mean()\n",
        "        else:\n",
        "            # Jika userId tidak ada dalam kolom gunakan rata-rata rating seluruh pengguna untuk semua anime\n",
        "            predictedRating = allPivot.loc[animeId, allPivot.loc[animeId, :] > 0].mean()\n",
        "    else:\n",
        "        # Jika animeId tidak ditemukan, gunakan rata-rata rating seluruh pengguna terhadap seluruh anime\n",
        "        predictedRating = allPivot.loc[:, allPivot > 0].mean(axis=1).mean()\n",
        "\n",
        "    # Mengembalikan rating yang diprediksi\n",
        "    return predictedRating"
      ]
    },
    {
      "cell_type": "code",
      "execution_count": 31,
      "metadata": {
        "id": "OlXuAwtEky6m"
      },
      "outputs": [],
      "source": [
        "def recommendAnimeEuclidean(userId, n_recommendations=5):\n",
        "    '''\n",
        "    Fungsi ini digunakan untuk merekomendasikan anime kepada pengguna berdasarkan\n",
        "    jarak Euclidean antara pengguna tersebut dengan pengguna lain. Fungsi ini\n",
        "    mengembalikan sejumlah rekomendasi anime yang mirip dengan preferensi peungguna.\n",
        "    '''\n",
        "\n",
        "    # Mengecek apakah userId ada dalam kolom dari allPivot\n",
        "    if userId not in allPivot.columns:\n",
        "        # Jika userId tidak ditemukan, kembalikan DataFrame kosong\n",
        "        return pd.DataFrame({'anime_id': [], 'anime_title': [], 'rating': []})\n",
        "\n",
        "    # Mendapatkan indeks kolom dari userId dalam keseluruhan data\n",
        "    userIndex = allPivot.columns.get_loc(userId)\n",
        "\n",
        "    # Menghitung jarak Euclidean dan indeks neightbor terdekat dari userId yang diberikan\n",
        "    distances, indices = modelEuclidean.kneighbors(allPivot.T[userIndex].values.reshape(1, -1), n_neighbors=n_recommendations + 1)\n",
        "    \n",
        "    # List kosong untuk menampung rekomendasi anime\n",
        "    recommendations = []\n",
        "\n",
        "    # Iterasi untuk mendapatkan rekomendasi\n",
        "    for i in range(1, len(distances.flatten())):\n",
        "        # Mendapatkan animeId dari indeks yang direkomendasikan\n",
        "        animeId = allPivot.index[indices.flatten()[i]]\n",
        "        # Mengambil data dari anime \n",
        "        animeRow = animeFeatureCF[animeFeatureCF['anime_id'] == animeId].iloc[0]\n",
        "        # Mendapatkan prediksi rating\n",
        "        predictedRating = predictRatingEuclidean(userId, animeId)\n",
        "        # Menambahkan data anime ke dalam list\n",
        "        recommendations.append((animeId, animeRow['anime_title'], round(predictedRating, 2)))\n",
        "\n",
        "    # Mengembalikan rekomendasi dalam format DataFrame\n",
        "    recommendations = pd.DataFrame(recommendations, columns=['anime_id', 'anime_title', 'predicted_rating'])\n",
        "    return recommendations.sort_values(by='predicted_rating', ascending=False)"
      ]
    },
    {
      "cell_type": "code",
      "execution_count": 32,
      "metadata": {
        "id": "gqKYZqliLt1p"
      },
      "outputs": [],
      "source": [
        "def topRatedAnimeByUser(userId, top_n=5):\n",
        "    '''\n",
        "    Fungsi ini digunakan untuk mendapatkan daftar sejumlah anime yang diberikan\n",
        "    oleh user tertentu.\n",
        "    '''\n",
        "\n",
        "    # Filter data rating berdasarkan UserId yang diberikan\n",
        "    userRatingsFiltered = userRatings[userRatings['user_id'] == userId]\n",
        "\n",
        "    # Mengambil sejumlah anime dengan rating tertinggi dari user yang sudah ditentukan\n",
        "    topRated = userRatingsFiltered.nlargest(top_n, 'rating_user')\n",
        "\n",
        "    # Menggabungkan data rating tertinggi dengan judul anime berdasarkan anime_id\n",
        "    topRatedWithNames = topRated.merge(animeDf[['anime_id', 'anime_title']], on='anime_id')\n",
        "\n",
        "    # Mengembalikan DataFame daftar anime dengan rating tertinggi\n",
        "    return topRatedWithNames[['anime_id', 'anime_title', 'rating_user']]"
      ]
    },
    {
      "cell_type": "markdown",
      "metadata": {
        "id": "7Xpqho57HGKF"
      },
      "source": [
        "Contoh prediksi model dengan metode `Euclidean Distance`"
      ]
    },
    {
      "cell_type": "code",
      "execution_count": 71,
      "metadata": {
        "colab": {
          "base_uri": "https://localhost:8080/",
          "height": 206
        },
        "id": "mw-iFr3LqMtp",
        "outputId": "5c561538-2f2a-470e-a545-22943494a9fb"
      },
      "outputs": [
        {
          "data": {
            "text/html": [
              "<div>\n",
              "<style scoped>\n",
              "    .dataframe tbody tr th:only-of-type {\n",
              "        vertical-align: middle;\n",
              "    }\n",
              "\n",
              "    .dataframe tbody tr th {\n",
              "        vertical-align: top;\n",
              "    }\n",
              "\n",
              "    .dataframe thead th {\n",
              "        text-align: right;\n",
              "    }\n",
              "</style>\n",
              "<table border=\"1\" class=\"dataframe\">\n",
              "  <thead>\n",
              "    <tr style=\"text-align: right;\">\n",
              "      <th></th>\n",
              "      <th>anime_id</th>\n",
              "      <th>anime_title</th>\n",
              "      <th>predicted_rating</th>\n",
              "    </tr>\n",
              "  </thead>\n",
              "  <tbody>\n",
              "    <tr>\n",
              "      <th>0</th>\n",
              "      <td>5</td>\n",
              "      <td>Cowboy Bebop: Tengoku no Tobira</td>\n",
              "      <td>8.40</td>\n",
              "    </tr>\n",
              "    <tr>\n",
              "      <th>2</th>\n",
              "      <td>227</td>\n",
              "      <td>FLCL</td>\n",
              "      <td>8.18</td>\n",
              "    </tr>\n",
              "    <tr>\n",
              "      <th>1</th>\n",
              "      <td>6</td>\n",
              "      <td>Trigun</td>\n",
              "      <td>8.00</td>\n",
              "    </tr>\n",
              "    <tr>\n",
              "      <th>4</th>\n",
              "      <td>47</td>\n",
              "      <td>Akira</td>\n",
              "      <td>8.00</td>\n",
              "    </tr>\n",
              "    <tr>\n",
              "      <th>3</th>\n",
              "      <td>205</td>\n",
              "      <td>Samurai Champloo</td>\n",
              "      <td>7.33</td>\n",
              "    </tr>\n",
              "  </tbody>\n",
              "</table>\n",
              "</div>"
            ],
            "text/plain": [
              "   anime_id                      anime_title  predicted_rating\n",
              "0         5  Cowboy Bebop: Tengoku no Tobira              8.40\n",
              "2       227                             FLCL              8.18\n",
              "1         6                           Trigun              8.00\n",
              "4        47                            Akira              8.00\n",
              "3       205                 Samurai Champloo              7.33"
            ]
          },
          "execution_count": 71,
          "metadata": {},
          "output_type": "execute_result"
        }
      ],
      "source": [
        "try :\n",
        "    # Ambil contoh rekomendasi untuk satu user\n",
        "    cosineExample = recommendAnimeEuclidean(5)\n",
        "except :\n",
        "    cosineExample = None\n",
        "    print('NotFound')\n",
        "\n",
        "cosineExample"
      ]
    },
    {
      "cell_type": "code",
      "execution_count": 34,
      "metadata": {
        "colab": {
          "base_uri": "https://localhost:8080/",
          "height": 206
        },
        "id": "aG-hv3fbpkBv",
        "outputId": "c2b11d37-3520-4f65-f2ce-aaa82e4f1fce"
      },
      "outputs": [
        {
          "data": {
            "text/html": [
              "<div>\n",
              "<style scoped>\n",
              "    .dataframe tbody tr th:only-of-type {\n",
              "        vertical-align: middle;\n",
              "    }\n",
              "\n",
              "    .dataframe tbody tr th {\n",
              "        vertical-align: top;\n",
              "    }\n",
              "\n",
              "    .dataframe thead th {\n",
              "        text-align: right;\n",
              "    }\n",
              "</style>\n",
              "<table border=\"1\" class=\"dataframe\">\n",
              "  <thead>\n",
              "    <tr style=\"text-align: right;\">\n",
              "      <th></th>\n",
              "      <th>anime_id</th>\n",
              "      <th>anime_title</th>\n",
              "      <th>rating_user</th>\n",
              "    </tr>\n",
              "  </thead>\n",
              "  <tbody>\n",
              "    <tr>\n",
              "      <th>0</th>\n",
              "      <td>15335</td>\n",
              "      <td>Gintama Movie: Kanketsu-hen - Yorozuya yo Eien...</td>\n",
              "      <td>10</td>\n",
              "    </tr>\n",
              "    <tr>\n",
              "      <th>1</th>\n",
              "      <td>245</td>\n",
              "      <td>Great Teacher Onizuka</td>\n",
              "      <td>10</td>\n",
              "    </tr>\n",
              "    <tr>\n",
              "      <th>2</th>\n",
              "      <td>9253</td>\n",
              "      <td>Steins;Gate</td>\n",
              "      <td>9</td>\n",
              "    </tr>\n",
              "    <tr>\n",
              "      <th>3</th>\n",
              "      <td>9969</td>\n",
              "      <td>Gintama&amp;#039;</td>\n",
              "      <td>9</td>\n",
              "    </tr>\n",
              "    <tr>\n",
              "      <th>4</th>\n",
              "      <td>918</td>\n",
              "      <td>Gintama</td>\n",
              "      <td>9</td>\n",
              "    </tr>\n",
              "  </tbody>\n",
              "</table>\n",
              "</div>"
            ],
            "text/plain": [
              "   anime_id                                        anime_title  rating_user\n",
              "0     15335  Gintama Movie: Kanketsu-hen - Yorozuya yo Eien...           10\n",
              "1       245                              Great Teacher Onizuka           10\n",
              "2      9253                                        Steins;Gate            9\n",
              "3      9969                                      Gintama&#039;            9\n",
              "4       918                                            Gintama            9"
            ]
          },
          "execution_count": 34,
          "metadata": {},
          "output_type": "execute_result"
        }
      ],
      "source": [
        "topRatedAnimeByUser(5)"
      ]
    },
    {
      "cell_type": "markdown",
      "metadata": {
        "id": "SLGS43xMCptx"
      },
      "source": [
        "#### Model dengan Cosine Similarity\n",
        "\n",
        "**Cosine Similarity** adalah ukuran kesamaan antara dua vektor dalam ruang multidimensi dengan menghitung cosinus dari sudut di antara mereka. Dalam konteks Collaborative Filtering, Cosine Similarity digunakan untuk mengukur seberapa mirip dua pengguna berdasrakan pola rating yang diberikan dengan mengabaikan magnitudo dan hanya mempertimbangkan orientasi.\n",
        "\n",
        "**Cara Kerja Cosine Similarity**\n",
        "1. **Menghitung Nilai Similarity** <br>\n",
        "Cosine similarity A dan B dihitung, dimana vektor rating dari dua pengguna akan memiliki hasil antara -1 dan 1. Nilai -1 berarti kedua user memiliki preferensi yang berlawanan, sedangkan nilai 0 berarti kedua user tidak memiliki kesamaan sama sekali, dan 1 berarti kedua user memiliki preferensi yang sama persis.\n",
        "\n",
        "2. **Menemukan Pengguna Serupa** <br>\n",
        "Pengguna dengan nilai Cosine Similarity tertinggi dianggap sebagai yang paling mirip. Model `NearestNeighbor` digunakan untuk menemukan pengguna serupa ini berdasarkan kesamaan Cosine.\n",
        "\n",
        "3. **Memberikan Rekomendasi** <br>\n",
        "Setelah menemukan pengguna yang mirip, sistem memberikan rekomendais item kepada pengguna target berdasarkan item yang diberi rating tinggi oleh pengguna yang mirip tersebut. Item yang belum ditonton oleh pengguna terget namun memiliki rating tinggi dari pengguna serupa akan direkomendasikan."
      ]
    },
    {
      "cell_type": "code",
      "execution_count": 35,
      "metadata": {
        "colab": {
          "base_uri": "https://localhost:8080/",
          "height": 75
        },
        "id": "Mvcw2G9DCiIr",
        "outputId": "4d49ab34-243b-424f-9afe-ef6dece769d9"
      },
      "outputs": [
        {
          "data": {
            "text/html": [
              "<style>#sk-container-id-2 {\n",
              "  /* Definition of color scheme common for light and dark mode */\n",
              "  --sklearn-color-text: black;\n",
              "  --sklearn-color-line: gray;\n",
              "  /* Definition of color scheme for unfitted estimators */\n",
              "  --sklearn-color-unfitted-level-0: #fff5e6;\n",
              "  --sklearn-color-unfitted-level-1: #f6e4d2;\n",
              "  --sklearn-color-unfitted-level-2: #ffe0b3;\n",
              "  --sklearn-color-unfitted-level-3: chocolate;\n",
              "  /* Definition of color scheme for fitted estimators */\n",
              "  --sklearn-color-fitted-level-0: #f0f8ff;\n",
              "  --sklearn-color-fitted-level-1: #d4ebff;\n",
              "  --sklearn-color-fitted-level-2: #b3dbfd;\n",
              "  --sklearn-color-fitted-level-3: cornflowerblue;\n",
              "\n",
              "  /* Specific color for light theme */\n",
              "  --sklearn-color-text-on-default-background: var(--sg-text-color, var(--theme-code-foreground, var(--jp-content-font-color1, black)));\n",
              "  --sklearn-color-background: var(--sg-background-color, var(--theme-background, var(--jp-layout-color0, white)));\n",
              "  --sklearn-color-border-box: var(--sg-text-color, var(--theme-code-foreground, var(--jp-content-font-color1, black)));\n",
              "  --sklearn-color-icon: #696969;\n",
              "\n",
              "  @media (prefers-color-scheme: dark) {\n",
              "    /* Redefinition of color scheme for dark theme */\n",
              "    --sklearn-color-text-on-default-background: var(--sg-text-color, var(--theme-code-foreground, var(--jp-content-font-color1, white)));\n",
              "    --sklearn-color-background: var(--sg-background-color, var(--theme-background, var(--jp-layout-color0, #111)));\n",
              "    --sklearn-color-border-box: var(--sg-text-color, var(--theme-code-foreground, var(--jp-content-font-color1, white)));\n",
              "    --sklearn-color-icon: #878787;\n",
              "  }\n",
              "}\n",
              "\n",
              "#sk-container-id-2 {\n",
              "  color: var(--sklearn-color-text);\n",
              "}\n",
              "\n",
              "#sk-container-id-2 pre {\n",
              "  padding: 0;\n",
              "}\n",
              "\n",
              "#sk-container-id-2 input.sk-hidden--visually {\n",
              "  border: 0;\n",
              "  clip: rect(1px 1px 1px 1px);\n",
              "  clip: rect(1px, 1px, 1px, 1px);\n",
              "  height: 1px;\n",
              "  margin: -1px;\n",
              "  overflow: hidden;\n",
              "  padding: 0;\n",
              "  position: absolute;\n",
              "  width: 1px;\n",
              "}\n",
              "\n",
              "#sk-container-id-2 div.sk-dashed-wrapped {\n",
              "  border: 1px dashed var(--sklearn-color-line);\n",
              "  margin: 0 0.4em 0.5em 0.4em;\n",
              "  box-sizing: border-box;\n",
              "  padding-bottom: 0.4em;\n",
              "  background-color: var(--sklearn-color-background);\n",
              "}\n",
              "\n",
              "#sk-container-id-2 div.sk-container {\n",
              "  /* jupyter's `normalize.less` sets `[hidden] { display: none; }`\n",
              "     but bootstrap.min.css set `[hidden] { display: none !important; }`\n",
              "     so we also need the `!important` here to be able to override the\n",
              "     default hidden behavior on the sphinx rendered scikit-learn.org.\n",
              "     See: https://github.com/scikit-learn/scikit-learn/issues/21755 */\n",
              "  display: inline-block !important;\n",
              "  position: relative;\n",
              "}\n",
              "\n",
              "#sk-container-id-2 div.sk-text-repr-fallback {\n",
              "  display: none;\n",
              "}\n",
              "\n",
              "div.sk-parallel-item,\n",
              "div.sk-serial,\n",
              "div.sk-item {\n",
              "  /* draw centered vertical line to link estimators */\n",
              "  background-image: linear-gradient(var(--sklearn-color-text-on-default-background), var(--sklearn-color-text-on-default-background));\n",
              "  background-size: 2px 100%;\n",
              "  background-repeat: no-repeat;\n",
              "  background-position: center center;\n",
              "}\n",
              "\n",
              "/* Parallel-specific style estimator block */\n",
              "\n",
              "#sk-container-id-2 div.sk-parallel-item::after {\n",
              "  content: \"\";\n",
              "  width: 100%;\n",
              "  border-bottom: 2px solid var(--sklearn-color-text-on-default-background);\n",
              "  flex-grow: 1;\n",
              "}\n",
              "\n",
              "#sk-container-id-2 div.sk-parallel {\n",
              "  display: flex;\n",
              "  align-items: stretch;\n",
              "  justify-content: center;\n",
              "  background-color: var(--sklearn-color-background);\n",
              "  position: relative;\n",
              "}\n",
              "\n",
              "#sk-container-id-2 div.sk-parallel-item {\n",
              "  display: flex;\n",
              "  flex-direction: column;\n",
              "}\n",
              "\n",
              "#sk-container-id-2 div.sk-parallel-item:first-child::after {\n",
              "  align-self: flex-end;\n",
              "  width: 50%;\n",
              "}\n",
              "\n",
              "#sk-container-id-2 div.sk-parallel-item:last-child::after {\n",
              "  align-self: flex-start;\n",
              "  width: 50%;\n",
              "}\n",
              "\n",
              "#sk-container-id-2 div.sk-parallel-item:only-child::after {\n",
              "  width: 0;\n",
              "}\n",
              "\n",
              "/* Serial-specific style estimator block */\n",
              "\n",
              "#sk-container-id-2 div.sk-serial {\n",
              "  display: flex;\n",
              "  flex-direction: column;\n",
              "  align-items: center;\n",
              "  background-color: var(--sklearn-color-background);\n",
              "  padding-right: 1em;\n",
              "  padding-left: 1em;\n",
              "}\n",
              "\n",
              "\n",
              "/* Toggleable style: style used for estimator/Pipeline/ColumnTransformer box that is\n",
              "clickable and can be expanded/collapsed.\n",
              "- Pipeline and ColumnTransformer use this feature and define the default style\n",
              "- Estimators will overwrite some part of the style using the `sk-estimator` class\n",
              "*/\n",
              "\n",
              "/* Pipeline and ColumnTransformer style (default) */\n",
              "\n",
              "#sk-container-id-2 div.sk-toggleable {\n",
              "  /* Default theme specific background. It is overwritten whether we have a\n",
              "  specific estimator or a Pipeline/ColumnTransformer */\n",
              "  background-color: var(--sklearn-color-background);\n",
              "}\n",
              "\n",
              "/* Toggleable label */\n",
              "#sk-container-id-2 label.sk-toggleable__label {\n",
              "  cursor: pointer;\n",
              "  display: block;\n",
              "  width: 100%;\n",
              "  margin-bottom: 0;\n",
              "  padding: 0.5em;\n",
              "  box-sizing: border-box;\n",
              "  text-align: center;\n",
              "}\n",
              "\n",
              "#sk-container-id-2 label.sk-toggleable__label-arrow:before {\n",
              "  /* Arrow on the left of the label */\n",
              "  content: \"▸\";\n",
              "  float: left;\n",
              "  margin-right: 0.25em;\n",
              "  color: var(--sklearn-color-icon);\n",
              "}\n",
              "\n",
              "#sk-container-id-2 label.sk-toggleable__label-arrow:hover:before {\n",
              "  color: var(--sklearn-color-text);\n",
              "}\n",
              "\n",
              "/* Toggleable content - dropdown */\n",
              "\n",
              "#sk-container-id-2 div.sk-toggleable__content {\n",
              "  max-height: 0;\n",
              "  max-width: 0;\n",
              "  overflow: hidden;\n",
              "  text-align: left;\n",
              "  /* unfitted */\n",
              "  background-color: var(--sklearn-color-unfitted-level-0);\n",
              "}\n",
              "\n",
              "#sk-container-id-2 div.sk-toggleable__content.fitted {\n",
              "  /* fitted */\n",
              "  background-color: var(--sklearn-color-fitted-level-0);\n",
              "}\n",
              "\n",
              "#sk-container-id-2 div.sk-toggleable__content pre {\n",
              "  margin: 0.2em;\n",
              "  border-radius: 0.25em;\n",
              "  color: var(--sklearn-color-text);\n",
              "  /* unfitted */\n",
              "  background-color: var(--sklearn-color-unfitted-level-0);\n",
              "}\n",
              "\n",
              "#sk-container-id-2 div.sk-toggleable__content.fitted pre {\n",
              "  /* unfitted */\n",
              "  background-color: var(--sklearn-color-fitted-level-0);\n",
              "}\n",
              "\n",
              "#sk-container-id-2 input.sk-toggleable__control:checked~div.sk-toggleable__content {\n",
              "  /* Expand drop-down */\n",
              "  max-height: 200px;\n",
              "  max-width: 100%;\n",
              "  overflow: auto;\n",
              "}\n",
              "\n",
              "#sk-container-id-2 input.sk-toggleable__control:checked~label.sk-toggleable__label-arrow:before {\n",
              "  content: \"▾\";\n",
              "}\n",
              "\n",
              "/* Pipeline/ColumnTransformer-specific style */\n",
              "\n",
              "#sk-container-id-2 div.sk-label input.sk-toggleable__control:checked~label.sk-toggleable__label {\n",
              "  color: var(--sklearn-color-text);\n",
              "  background-color: var(--sklearn-color-unfitted-level-2);\n",
              "}\n",
              "\n",
              "#sk-container-id-2 div.sk-label.fitted input.sk-toggleable__control:checked~label.sk-toggleable__label {\n",
              "  background-color: var(--sklearn-color-fitted-level-2);\n",
              "}\n",
              "\n",
              "/* Estimator-specific style */\n",
              "\n",
              "/* Colorize estimator box */\n",
              "#sk-container-id-2 div.sk-estimator input.sk-toggleable__control:checked~label.sk-toggleable__label {\n",
              "  /* unfitted */\n",
              "  background-color: var(--sklearn-color-unfitted-level-2);\n",
              "}\n",
              "\n",
              "#sk-container-id-2 div.sk-estimator.fitted input.sk-toggleable__control:checked~label.sk-toggleable__label {\n",
              "  /* fitted */\n",
              "  background-color: var(--sklearn-color-fitted-level-2);\n",
              "}\n",
              "\n",
              "#sk-container-id-2 div.sk-label label.sk-toggleable__label,\n",
              "#sk-container-id-2 div.sk-label label {\n",
              "  /* The background is the default theme color */\n",
              "  color: var(--sklearn-color-text-on-default-background);\n",
              "}\n",
              "\n",
              "/* On hover, darken the color of the background */\n",
              "#sk-container-id-2 div.sk-label:hover label.sk-toggleable__label {\n",
              "  color: var(--sklearn-color-text);\n",
              "  background-color: var(--sklearn-color-unfitted-level-2);\n",
              "}\n",
              "\n",
              "/* Label box, darken color on hover, fitted */\n",
              "#sk-container-id-2 div.sk-label.fitted:hover label.sk-toggleable__label.fitted {\n",
              "  color: var(--sklearn-color-text);\n",
              "  background-color: var(--sklearn-color-fitted-level-2);\n",
              "}\n",
              "\n",
              "/* Estimator label */\n",
              "\n",
              "#sk-container-id-2 div.sk-label label {\n",
              "  font-family: monospace;\n",
              "  font-weight: bold;\n",
              "  display: inline-block;\n",
              "  line-height: 1.2em;\n",
              "}\n",
              "\n",
              "#sk-container-id-2 div.sk-label-container {\n",
              "  text-align: center;\n",
              "}\n",
              "\n",
              "/* Estimator-specific */\n",
              "#sk-container-id-2 div.sk-estimator {\n",
              "  font-family: monospace;\n",
              "  border: 1px dotted var(--sklearn-color-border-box);\n",
              "  border-radius: 0.25em;\n",
              "  box-sizing: border-box;\n",
              "  margin-bottom: 0.5em;\n",
              "  /* unfitted */\n",
              "  background-color: var(--sklearn-color-unfitted-level-0);\n",
              "}\n",
              "\n",
              "#sk-container-id-2 div.sk-estimator.fitted {\n",
              "  /* fitted */\n",
              "  background-color: var(--sklearn-color-fitted-level-0);\n",
              "}\n",
              "\n",
              "/* on hover */\n",
              "#sk-container-id-2 div.sk-estimator:hover {\n",
              "  /* unfitted */\n",
              "  background-color: var(--sklearn-color-unfitted-level-2);\n",
              "}\n",
              "\n",
              "#sk-container-id-2 div.sk-estimator.fitted:hover {\n",
              "  /* fitted */\n",
              "  background-color: var(--sklearn-color-fitted-level-2);\n",
              "}\n",
              "\n",
              "/* Specification for estimator info (e.g. \"i\" and \"?\") */\n",
              "\n",
              "/* Common style for \"i\" and \"?\" */\n",
              "\n",
              ".sk-estimator-doc-link,\n",
              "a:link.sk-estimator-doc-link,\n",
              "a:visited.sk-estimator-doc-link {\n",
              "  float: right;\n",
              "  font-size: smaller;\n",
              "  line-height: 1em;\n",
              "  font-family: monospace;\n",
              "  background-color: var(--sklearn-color-background);\n",
              "  border-radius: 1em;\n",
              "  height: 1em;\n",
              "  width: 1em;\n",
              "  text-decoration: none !important;\n",
              "  margin-left: 1ex;\n",
              "  /* unfitted */\n",
              "  border: var(--sklearn-color-unfitted-level-1) 1pt solid;\n",
              "  color: var(--sklearn-color-unfitted-level-1);\n",
              "}\n",
              "\n",
              ".sk-estimator-doc-link.fitted,\n",
              "a:link.sk-estimator-doc-link.fitted,\n",
              "a:visited.sk-estimator-doc-link.fitted {\n",
              "  /* fitted */\n",
              "  border: var(--sklearn-color-fitted-level-1) 1pt solid;\n",
              "  color: var(--sklearn-color-fitted-level-1);\n",
              "}\n",
              "\n",
              "/* On hover */\n",
              "div.sk-estimator:hover .sk-estimator-doc-link:hover,\n",
              ".sk-estimator-doc-link:hover,\n",
              "div.sk-label-container:hover .sk-estimator-doc-link:hover,\n",
              ".sk-estimator-doc-link:hover {\n",
              "  /* unfitted */\n",
              "  background-color: var(--sklearn-color-unfitted-level-3);\n",
              "  color: var(--sklearn-color-background);\n",
              "  text-decoration: none;\n",
              "}\n",
              "\n",
              "div.sk-estimator.fitted:hover .sk-estimator-doc-link.fitted:hover,\n",
              ".sk-estimator-doc-link.fitted:hover,\n",
              "div.sk-label-container:hover .sk-estimator-doc-link.fitted:hover,\n",
              ".sk-estimator-doc-link.fitted:hover {\n",
              "  /* fitted */\n",
              "  background-color: var(--sklearn-color-fitted-level-3);\n",
              "  color: var(--sklearn-color-background);\n",
              "  text-decoration: none;\n",
              "}\n",
              "\n",
              "/* Span, style for the box shown on hovering the info icon */\n",
              ".sk-estimator-doc-link span {\n",
              "  display: none;\n",
              "  z-index: 9999;\n",
              "  position: relative;\n",
              "  font-weight: normal;\n",
              "  right: .2ex;\n",
              "  padding: .5ex;\n",
              "  margin: .5ex;\n",
              "  width: min-content;\n",
              "  min-width: 20ex;\n",
              "  max-width: 50ex;\n",
              "  color: var(--sklearn-color-text);\n",
              "  box-shadow: 2pt 2pt 4pt #999;\n",
              "  /* unfitted */\n",
              "  background: var(--sklearn-color-unfitted-level-0);\n",
              "  border: .5pt solid var(--sklearn-color-unfitted-level-3);\n",
              "}\n",
              "\n",
              ".sk-estimator-doc-link.fitted span {\n",
              "  /* fitted */\n",
              "  background: var(--sklearn-color-fitted-level-0);\n",
              "  border: var(--sklearn-color-fitted-level-3);\n",
              "}\n",
              "\n",
              ".sk-estimator-doc-link:hover span {\n",
              "  display: block;\n",
              "}\n",
              "\n",
              "/* \"?\"-specific style due to the `<a>` HTML tag */\n",
              "\n",
              "#sk-container-id-2 a.estimator_doc_link {\n",
              "  float: right;\n",
              "  font-size: 1rem;\n",
              "  line-height: 1em;\n",
              "  font-family: monospace;\n",
              "  background-color: var(--sklearn-color-background);\n",
              "  border-radius: 1rem;\n",
              "  height: 1rem;\n",
              "  width: 1rem;\n",
              "  text-decoration: none;\n",
              "  /* unfitted */\n",
              "  color: var(--sklearn-color-unfitted-level-1);\n",
              "  border: var(--sklearn-color-unfitted-level-1) 1pt solid;\n",
              "}\n",
              "\n",
              "#sk-container-id-2 a.estimator_doc_link.fitted {\n",
              "  /* fitted */\n",
              "  border: var(--sklearn-color-fitted-level-1) 1pt solid;\n",
              "  color: var(--sklearn-color-fitted-level-1);\n",
              "}\n",
              "\n",
              "/* On hover */\n",
              "#sk-container-id-2 a.estimator_doc_link:hover {\n",
              "  /* unfitted */\n",
              "  background-color: var(--sklearn-color-unfitted-level-3);\n",
              "  color: var(--sklearn-color-background);\n",
              "  text-decoration: none;\n",
              "}\n",
              "\n",
              "#sk-container-id-2 a.estimator_doc_link.fitted:hover {\n",
              "  /* fitted */\n",
              "  background-color: var(--sklearn-color-fitted-level-3);\n",
              "}\n",
              "</style><div id=\"sk-container-id-2\" class=\"sk-top-container\"><div class=\"sk-text-repr-fallback\"><pre>NearestNeighbors(metric=&#x27;cosine&#x27;)</pre><b>In a Jupyter environment, please rerun this cell to show the HTML representation or trust the notebook. <br />On GitHub, the HTML representation is unable to render, please try loading this page with nbviewer.org.</b></div><div class=\"sk-container\" hidden><div class=\"sk-item\"><div class=\"sk-estimator fitted sk-toggleable\"><input class=\"sk-toggleable__control sk-hidden--visually\" id=\"sk-estimator-id-2\" type=\"checkbox\" checked><label for=\"sk-estimator-id-2\" class=\"sk-toggleable__label fitted sk-toggleable__label-arrow fitted\">&nbsp;&nbsp;NearestNeighbors<a class=\"sk-estimator-doc-link fitted\" rel=\"noreferrer\" target=\"_blank\" href=\"https://scikit-learn.org/1.5/modules/generated/sklearn.neighbors.NearestNeighbors.html\">?<span>Documentation for NearestNeighbors</span></a><span class=\"sk-estimator-doc-link fitted\">i<span>Fitted</span></span></label><div class=\"sk-toggleable__content fitted\"><pre>NearestNeighbors(metric=&#x27;cosine&#x27;)</pre></div> </div></div></div></div>"
            ],
            "text/plain": [
              "NearestNeighbors(metric='cosine')"
            ]
          },
          "execution_count": 35,
          "metadata": {},
          "output_type": "execute_result"
        }
      ],
      "source": [
        "# Buat Object Model Sklearn Nearest Neighbor dengan metode cosine similarity\n",
        "modelCosine = NearestNeighbors(metric='cosine')\n",
        "\n",
        "# Masukkan data kepada model\n",
        "modelCosine.fit(trainCSR)"
      ]
    },
    {
      "cell_type": "code",
      "execution_count": 36,
      "metadata": {
        "id": "cLkMGR5tD9gi"
      },
      "outputs": [],
      "source": [
        "def predictRatingCosine(userId, animeId):\n",
        "    '''\n",
        "    Fungsi ini digunakakn untuk memprediksi rating yang mungkin diberikan oleh seseorang\n",
        "    pengguna terhadap suatu anime berdasarkan kesamaan sudut Cosine antara pengguna\n",
        "    tersebut dengan pengguna lain\n",
        "    '''\n",
        "\n",
        "    # Inisialisasi nilai rating\n",
        "    predictedRating = 0\n",
        "\n",
        "    # Mengecek apakah animeId ada dalam sparse matrix keseluruhan data\n",
        "    if animeId in allPivot.index:\n",
        "        # Menghitung sudut Cosine Similarity dan indeks sudut terdekat\n",
        "        distances, indices = modelCosine.kneighbors(allPivot.loc[animeId, :].values.reshape(1, -1), n_neighbors=4)\n",
        "        similarUsers = indices.flatten()\n",
        "\n",
        "        # Cek apakah userId ada dalam kolom dari keseluruhan data\n",
        "        if userId in allPivot.columns:\n",
        "            # Mengambil rating yang diberikan oleh pengguna yang mirip\n",
        "            userRatings = allPivot.iloc[similarUsers, allPivot.columns.get_loc(userId)]\n",
        "            # Jika ada rating dari pengguna yang mirip, hitung rata-rata rating tersebut\n",
        "            if userRatings.sum() > 0:\n",
        "                predictedRating = userRatings[userRatings > 0].mean()\n",
        "            else:\n",
        "                # Jika tidak ada rating, gunakan rata-rata rating semua pengguna untuk anime tersebut\n",
        "                predictedRating = allPivot.loc[animeId, allPivot.loc[animeId, :] > 0].mean()\n",
        "        else:\n",
        "            # Jika userId tidak ada dalam kolom, gunakan rata-rata rating seluruh pengguna untuk semua anime\n",
        "            predictedRating = allPivot.loc[animeId, allPivot.loc[animeId, :] > 0].mean()\n",
        "    else:\n",
        "        # Jika animeId tidak ditemukan, gunakan rata-rata rating seluruh pengguna terhadap seluruh anime\n",
        "        predictedRating = allPivot.loc[:, allPivot > 0].mean(axis=1).mean()\n",
        "\n",
        "    # Mengembalikan rating yang diprediksi\n",
        "    return predictedRating"
      ]
    },
    {
      "cell_type": "code",
      "execution_count": 37,
      "metadata": {
        "id": "h2KnimMzs20o"
      },
      "outputs": [],
      "source": [
        "def recommendAnimeCosine(userId, n_recommendations=5):\n",
        "    '''\n",
        "    Fungsi ini digunakan untuk merekomendasikan anime kepada pengguna berdasarkan\n",
        "    besar sudut Cosine antara pengguna tersebut dengan pengguna lain. Fungsi ini\n",
        "    mengembalikan sejumlah rekomendasi anime yang mirip dengan preferensi peungguna.\n",
        "    '''\n",
        "\n",
        "    # Mengecek apakah userId ada dalam kolom dari allPivot\n",
        "    if userId not in allPivot.columns:\n",
        "        # Jika userId tidak ditemukan, kembalikan DataFrame kosong\n",
        "        return pd.DataFrame({'anime_id': ['user not found'], 'anime_title': ['user not found'], 'rating': ['user not found']})\n",
        "\n",
        "    # Mendapatkan indeks kolom dari userId dalam keseluruhan data\n",
        "    userIndex = allPivot.columns.get_loc(userId)\n",
        "    \n",
        "    # Menghitung sudut cosine dan indeks neighbor terdekat dari userId yang diberikan\n",
        "    distances, indices = modelCosine.kneighbors(allPivot.T[userIndex].values.reshape(1, -1), n_neighbors=n_recommendations + 1)\n",
        "    \n",
        "    # List kosong untuk menampung rekomendasi anime\n",
        "    recommendations = []\n",
        "\n",
        "    # Iterasi untuk mendapatkan rekomendasi\n",
        "    for i in range(1, len(distances.flatten())):\n",
        "        # Mendapatkan animeId dari indeks yang direkomendasikan\n",
        "        animeId = allPivot.index[indices.flatten()[i]]\n",
        "        # Mengambil data dari anime\n",
        "        animeRow = animeDf[animeDf['anime_id'] == animeId].iloc[0]\n",
        "        # Mendapatkan prediksi rating\n",
        "        predictedRating = predictRatingEuclidean(userId, animeId)\n",
        "        # Menambahkan data anime ke dalam list\n",
        "        recommendations.append((animeId, animeRow['anime_title'], round(predictedRating, 2)))\n",
        "\n",
        "    # Mengembalikan rekomendasi dalam format DataFrame\n",
        "    recommendations = pd.DataFrame(recommendations, columns=['anime_id', 'anime_title', 'predicted_rating'])\n",
        "    return recommendations.sort_values(by='predicted_rating', ascending=False)"
      ]
    },
    {
      "cell_type": "code",
      "execution_count": 38,
      "metadata": {
        "id": "ZqnmFIyXNcrS"
      },
      "outputs": [],
      "source": [
        "def topRatedAnimeByUser(userId, top_n=5):\n",
        "    '''\n",
        "    Fungsi ini digunakan untuk mendapatkan daftar sejumlah anime yang diberikan\n",
        "    oleh user tertentu.\n",
        "    '''\n",
        "\n",
        "    # Filter data rating berdasarkan UserId yang diberikan\n",
        "    userRatingsFiltered = userRatings[userRatings['user_id'] == userId]\n",
        "\n",
        "    # Mengambil sejumlah anime dengan rating tertinggi dari user yang sudah ditentukan\n",
        "    topRated = userRatingsFiltered.nlargest(top_n, 'rating_user')\n",
        "\n",
        "    # Menggabungkan data rating tertinggi dengan judul anime berdasarkan anime_id\n",
        "    topRatedWithNames = topRated.merge(animeDf[['anime_id', 'anime_title']], on='anime_id')\n",
        "\n",
        "    # Mengembalikan DataFame daftar anime dengan rating tertinggi\n",
        "    return topRatedWithNames[['anime_id', 'anime_title', 'rating_user']]"
      ]
    },
    {
      "cell_type": "markdown",
      "metadata": {
        "id": "PpC0zJ62tR_e"
      },
      "source": [
        "Contoh prediksi model dengan metode `Cosine Similarity`"
      ]
    },
    {
      "cell_type": "code",
      "execution_count": 39,
      "metadata": {
        "colab": {
          "base_uri": "https://localhost:8080/",
          "height": 206
        },
        "id": "4LQ9zsB-s3Y1",
        "outputId": "7fbbad7c-ca78-412b-af8a-13bd49fd4cc5"
      },
      "outputs": [
        {
          "data": {
            "text/html": [
              "<div>\n",
              "<style scoped>\n",
              "    .dataframe tbody tr th:only-of-type {\n",
              "        vertical-align: middle;\n",
              "    }\n",
              "\n",
              "    .dataframe tbody tr th {\n",
              "        vertical-align: top;\n",
              "    }\n",
              "\n",
              "    .dataframe thead th {\n",
              "        text-align: right;\n",
              "    }\n",
              "</style>\n",
              "<table border=\"1\" class=\"dataframe\">\n",
              "  <thead>\n",
              "    <tr style=\"text-align: right;\">\n",
              "      <th></th>\n",
              "      <th>anime_id</th>\n",
              "      <th>anime_title</th>\n",
              "      <th>predicted_rating</th>\n",
              "    </tr>\n",
              "  </thead>\n",
              "  <tbody>\n",
              "    <tr>\n",
              "      <th>0</th>\n",
              "      <td>5</td>\n",
              "      <td>Cowboy Bebop: Tengoku no Tobira</td>\n",
              "      <td>8.40</td>\n",
              "    </tr>\n",
              "    <tr>\n",
              "      <th>3</th>\n",
              "      <td>227</td>\n",
              "      <td>FLCL</td>\n",
              "      <td>8.18</td>\n",
              "    </tr>\n",
              "    <tr>\n",
              "      <th>2</th>\n",
              "      <td>6</td>\n",
              "      <td>Trigun</td>\n",
              "      <td>8.00</td>\n",
              "    </tr>\n",
              "    <tr>\n",
              "      <th>1</th>\n",
              "      <td>205</td>\n",
              "      <td>Samurai Champloo</td>\n",
              "      <td>7.33</td>\n",
              "    </tr>\n",
              "    <tr>\n",
              "      <th>4</th>\n",
              "      <td>30</td>\n",
              "      <td>Neon Genesis Evangelion</td>\n",
              "      <td>4.50</td>\n",
              "    </tr>\n",
              "  </tbody>\n",
              "</table>\n",
              "</div>"
            ],
            "text/plain": [
              "   anime_id                      anime_title  predicted_rating\n",
              "0         5  Cowboy Bebop: Tengoku no Tobira              8.40\n",
              "3       227                             FLCL              8.18\n",
              "2         6                           Trigun              8.00\n",
              "1       205                 Samurai Champloo              7.33\n",
              "4        30          Neon Genesis Evangelion              4.50"
            ]
          },
          "execution_count": 39,
          "metadata": {},
          "output_type": "execute_result"
        }
      ],
      "source": [
        "try :\n",
        "    # Ambil contoh rekomendasi untuk satu user\n",
        "    cosineExample = recommendAnimeCosine(5)\n",
        "except :\n",
        "    cosineExample = None\n",
        "    print('NotFound')\n",
        "\n",
        "cosineExample"
      ]
    },
    {
      "cell_type": "code",
      "execution_count": 40,
      "metadata": {
        "colab": {
          "base_uri": "https://localhost:8080/",
          "height": 206
        },
        "id": "NyG2eemoMGlf",
        "outputId": "5a6d7a29-9497-4733-e808-a630996cd722"
      },
      "outputs": [
        {
          "data": {
            "text/html": [
              "<div>\n",
              "<style scoped>\n",
              "    .dataframe tbody tr th:only-of-type {\n",
              "        vertical-align: middle;\n",
              "    }\n",
              "\n",
              "    .dataframe tbody tr th {\n",
              "        vertical-align: top;\n",
              "    }\n",
              "\n",
              "    .dataframe thead th {\n",
              "        text-align: right;\n",
              "    }\n",
              "</style>\n",
              "<table border=\"1\" class=\"dataframe\">\n",
              "  <thead>\n",
              "    <tr style=\"text-align: right;\">\n",
              "      <th></th>\n",
              "      <th>anime_id</th>\n",
              "      <th>anime_title</th>\n",
              "      <th>rating_user</th>\n",
              "    </tr>\n",
              "  </thead>\n",
              "  <tbody>\n",
              "    <tr>\n",
              "      <th>0</th>\n",
              "      <td>15335</td>\n",
              "      <td>Gintama Movie: Kanketsu-hen - Yorozuya yo Eien...</td>\n",
              "      <td>10</td>\n",
              "    </tr>\n",
              "    <tr>\n",
              "      <th>1</th>\n",
              "      <td>245</td>\n",
              "      <td>Great Teacher Onizuka</td>\n",
              "      <td>10</td>\n",
              "    </tr>\n",
              "    <tr>\n",
              "      <th>2</th>\n",
              "      <td>9253</td>\n",
              "      <td>Steins;Gate</td>\n",
              "      <td>9</td>\n",
              "    </tr>\n",
              "    <tr>\n",
              "      <th>3</th>\n",
              "      <td>9969</td>\n",
              "      <td>Gintama&amp;#039;</td>\n",
              "      <td>9</td>\n",
              "    </tr>\n",
              "    <tr>\n",
              "      <th>4</th>\n",
              "      <td>918</td>\n",
              "      <td>Gintama</td>\n",
              "      <td>9</td>\n",
              "    </tr>\n",
              "  </tbody>\n",
              "</table>\n",
              "</div>"
            ],
            "text/plain": [
              "   anime_id                                        anime_title  rating_user\n",
              "0     15335  Gintama Movie: Kanketsu-hen - Yorozuya yo Eien...           10\n",
              "1       245                              Great Teacher Onizuka           10\n",
              "2      9253                                        Steins;Gate            9\n",
              "3      9969                                      Gintama&#039;            9\n",
              "4       918                                            Gintama            9"
            ]
          },
          "execution_count": 40,
          "metadata": {},
          "output_type": "execute_result"
        }
      ],
      "source": [
        "# Top 5 rating dari user sebagai referensi\n",
        "topRatedAnimeByUser(5)"
      ]
    },
    {
      "cell_type": "markdown",
      "metadata": {
        "id": "siZrS10iHl0h"
      },
      "source": [
        "#### Pengujian Model\n",
        "\n",
        "**Mean Absolute Error** (MAE) adalah metrik yang digunakan pada pengujian ini untuk mengevaluasi kinerja model sistem rekomendasi yang dibuat. MAE mengukur rata-rata kesalahan absolut antara rating yang diprediksi dan rating sebenarnya. Nilai MAE yang rendah menunjukkan bahwa model memiliki kinerja yang baik dalam memprediksi rating.\n",
        "\n",
        "Dalam pengujian ini, MAE digunakan untuk membandingkan akurasi prediksi antara model yang menggunakan `Euclidean Distance` dan `Cosine Similarity`, sehingga dapat menentukan model mana yang lebih efektif memberikan rekomendasi yang lebih akurat."
      ]
    },
    {
      "cell_type": "code",
      "execution_count": 41,
      "metadata": {
        "colab": {
          "base_uri": "https://localhost:8080/"
        },
        "id": "43aRySkrtXA1",
        "outputId": "beffa078-e79f-49b1-fe71-2784dcfb0619"
      },
      "outputs": [
        {
          "name": "stdout",
          "output_type": "stream",
          "text": [
            "Mean Absolute Error (MAE) for Euclidean model: 0.37376140241862815\n",
            "Mean Absolute Error (MAE) for Cosine model: 0.44519108983492917\n"
          ]
        }
      ],
      "source": [
        "# Hitung MAE untuk model dengan Euclidean Distance\n",
        "predictedRatingEuclidean = testData.apply(lambda row: predictRatingEuclidean(row['user_id'], row['anime_id']), axis=1)\n",
        "mae_euclidean = mean_absolute_error(testData['rating_user'], predictedRatingEuclidean)\n",
        "print(f\"Mean Absolute Error (MAE) for Euclidean model: {mae_euclidean}\")\n",
        "\n",
        "# Hitung MAE untuk model dengan Cosine Similarity\n",
        "predictedRatingCosine = testData.apply(lambda row: predictRatingCosine(row['user_id'], row['anime_id']), axis=1)\n",
        "mae_cosine = mean_absolute_error(testData['rating_user'], predictedRatingCosine)\n",
        "print(f\"Mean Absolute Error (MAE) for Cosine model: {mae_cosine}\")"
      ]
    },
    {
      "cell_type": "markdown",
      "metadata": {
        "id": "SjDDswMIHz8C"
      },
      "source": [
        "#### Hasil Pengujian dan Kesimpulan\n",
        "\n",
        "Berdasarkan hasil pengujian, model **Collaborative Filtering** yang menggunakan `Euclidean Distance` menunjukkan kinerja yang lebih baik dibandingkan dengan model yang menggunakan **Cosine Similarity**. Hasil MAE yang lebih rendah pada model Euclidean Distance mengindikasikan bahwa prediksi model ini lebih mendekati rating aktual yang diberikan oleh pengguna, sehingga model ini lebih akurat dalam memberikan rekomendasi.\n",
        "\n",
        "**Euclidean Distance** lebih efektif dibandingkan **Cosine Similarity** dalam Collaborative Filtering pada kasus ini karena Euclidean Distance lebih sensitif terhadap perbedaan dalam skala rating yang diberikan oleh pengguna. Pada dataset ini, pengguna mungkin memiliki skala penilaian yang lebih seragam atau konsisten, sehingga perbedaan kecil dalm skala lebih signifikan dalam mempengaruhi rekomendasi. Dengan demikian, Euclidean Distance berhasil menangkap perbedaan kecil dalam rating, yang ternyata lebih relevan dalam memprediksi preferensi pengguna dibandingkan hanya mengukur kesamaan pola atau oritentasi rating seperti yang dilakukan oleh Cosine Similarity."
      ]
    },
    {
      "cell_type": "markdown",
      "metadata": {
        "id": "34O84L8rH8JF"
      },
      "source": [
        "#### Fine Tuning dengan Weight\n",
        "\n",
        "**Fine Tuning dengan Weight** dalam sistem rekomendasi bertujuan untuk menyesuaikan bobot pada berbagai aspek tertenu seperti genre, tipe, dan jumlah episode guna meningkatkan akurasi dan relevansi rekomendasi yang diberikan. Misalnya, genre mungkin memiliki pengaruh besar akrena pengguna cenderung memiliki preferensi genre tertentu. Oleh karena itu, memberikan bobot lebih tinggi pada genre dapat meningkatkan kualitas rekomendasi. Berikut adalah data faktor dari weight yang diberikan.\n",
        "\n",
        "1. **Genre** <br>\n",
        "Banyak user yang memiliki preferensi kuat terhadap genre tertentu, sehingga memberikan bobot pada genre dapat meningkatkan relevansi rekomendasi. Genre juga mencerminakn tema dan gaya umum dari anime, yang merupakan faktor utama yang memengaruhi apakah seorang user akan menyukai anime tersebut atau tidak.\n",
        "\n",
        "2. **Type** <br>\n",
        "Type juga merupakan faktor penting karena berbeda tipe anime menawarkan pengalaman menonton yang berbeda. Misalnya user mungkin lebih menyukai anime dengan format TV yang memiliki episode berkelanjutan, atau lebih menyukai Movie karena durasinya yang lebih singkat dan cerita yang padat. Dengan memberikan weight pada tipe, sistem rekomendasi dapat menyesuaikan rekomendasi untuk lebih mencocokkan format anime dengan preferensi user.\n",
        "\n",
        "3. **Episodes** <br>\n",
        "Jumlah episode dapat memengaruhi daya tarik suatu anime. Beberapa user lebih menyukai anime dengan episode singkat karena lebih mudah untuk diikuti, sementara yang lain mungkin lebih tertarik pada anime dengan banyak episode karena memberikan cerita yang lebih mendalam dan pengembangan karakter yang lebih luas. Dengan menyesuakan weight berdasarkan jumlah episode, sistem rekomendasi dapta lebih sesuai dengan preferensi durasi menonton user.\n",
        "\n",
        "**Pengaruh Weight dalam Hasil Rekomenasi** cukup signifikan. Weight yang diterapkan pada aspek-aspekt ertenu dapat mengubah prioritas rekomendasi yang diberikan oleh sistem. Selain itu, finetuning weight memungkinkan sistem untuk menyesuaikan rekomendasi berdasarkan tren dan preferensi yang sedang berkembang"
      ]
    },
    {
      "cell_type": "code",
      "execution_count": 42,
      "metadata": {
        "id": "_J1cOEcvmmjE"
      },
      "outputs": [],
      "source": [
        "def getGenreWeight(animeId, factor=1):\n",
        "    '''\n",
        "    Fungsi untuk mendapatkan weight dari suatu genre tertentu\n",
        "    '''\n",
        "    try :\n",
        "        # Mengambil genre dari anime berdasarkan animeId yang diberikan\n",
        "        genre = animeFeatureCF[animeFeatureCF['anime_id'] == animeId]['genre'].iloc[0]\n",
        "        \n",
        "        # Mendefinisikan bobot untuk setiap genre\n",
        "        genre_weights = {\n",
        "            'Action': 1.35,\n",
        "            'Adventure': 1.3,\n",
        "            'Comedy': 1.25,\n",
        "            'Drama': 1.1,\n",
        "            'Fantasy': 1,\n",
        "            'Romance': 0.95,\n",
        "            'Sci-Fi': 0.9,\n",
        "            'Slice of Life': 0.875,\n",
        "            'Horror': 0.85,\n",
        "            'Mystery': 0.825,\n",
        "        }\n",
        "\n",
        "        # Memisahkan genre menjadi list (genre dapat lebih dari satu)\n",
        "        genres = genre.split(', ')\n",
        "\n",
        "        # Menghitung rata-rata weight dari semua genre yang dimiliki oleh anime\n",
        "        weight = sum([genre_weights.get(g, 0.1) for g in genres]) / len(genres)\n",
        "        \n",
        "        # Mengembalikan bobt yang dikalikan oleh faktor\n",
        "        return weight * factor\n",
        "\n",
        "    # Mengembalikan 0 jika genre tidak ada dalam daftar\n",
        "    except :\n",
        "        return 0\n",
        "\n",
        "def getTypeWeight(animeId, factor=1):\n",
        "    '''\n",
        "    Fungsi untuk mendapatkan weight dari suatu type tertentu\n",
        "    '''\n",
        "    try :\n",
        "        # Mengambil tipe anime berdasarkan animeId yang diberikan\n",
        "        anime_type = animeFeatureCF[animeFeatureCF['anime_id'] == animeId]['type'].iloc[0]\n",
        "\n",
        "        # Mendefinisikan weight untuk setiap anime\n",
        "        type_weights = {\n",
        "            'TV': 1.2,\n",
        "            'Movie': 1.15,\n",
        "            'OVA': 1.05,\n",
        "            'Special': 1,\n",
        "            'ONA': 0.95,\n",
        "            'Music': 0.9,\n",
        "        }\n",
        "        \n",
        "        # Mengembalikan weight dari anime yang kemudian dikalikan dengan faktor\n",
        "        return type_weights.get(anime_type, 0.1) * factor\n",
        "\n",
        "    # Mengembalikan 0 jika tipe tidak ada dalam daftar\n",
        "    except :\n",
        "      return 0\n",
        "\n",
        "def getEpisodesWeight(animeId, factor=1):\n",
        "    '''\n",
        "    Fungsi untuk mendapatkan weight berdasarkan jumlah episode\n",
        "    '''\n",
        "\n",
        "    # Mengambil jumlah episode dari anime berdasarkan animeId yang dibberikan\n",
        "    episodes = int(animeFeatureCF[animeFeatureCF['anime_id'] == animeId]['episodes'].iloc[0])\n",
        "\n",
        "    # Mengembalikan weight berdasrkan jumlah episode berdasarkan aturan yang ditentukan\n",
        "    if episodes <= 12:\n",
        "        return 0.95 * factor\n",
        "    elif episodes <= 24:\n",
        "        return 1.1 * factor\n",
        "    elif episodes <= 50:\n",
        "        return 0.9 * factor\n",
        "    elif episodes <= 100:\n",
        "        return 0.85 * factor\n",
        "    else:\n",
        "        return 0.825 * factor"
      ]
    },
    {
      "cell_type": "code",
      "execution_count": 43,
      "metadata": {},
      "outputs": [],
      "source": [
        "def predictRatingEuclideanWeighted(userId, animeId, genreFactor=1, typeFactor=1, episodesFactor=1) :\n",
        "    '''\n",
        "    Fungsi ini memprediksi rating yang akan diberikan oleh userId terhadap suatu animeId\n",
        "    dengan mempertimbangkan weight berdasarkan genre, tipe, dan jumlah episode. Fungsi ini\n",
        "    menggunakan jarak Euclidean untuk menemukan user yang mirip dan menghitung rata-rata rating\n",
        "    dari pengguna yang serupa. Rating kemudian disesuaikan dengan weight dari aspek tersebut\n",
        "    '''\n",
        "    \n",
        "    # Inisialisasi nilai rating\n",
        "    predictedRating = 0\n",
        "\n",
        "    # Mendapatkan bobot dari masing-masing aspek\n",
        "    genreWeight = getGenreWeight(animeId, factor=genreFactor)\n",
        "    typeWeight = getTypeWeight(animeId, factor=typeFactor)\n",
        "    episodesWeight = getEpisodesWeight(animeId, factor=episodesFactor)\n",
        "    \n",
        "    # Mendapatkan rata-rata nilai rating\n",
        "    weights = (genreWeight + typeWeight + episodesWeight) / 3\n",
        "\n",
        "    # Mengecek apakah animeId ada dalam sparse matrix keseluruhan data\n",
        "    if animeId in allPivot.index:\n",
        "        # Mennghitung jarak Euclidean dan indeks neighbor terdekat\n",
        "        distances, indices = modelEuclidean.kneighbors(allPivot.loc[animeId, :].values.reshape(1, -1), n_neighbors=2)\n",
        "        similarUsers = indices.flatten() # Mendapatkan user yang serupa\n",
        "\n",
        "        # Cek apakah userId ada dalam kolom dari keselurhan data\n",
        "        if userId in allPivot.columns:\n",
        "            # Mengambil rating yang diberikan oleh pengguna yang mirip\n",
        "            userRatings = allPivot.iloc[similarUsers, allPivot.columns.get_loc(userId)]\n",
        "            # Jika ada rating dari pengguna yang mirip, hitung rata-rata rating tersebut\n",
        "            if userRatings.sum() > 0:\n",
        "                predictedRating = userRatings[userRatings > 0].mean()\n",
        "            else:\n",
        "                # Jika tidak ada rating, gunakan rata-rata rating semua pengguna untuk anime tersebut\n",
        "                predictedRating = allPivot.loc[animeId, allPivot.loc[animeId, :] > 0].mean()\n",
        "        else:\n",
        "            # Jika userId tidak ada dalam kolom gunakan rata-rata rating seluruh pengguna untuk semua anime\n",
        "            predictedRating = allPivot.loc[animeId, allPivot.loc[animeId, :] > 0].mean()\n",
        "    else:\n",
        "        # Jika animeId tidak ditemukan, gunakan rata-rata rating seluruh pengguna terhadap seluruh anime\n",
        "        predictedRating = allPivot.loc[:, allPivot > 0].mean(axis=1).mean()\n",
        "\n",
        "    # Mengalikan prediksi rating dengan bobot yang diperoleh\n",
        "    predictedRating *= weights\n",
        "\n",
        "    # Mengembalikan rating yang diprediksi\n",
        "    return predictedRating\n"
      ]
    },
    {
      "cell_type": "code",
      "execution_count": 44,
      "metadata": {
        "id": "YjfKwgproP_m"
      },
      "outputs": [],
      "source": [
        "def recommendAnimeEuclideanWeighted(userId, nRecommendations=3, genreFactor=1, typeFactor=1, episodesFactor=1):\n",
        "    '''\n",
        "    Fungsi ini memberikan rekomendasi anime untuk suatu userId berdasarkan jarak Euclidean ke penggun lain\n",
        "    yang memiliki rating serupa. Fungsi ini menghasilkan daftar rekomendasi anime dengan rating yang diprediksi\n",
        "    dengan mempertimbangkan bobot dari genre, tipe, dan jumlah episode.\n",
        "    '''\n",
        "\n",
        "    # Jika userId tidak ditemukan maka kembalikan DataFrame kosong\n",
        "    if userId not in allPivot.columns:\n",
        "        return pd.DataFrame({'anime_id': [], 'anime_title': [], 'rating': []})\n",
        "\n",
        "    # Mendapatkan indeks dari userId di dalam sparse matrix\n",
        "    userIndex = allPivot.columns.get_loc(userId)\n",
        "\n",
        "    # Menghitung jarak Euclidean dan mendapatkan indeks user terdekat\n",
        "    distances, indices = modelEuclidean.kneighbors(allPivot.T[userIndex].values.reshape(1, -1), n_neighbors=nRecommendations+1)\n",
        "    \n",
        "    # Inisialisasi list untuk menyimpan rekomendasi\n",
        "    recommendations = []\n",
        "\n",
        "    # Loop untuk setiap neighbor\n",
        "    for i in range(1, len(distances.flatten())):\n",
        "        # Mendapatkan animeId dari indeks\n",
        "        animeId = allPivot.index[indices.flatten()[i]]\n",
        "\n",
        "        # Mendapatkan data anime berdasarkan animeId\n",
        "        animeRow = animeDf[animeDf['anime_id'] == animeId].iloc[0]\n",
        "\n",
        "        # Memprediksi rating dari anime yang diberikan\n",
        "        predictedRating = predictRatingEuclideanWeighted(\n",
        "            userId, animeId, \n",
        "            genreFactor=genreFactor,\n",
        "            typeFactor=typeFactor,\n",
        "            episodesFactor=episodesFactor\n",
        "        )\n",
        "\n",
        "        # Menambahkan data anime kedalam list rekomendasi yang akan diberikan\n",
        "        recommendations.append((animeId, animeRow['anime_title'], round(predictedRating, 2)))\n",
        "\n",
        "    # Mengembalikan rekomendasi dalam bentuk DataFrame\n",
        "    recommendations = pd.DataFrame(recommendations, columns=['anime_id', 'anime_title', 'predicted_rating'])\n",
        "    return recommendations.sort_values(by='predicted_rating', ascending=False)\n"
      ]
    },
    {
      "cell_type": "code",
      "execution_count": 45,
      "metadata": {
        "colab": {
          "base_uri": "https://localhost:8080/"
        },
        "id": "Wl-8_mW2IOZs",
        "outputId": "90349a79-283f-4d7f-c2ae-ed48b5d7de50"
      },
      "outputs": [
        {
          "data": {
            "text/html": [
              "<div>\n",
              "<style scoped>\n",
              "    .dataframe tbody tr th:only-of-type {\n",
              "        vertical-align: middle;\n",
              "    }\n",
              "\n",
              "    .dataframe tbody tr th {\n",
              "        vertical-align: top;\n",
              "    }\n",
              "\n",
              "    .dataframe thead th {\n",
              "        text-align: right;\n",
              "    }\n",
              "</style>\n",
              "<table border=\"1\" class=\"dataframe\">\n",
              "  <thead>\n",
              "    <tr style=\"text-align: right;\">\n",
              "      <th></th>\n",
              "      <th>Genre</th>\n",
              "      <th>Type</th>\n",
              "      <th>Episodes</th>\n",
              "      <th>MAE Score</th>\n",
              "    </tr>\n",
              "  </thead>\n",
              "  <tbody>\n",
              "    <tr>\n",
              "      <th>6</th>\n",
              "      <td>0.15</td>\n",
              "      <td>1.75</td>\n",
              "      <td>0.875</td>\n",
              "      <td>0.3750</td>\n",
              "    </tr>\n",
              "    <tr>\n",
              "      <th>13</th>\n",
              "      <td>0.20</td>\n",
              "      <td>1.70</td>\n",
              "      <td>0.900</td>\n",
              "      <td>0.3794</td>\n",
              "    </tr>\n",
              "    <tr>\n",
              "      <th>7</th>\n",
              "      <td>0.15</td>\n",
              "      <td>1.75</td>\n",
              "      <td>0.900</td>\n",
              "      <td>0.3802</td>\n",
              "    </tr>\n",
              "    <tr>\n",
              "      <th>17</th>\n",
              "      <td>0.20</td>\n",
              "      <td>1.75</td>\n",
              "      <td>0.825</td>\n",
              "      <td>0.3804</td>\n",
              "    </tr>\n",
              "    <tr>\n",
              "      <th>21</th>\n",
              "      <td>0.25</td>\n",
              "      <td>1.70</td>\n",
              "      <td>0.875</td>\n",
              "      <td>0.3838</td>\n",
              "    </tr>\n",
              "    <tr>\n",
              "      <th>26</th>\n",
              "      <td>0.25</td>\n",
              "      <td>1.75</td>\n",
              "      <td>0.825</td>\n",
              "      <td>0.3857</td>\n",
              "    </tr>\n",
              "    <tr>\n",
              "      <th>12</th>\n",
              "      <td>0.20</td>\n",
              "      <td>1.70</td>\n",
              "      <td>0.875</td>\n",
              "      <td>0.3877</td>\n",
              "    </tr>\n",
              "    <tr>\n",
              "      <th>15</th>\n",
              "      <td>0.20</td>\n",
              "      <td>1.75</td>\n",
              "      <td>0.875</td>\n",
              "      <td>0.3883</td>\n",
              "    </tr>\n",
              "    <tr>\n",
              "      <th>22</th>\n",
              "      <td>0.25</td>\n",
              "      <td>1.70</td>\n",
              "      <td>0.900</td>\n",
              "      <td>0.3917</td>\n",
              "    </tr>\n",
              "    <tr>\n",
              "      <th>4</th>\n",
              "      <td>0.15</td>\n",
              "      <td>1.70</td>\n",
              "      <td>0.900</td>\n",
              "      <td>0.3924</td>\n",
              "    </tr>\n",
              "    <tr>\n",
              "      <th>19</th>\n",
              "      <td>0.25</td>\n",
              "      <td>1.65</td>\n",
              "      <td>0.900</td>\n",
              "      <td>0.3942</td>\n",
              "    </tr>\n",
              "    <tr>\n",
              "      <th>23</th>\n",
              "      <td>0.25</td>\n",
              "      <td>1.70</td>\n",
              "      <td>0.825</td>\n",
              "      <td>0.3996</td>\n",
              "    </tr>\n",
              "    <tr>\n",
              "      <th>8</th>\n",
              "      <td>0.15</td>\n",
              "      <td>1.75</td>\n",
              "      <td>0.825</td>\n",
              "      <td>0.4006</td>\n",
              "    </tr>\n",
              "    <tr>\n",
              "      <th>16</th>\n",
              "      <td>0.20</td>\n",
              "      <td>1.75</td>\n",
              "      <td>0.900</td>\n",
              "      <td>0.4070</td>\n",
              "    </tr>\n",
              "    <tr>\n",
              "      <th>18</th>\n",
              "      <td>0.25</td>\n",
              "      <td>1.65</td>\n",
              "      <td>0.875</td>\n",
              "      <td>0.4104</td>\n",
              "    </tr>\n",
              "    <tr>\n",
              "      <th>3</th>\n",
              "      <td>0.15</td>\n",
              "      <td>1.70</td>\n",
              "      <td>0.875</td>\n",
              "      <td>0.4148</td>\n",
              "    </tr>\n",
              "    <tr>\n",
              "      <th>10</th>\n",
              "      <td>0.20</td>\n",
              "      <td>1.65</td>\n",
              "      <td>0.900</td>\n",
              "      <td>0.4184</td>\n",
              "    </tr>\n",
              "    <tr>\n",
              "      <th>24</th>\n",
              "      <td>0.25</td>\n",
              "      <td>1.75</td>\n",
              "      <td>0.875</td>\n",
              "      <td>0.4193</td>\n",
              "    </tr>\n",
              "    <tr>\n",
              "      <th>14</th>\n",
              "      <td>0.20</td>\n",
              "      <td>1.70</td>\n",
              "      <td>0.825</td>\n",
              "      <td>0.4289</td>\n",
              "    </tr>\n",
              "    <tr>\n",
              "      <th>9</th>\n",
              "      <td>0.20</td>\n",
              "      <td>1.65</td>\n",
              "      <td>0.875</td>\n",
              "      <td>0.4445</td>\n",
              "    </tr>\n",
              "    <tr>\n",
              "      <th>25</th>\n",
              "      <td>0.25</td>\n",
              "      <td>1.75</td>\n",
              "      <td>0.900</td>\n",
              "      <td>0.4450</td>\n",
              "    </tr>\n",
              "    <tr>\n",
              "      <th>1</th>\n",
              "      <td>0.15</td>\n",
              "      <td>1.65</td>\n",
              "      <td>0.900</td>\n",
              "      <td>0.4586</td>\n",
              "    </tr>\n",
              "    <tr>\n",
              "      <th>20</th>\n",
              "      <td>0.25</td>\n",
              "      <td>1.65</td>\n",
              "      <td>0.825</td>\n",
              "      <td>0.4605</td>\n",
              "    </tr>\n",
              "    <tr>\n",
              "      <th>5</th>\n",
              "      <td>0.15</td>\n",
              "      <td>1.70</td>\n",
              "      <td>0.825</td>\n",
              "      <td>0.4712</td>\n",
              "    </tr>\n",
              "    <tr>\n",
              "      <th>0</th>\n",
              "      <td>0.15</td>\n",
              "      <td>1.65</td>\n",
              "      <td>0.875</td>\n",
              "      <td>0.4887</td>\n",
              "    </tr>\n",
              "    <tr>\n",
              "      <th>11</th>\n",
              "      <td>0.20</td>\n",
              "      <td>1.65</td>\n",
              "      <td>0.825</td>\n",
              "      <td>0.5070</td>\n",
              "    </tr>\n",
              "    <tr>\n",
              "      <th>2</th>\n",
              "      <td>0.15</td>\n",
              "      <td>1.65</td>\n",
              "      <td>0.825</td>\n",
              "      <td>0.5646</td>\n",
              "    </tr>\n",
              "  </tbody>\n",
              "</table>\n",
              "</div>"
            ],
            "text/plain": [
              "    Genre  Type  Episodes  MAE Score\n",
              "6    0.15  1.75     0.875     0.3750\n",
              "13   0.20  1.70     0.900     0.3794\n",
              "7    0.15  1.75     0.900     0.3802\n",
              "17   0.20  1.75     0.825     0.3804\n",
              "21   0.25  1.70     0.875     0.3838\n",
              "26   0.25  1.75     0.825     0.3857\n",
              "12   0.20  1.70     0.875     0.3877\n",
              "15   0.20  1.75     0.875     0.3883\n",
              "22   0.25  1.70     0.900     0.3917\n",
              "4    0.15  1.70     0.900     0.3924\n",
              "19   0.25  1.65     0.900     0.3942\n",
              "23   0.25  1.70     0.825     0.3996\n",
              "8    0.15  1.75     0.825     0.4006\n",
              "16   0.20  1.75     0.900     0.4070\n",
              "18   0.25  1.65     0.875     0.4104\n",
              "3    0.15  1.70     0.875     0.4148\n",
              "10   0.20  1.65     0.900     0.4184\n",
              "24   0.25  1.75     0.875     0.4193\n",
              "14   0.20  1.70     0.825     0.4289\n",
              "9    0.20  1.65     0.875     0.4445\n",
              "25   0.25  1.75     0.900     0.4450\n",
              "1    0.15  1.65     0.900     0.4586\n",
              "20   0.25  1.65     0.825     0.4605\n",
              "5    0.15  1.70     0.825     0.4712\n",
              "0    0.15  1.65     0.875     0.4887\n",
              "11   0.20  1.65     0.825     0.5070\n",
              "2    0.15  1.65     0.825     0.5646"
            ]
          },
          "execution_count": 45,
          "metadata": {},
          "output_type": "execute_result"
        }
      ],
      "source": [
        "# Nilai faktor yang akan ditinjua untuk faktor bobot genre, tipe, dan jumlah episode\n",
        "genreFactors = [0.15, 0.2, 0.25]\n",
        "typeFactors = [1.65, 1.7, 1.75]\n",
        "episodesFactors = [0.875, 0.9, 0.825]\n",
        "\n",
        "# Inisialisasi list untuk menampung hasil\n",
        "results = []\n",
        "\n",
        "# Looping untuk setiap kombinasi weight\n",
        "for genreFactor in genreFactors:\n",
        "    for typeFactor in typeFactors:\n",
        "        for episodesFactor in episodesFactors:\\\n",
        "            \n",
        "            # Memprediksi ratng yang ditinjau\n",
        "            predictedRatingWeighted = testData.apply(\n",
        "              lambda row: predictRatingEuclideanWeighted(row['user_id'],\n",
        "                                                      row['anime_id'],\n",
        "                                                      genreFactor=genreFactor,\n",
        "                                                      typeFactor=typeFactor,\n",
        "                                                      episodesFactor=episodesFactor), axis=1)\n",
        "\n",
        "            # Menghitung Mean Absolute Error (MAE) antara rating yang diprediksi dengan rating asli\n",
        "            maeCosine = mean_absolute_error(testData['rating_user'], predictedRatingWeighted)\n",
        "            # Masukkan hasil grid search ke dalam list penampung hasil\n",
        "            results.append((genreFactor, typeFactor, episodesFactor, round(maeCosine,4)))\n",
        "\n",
        "# Buat hasil ke dalam DataFrame\n",
        "results = pd.DataFrame(results, columns=['Genre', 'Type', 'Episodes', 'MAE Score'])\n",
        "\n",
        "# Sort DataFrame berdasarkan hasil MAE\n",
        "results.sort_values(by='MAE Score', inplace=True)\n",
        "\n",
        "results # Show DataFrame"
      ]
    },
    {
      "cell_type": "markdown",
      "metadata": {
        "id": "sjWidRwlINx1"
      },
      "source": [
        "#### Kesimpulan Akhir\n",
        "\n",
        "Dari hasil **Grid Search** diatas dapat dilihat bahwa pembobotan berpengaruh terhadap performa model rekomendasi. Berdasarkan EDA yang sudah dilakukan, pembobotan diberikan kepada genre, tipe, dan jumlah episode tertentu dimana setiap kategori diberikan bobot tertentu berdasarkan nilai kateogri tersebut. \n",
        "\n",
        "Dari hasil **Grid Search** yang dilakukan, pembobotan dengan rasio [0.15]:[1.75]:[0.875] memiliki nilai **MAE** terkecil. Hal tersebut menandakan bahwa preferensi user cenderung memiliki preferensi terhadap tipe tertentu."
      ]
    },
    {
      "cell_type": "markdown",
      "metadata": {},
      "source": [
        "**Rekomendasi Dengan Metode Euclidean Distance dengan Menggunakan Weight**"
      ]
    },
    {
      "cell_type": "code",
      "execution_count": 72,
      "metadata": {},
      "outputs": [
        {
          "data": {
            "text/html": [
              "<div>\n",
              "<style scoped>\n",
              "    .dataframe tbody tr th:only-of-type {\n",
              "        vertical-align: middle;\n",
              "    }\n",
              "\n",
              "    .dataframe tbody tr th {\n",
              "        vertical-align: top;\n",
              "    }\n",
              "\n",
              "    .dataframe thead th {\n",
              "        text-align: right;\n",
              "    }\n",
              "</style>\n",
              "<table border=\"1\" class=\"dataframe\">\n",
              "  <thead>\n",
              "    <tr style=\"text-align: right;\">\n",
              "      <th></th>\n",
              "      <th>anime_id</th>\n",
              "      <th>anime_title</th>\n",
              "      <th>predicted_rating</th>\n",
              "    </tr>\n",
              "  </thead>\n",
              "  <tbody>\n",
              "    <tr>\n",
              "      <th>0</th>\n",
              "      <td>5</td>\n",
              "      <td>Cowboy Bebop: Tengoku no Tobira</td>\n",
              "      <td>8.32</td>\n",
              "    </tr>\n",
              "    <tr>\n",
              "      <th>1</th>\n",
              "      <td>6</td>\n",
              "      <td>Trigun</td>\n",
              "      <td>8.17</td>\n",
              "    </tr>\n",
              "    <tr>\n",
              "      <th>4</th>\n",
              "      <td>47</td>\n",
              "      <td>Akira</td>\n",
              "      <td>7.89</td>\n",
              "    </tr>\n",
              "    <tr>\n",
              "      <th>2</th>\n",
              "      <td>227</td>\n",
              "      <td>FLCL</td>\n",
              "      <td>7.53</td>\n",
              "    </tr>\n",
              "    <tr>\n",
              "      <th>3</th>\n",
              "      <td>205</td>\n",
              "      <td>Samurai Champloo</td>\n",
              "      <td>6.98</td>\n",
              "    </tr>\n",
              "  </tbody>\n",
              "</table>\n",
              "</div>"
            ],
            "text/plain": [
              "   anime_id                      anime_title  predicted_rating\n",
              "0         5  Cowboy Bebop: Tengoku no Tobira              8.32\n",
              "1         6                           Trigun              8.17\n",
              "4        47                            Akira              7.89\n",
              "2       227                             FLCL              7.53\n",
              "3       205                 Samurai Champloo              6.98"
            ]
          },
          "execution_count": 72,
          "metadata": {},
          "output_type": "execute_result"
        }
      ],
      "source": [
        "# Rekomendasi menggunakan weight terbaik\n",
        "recommendAnimeEuclideanWeighted(5, nRecommendations=5, genreFactor=0.15, typeFactor=1.75, episodesFactor=0.875)"
      ]
    },
    {
      "cell_type": "markdown",
      "metadata": {},
      "source": [
        "**Rekomendasi Dengan Metode Euclidean Distance tanpa Menggunakan Weight**"
      ]
    },
    {
      "cell_type": "code",
      "execution_count": 73,
      "metadata": {},
      "outputs": [
        {
          "data": {
            "text/html": [
              "<div>\n",
              "<style scoped>\n",
              "    .dataframe tbody tr th:only-of-type {\n",
              "        vertical-align: middle;\n",
              "    }\n",
              "\n",
              "    .dataframe tbody tr th {\n",
              "        vertical-align: top;\n",
              "    }\n",
              "\n",
              "    .dataframe thead th {\n",
              "        text-align: right;\n",
              "    }\n",
              "</style>\n",
              "<table border=\"1\" class=\"dataframe\">\n",
              "  <thead>\n",
              "    <tr style=\"text-align: right;\">\n",
              "      <th></th>\n",
              "      <th>anime_id</th>\n",
              "      <th>anime_title</th>\n",
              "      <th>predicted_rating</th>\n",
              "    </tr>\n",
              "  </thead>\n",
              "  <tbody>\n",
              "    <tr>\n",
              "      <th>0</th>\n",
              "      <td>5</td>\n",
              "      <td>Cowboy Bebop: Tengoku no Tobira</td>\n",
              "      <td>8.40</td>\n",
              "    </tr>\n",
              "    <tr>\n",
              "      <th>2</th>\n",
              "      <td>227</td>\n",
              "      <td>FLCL</td>\n",
              "      <td>8.18</td>\n",
              "    </tr>\n",
              "    <tr>\n",
              "      <th>1</th>\n",
              "      <td>6</td>\n",
              "      <td>Trigun</td>\n",
              "      <td>8.00</td>\n",
              "    </tr>\n",
              "    <tr>\n",
              "      <th>4</th>\n",
              "      <td>47</td>\n",
              "      <td>Akira</td>\n",
              "      <td>8.00</td>\n",
              "    </tr>\n",
              "    <tr>\n",
              "      <th>3</th>\n",
              "      <td>205</td>\n",
              "      <td>Samurai Champloo</td>\n",
              "      <td>7.33</td>\n",
              "    </tr>\n",
              "  </tbody>\n",
              "</table>\n",
              "</div>"
            ],
            "text/plain": [
              "   anime_id                      anime_title  predicted_rating\n",
              "0         5  Cowboy Bebop: Tengoku no Tobira              8.40\n",
              "2       227                             FLCL              8.18\n",
              "1         6                           Trigun              8.00\n",
              "4        47                            Akira              8.00\n",
              "3       205                 Samurai Champloo              7.33"
            ]
          },
          "execution_count": 73,
          "metadata": {},
          "output_type": "execute_result"
        }
      ],
      "source": [
        "# Rekomendasi tanpa menggunakan weight\n",
        "recommendAnimeEuclidean(5, n_recommendations=5)"
      ]
    },
    {
      "cell_type": "markdown",
      "metadata": {},
      "source": [
        "Dilihat dari contoh rekomendasi diatas, film yang direkomendasikan terlihat mirip. Namun, urutan dari film yang direkomendasikan tersebut berubah. Hal tersebut mengindikasikan bahwa weight berpengaruh terhadap rekomendasi yang diberikan.\n",
        "\n",
        "Secara keseluruhan, evaluasi menunjukkan bahwa **Collaborative Filtering** dengan menggunakan **Euclidean Distance** dan fine tuning menggunakan weight adalah pendekatan yang sangat efektif untuk memberikan rekomendasi anime yang akurat dan relevan. Model ini berhasil menangkap kesamaan antara pengguna dengan mempertimbangkan jarak dalam skala rating merka. Melalui pendekatan ini, perbedaan kecil dalam rating dapat diidentifikasi, sehingga pengguna dengan preferensi yang serupa dapat saling memberikan rekomendasi.\n",
        "\n",
        "Implementasi dan hasil akhir dari pengujian ini dapat menjadi dasar untuk pengembangan lebih lanjut, termasuk menggunakan **Collaborative Filtering** dengan Content-Based Filtering untuk mengatasi keterbatasan masing-masing pendekatan dan memberikan hasil yang lebih akurat."
      ]
    },
    {
      "cell_type": "markdown",
      "metadata": {
        "id": "LVoe_x-RD9gi"
      },
      "source": [
        "## <center>Content Based Filtering<center>"
      ]
    },
    {
      "cell_type": "markdown",
      "metadata": {
        "id": "UMq39lMiD9gj"
      },
      "source": [
        "**Content Based Filtering** adalah metode dalam sistem rekomendasi yang memberikan rekomendasi kepada user berdasarkan konten antara item yang dipilih. Metode ini menggunakan fitur dari item atau dalam konteks ini adalah fitur dari anime seperti judul, genre, jumlah episode, dan lain-lain untuk menemukan anime yang mirip satu sama lain.\n",
        "\n",
        "**Content Based Filtering** bekerja dengan menganalisis fitur-fitur konten dari setiap anime, seperti `genre`, `type`, `jumlah episode`, `rating` dan `jumlah anggota`. Sistem ini kemudian merekomendasikan anime yang memiliki karakteristik serupa dengan anime yang sudah disukai atau ditonton user. Metode ini tidak bergantung pada data user lain, sehingga tetap bisa memberikan rekomendasi yang relevan meskipun data user terbatas."
      ]
    },
    {
      "cell_type": "markdown",
      "metadata": {},
      "source": [
        "### Data Preprocessing untuk Content Based Filtering\n",
        "Model **Content-Based Filtering** memerlukan data yang deskriptif tentang item yang akan direkomendasikan. Dalam konteks anime, model ini akan merekomendasikan anime kepada user berdasarkan kesamaan antara anime yang telah dinikmati oleh user dan karakteristik dari anime lainnya. Oleh karena itu, dilakukan pengolahan pada data untuk membuat data anime dapat diterima oleh model content based yang dibuat. Berikut adalah preprocessing yang dilakukan\n",
        "\n",
        "1. **Membersihkan Judul Anime** <br>\n",
        "Judul anime sering kali memiliki tanda baca, spasi tambahan, atau kata-kata yang tidak relevan untuk dijadikan fitur. Membersihkan judul dapat dilakukan dengan menghapus karakter yang tidak diperlukan, seperti tanda kurung, dan mengubah semua huruf menjadi huruf kecil untuk konsistensi.\n",
        "\n",
        "2. **Penghapusan Nilai NULL** <br>\n",
        "Nilai NULL dapat menggangu proses analisis. Oleh karena itu, perlu dilakukan penghapusan nilai NULL.\n",
        "\n",
        "3. **Filtering Anime Berdasarkan Nilai Rating**\n",
        "Anime dengan rating yang sangat rendah mungkin tidak relevan untuk digunakan dalam model rekomendasi. Oleh karena itu, kita bisa menyaring anime dengan rating dibawah nilai tertentu.\n",
        "\n",
        "4. **Filtering Anime Berdasarkan Jumlah Member** <br>\n",
        "Anime dengan jumlah member yang sedikit mungkin tidak signifikan untuk analisis. Filtering berdasarkan jumlah member membantu memastikan hanya anime yang cukup populer saja yang dipertimbangkan.\n",
        "\n",
        "5. **Normalisasi Genre** <br>\n",
        "Genre anime merupakan daftar yang dipisahkan oleh koma. Oleh karena itu, genre dinormalisasi dengan menghapus tanda baca seperti koma dan mengubahnya menjadi lowercase.\n",
        "\n",
        "6. **Normalisasi Tipe** <br>\n",
        "Normalisasi dengan mengubah tipe ke dalam lowercase juga dilakukan untuk menjaga konsistensi dengan fitur lainnya.\n",
        "\n",
        "7. **Pengkategorisasian Episode, Rating, dan Member** <br>\n",
        "Mengubah data numerik seperti episode, rating, dan jumlah member menjadi kategori dalam bentuk kata dilakukan untuk menyederhanakan dan menangkap pola secara lebih intuitif dalam data.\n",
        "\n",
        "8. **Penggabungan Data Menjadi Satu Filter** <br>\n",
        "Setelah preprocessing dilakukan, semua fitur yang telah dinormalisasi dan dikategorisasi dapat digabungkan menjadi satu representasi fitur yang dapat digunakan untuk pelatihan model."
      ]
    },
    {
      "cell_type": "code",
      "execution_count": 48,
      "metadata": {},
      "outputs": [],
      "source": [
        "# Copy DataFrame asli untuk dilakukan preprocessing\n",
        "animeFeatureCB = animeDf.copy()"
      ]
    },
    {
      "cell_type": "markdown",
      "metadata": {
        "id": "rzUX-z1wD9gj"
      },
      "source": [
        "#### Membersihkan Judul Anime"
      ]
    },
    {
      "cell_type": "markdown",
      "metadata": {},
      "source": [
        "Ini bertujuan unutk merapikan judul anime dalam dataset dengan menghapus atau mengganti karakter khusus dan pola teks yang tidak relevan. `RegEx` digunakan untuk mengganti pola tertentu menjadi bentuk yang lebih sederhana untuk memudahkan pemrosesan lebih lanjut."
      ]
    },
    {
      "cell_type": "code",
      "execution_count": 49,
      "metadata": {
        "id": "j67h-1g7D9gj"
      },
      "outputs": [],
      "source": [
        "# Function untuk membersihkan teks anime_title\n",
        "def cleanTitle(text) :\n",
        "    '''\n",
        "    Fungsi ini bertujuan untuk membersihkan teks judul anime dari berbagai pola yang tidak\n",
        "    diinginkan atau tidak perlu, serta merapikan spasi dan tanda baca. Ini berguna untuk\n",
        "    memastikan konsistensi dalam teks judul.\n",
        "    '''\n",
        "    \n",
        "    # Definisi pola teks dan penggantinya dalam format RegEx\n",
        "    cleanPattern = {\n",
        "        r'&quot;': '',              # Menghapus entitas HTML untuk tanda kutip\n",
        "        r'.hack//': '',             # Menghapus pola .hack//\n",
        "        r'&#039;': \"'\",             # Mengubah entitas HTML untuk tanda kutip tunggal\n",
        "        r'&amp;': 'and',            # Mengubah entitas HTML untuk tanda '&'\n",
        "        r'\\s+': ' ',                # Menghapus spasi ekstra\n",
        "        r'\\s*:\\s*': ': ',           # Menyusun ulang spasi sebelum dan sesudah tanda titik dua\n",
        "        r'\\s*-+\\s*': ' - ',         # Menyusun ulang spasi sebelum dan sesudah tanda hubung\n",
        "        r'\\s*\\(\\w+\\)\\s*': '',       # Menghapus teks dalam tanda kurung (seperti \"(TV)\", \"(OVA)\")\n",
        "        r'\\s*movie\\s*\\d*': '',      # Menghapus teks \"movie\" dan angka setelahnya\n",
        "        r'\\s*ova\\s*\\d*': '',        # Menghapus teks \"OVA\" dan angka setelahnya\n",
        "        r'\\'s\\b': '',               # Menghapus possessive 's\n",
        "        r'\\W+': ' ',                # Menghapus karakter non-alfabet\n",
        "    }\n",
        "\n",
        "    # Mengaplikasikan pembersihan judul yang diberikan pada seluruh pola\n",
        "    for pattern, replacement in cleanPattern.items():\n",
        "        text = re.sub(pattern, replacement, text)\n",
        "\n",
        "    # Mengembalikan teks yang sudah dibersihkan\n",
        "    return text.lower()\n",
        "\n",
        "# Bersihkan seluruh judul anime dalam dataset\n",
        "animeFeatureCB['anime_title_normalized'] = animeFeatureCB['anime_title'].apply(cleanTitle)"
      ]
    },
    {
      "cell_type": "markdown",
      "metadata": {},
      "source": [
        "|Sebelum Cleaning|Sesudah Cleaning|\n",
        "|----------------|----------------|\n",
        "|Gintama'|Gintama|\n",
        "|Steins;Gate: OVA|Steins Gate|\n",
        "|Fullmetal Alchemist: Brotherhood|Fullmetal Alchemist Brotherhood|\n",
        "|Naruto: Shippuden Movie 6 - Road to Ninja|Naruto Shippuden Road to Ninja|\n",
        "\n",
        "Hasil diatas menunjukkan bahwa proses **text cleaning** berhasil menghilangkan karakter dan menghilangkan kata yang tidak relevan. Dengan menghilangkan elemen-elemen tersebut, judul anime lebih sederhana"
      ]
    },
    {
      "cell_type": "markdown",
      "metadata": {
        "id": "x-ShsudHD9gj"
      },
      "source": [
        "#### Penghapusan Nilai NULL\n",
        "Penghilangan data yang memiliki nilai NULL dilakukan untuk memastikan data yang digunakan dalam analisis atau model tidak mengandung kekosongan yang bisa menyebabkan error atau bias dalam hasil."
      ]
    },
    {
      "cell_type": "code",
      "execution_count": 50,
      "metadata": {
        "id": "BYwHcTTaD9gj"
      },
      "outputs": [
        {
          "data": {
            "text/plain": [
              "anime_id                    0\n",
              "anime_title                 0\n",
              "genre                      62\n",
              "type                       25\n",
              "episodes                  340\n",
              "rating                    230\n",
              "members                     0\n",
              "anime_title_normalized      0\n",
              "dtype: int64"
            ]
          },
          "execution_count": 50,
          "metadata": {},
          "output_type": "execute_result"
        }
      ],
      "source": [
        "# Memeriksa nilai null dalam dataset\n",
        "animeFeatureCB.isnull().sum()"
      ]
    },
    {
      "cell_type": "markdown",
      "metadata": {},
      "source": [
        "Dari hasil diatas dapat dilihat bahwa kolom rating dan episode memiliki nilai NULL yang cukup signifikan. Jika data dengan nilai null tersebut tidak dihapus, sistem rekomendasi tidak dapat melihat kesamaan jumlah episode atau rating dari data reference."
      ]
    },
    {
      "cell_type": "code",
      "execution_count": 51,
      "metadata": {
        "id": "_ysq7nl2D9gj"
      },
      "outputs": [],
      "source": [
        "# Menghapus data NULL dalam data anime\n",
        "animeFeatureCB.dropna(inplace=True)"
      ]
    },
    {
      "cell_type": "markdown",
      "metadata": {},
      "source": [
        "#### Filter Anime Berdasarkan Nilai Rating\n",
        "Filtering pada rating dilakukan unutk memastikan bahwa rekomendasi yang dilakukan memberikan kualitas anime yang tinggi dan disukai oleh user. Filtering ini membantu meningkatkan relevansi hasil dengan mengecualikan anime yang dianggap kurang baik."
      ]
    },
    {
      "cell_type": "code",
      "execution_count": 52,
      "metadata": {},
      "outputs": [
        {
          "name": "stdout",
          "output_type": "stream",
          "text": [
            "Banyaknya anime dengan rating kurang dari 5 : 936\n"
          ]
        }
      ],
      "source": [
        "# Filter anime dengan rating kurang dari 5\n",
        "print('Banyaknya anime dengan rating kurang dari 5 :', animeFeatureCB.loc[animeFeatureCB['rating'] < 5].shape[0])\n",
        "\n",
        "# Filter anime dengan rating >= 5\n",
        "animeFeatureCB = animeFeatureCB.loc[animeFeatureCB['rating'] >= 5]"
      ]
    },
    {
      "cell_type": "markdown",
      "metadata": {},
      "source": [
        "#### Filter Anime Berdasarkan Jumlah Member\n",
        "\n",
        "Filter ini bertujuan untuk mempertahankan anime yang memiliki jumlah tertentu untuk memastikan bahwa rekomendasi yang diberikan difokuskan pada animeyang lebih populer dan memiliki basis penggemar yang cukup."
      ]
    },
    {
      "cell_type": "code",
      "execution_count": 53,
      "metadata": {},
      "outputs": [
        {
          "name": "stdout",
          "output_type": "stream",
          "text": [
            "Banyaknya anime dengan rating kurang dari 2500 : 1084\n"
          ]
        }
      ],
      "source": [
        "# Lihat jumlah anime dengan members < 100\n",
        "print('Banyaknya anime dengan rating kurang dari 2500 :', animeFeatureCB.loc[animeFeatureCB['members'] < 100].shape[0])\n",
        "\n",
        "# Filter anime dengan member >= 100\n",
        "animeFeatureCB = animeFeatureCB.loc[animeFeatureCB['members'] >= 100]"
      ]
    },
    {
      "cell_type": "markdown",
      "metadata": {},
      "source": [
        "#### Normalisasi Genre\n",
        "\n",
        "Normalisasi genre dilakukan untuk menyelaraskan konsistensi antara genre. Proses ini mencakup penghapusan koma, pengubahan menjadi lowercase. Normalisasi ini membantu menyatukan variasi penulisan genre sehigga lebih seragam"
      ]
    },
    {
      "cell_type": "code",
      "execution_count": 54,
      "metadata": {},
      "outputs": [],
      "source": [
        "# Normalisasi kolom Genre\n",
        "animeFeatureCB['genre'] = animeFeatureCB['genre'].str.lower().str.replace(', ', ' ').astype(str)"
      ]
    },
    {
      "cell_type": "markdown",
      "metadata": {},
      "source": [
        "|Sebelum Normalisasi|Sesudah Normalisasi|\n",
        "|-------------------|-------------------|\n",
        "|Drama, Romance, School, Supernatural|drama romance school supernatural|\n",
        "|Sci-fi, Thriller|sci-fi thriller|\n",
        "|Action, Comedy, Historical|action comedy historical|"
      ]
    },
    {
      "cell_type": "markdown",
      "metadata": {},
      "source": [
        "#### Normalisasi Tipe\n",
        "\n",
        "Kolom tipe diubah kedalam lowercase agar konsisten dengan seluruh fitur pada anime yang akan dibuat"
      ]
    },
    {
      "cell_type": "code",
      "execution_count": 55,
      "metadata": {},
      "outputs": [],
      "source": [
        "animeFeatureCB['type'] = animeFeatureCB['type'].str.lower()"
      ]
    },
    {
      "cell_type": "markdown",
      "metadata": {},
      "source": [
        "#### Mengkategorisasikan Episode\n",
        "\n",
        "Ini bertujuan untuk mengubah nilai numerik dari jumlah episode menjadi kategori yang lebih bermakna. Hal ini penting dilakukan karena TF-IDF adalah teknik yang lebih efektif utuk memproses teks atau kategori daripada nilai numerik mentah. Dengan mengkategorisasikan jumlah episode, informasi tersebut menjadi lebih relevan dan memungkinkan membandingkan kesamaan antara anime berdasarkan kategori durasi."
      ]
    },
    {
      "cell_type": "code",
      "execution_count": 56,
      "metadata": {},
      "outputs": [],
      "source": [
        "# Fungsi yang digunakan untuk mapping jumlah eps dari numerikal ke kategorikal\n",
        "def categorizedEpisodes(episodes) :\n",
        "    '''\n",
        "    Fungsi ini digunakan untuk mengubah data numerik episode menjadi kategorikal.\n",
        "    Fungsi menerima parameter suatu angka dan mengembalikan string kategori dari\n",
        "    jumlah episode tersebut.\n",
        "    '''\n",
        "    \n",
        "    if episodes == 1 :\n",
        "        return 'movie'\n",
        "    elif episodes >= 2 and episodes <= 6 :\n",
        "        return 'ova ona'\n",
        "    elif episodes >= 7 and episodes <= 12 :\n",
        "        return 'short'\n",
        "    elif episodes >= 13 and episodes <= 26 :\n",
        "        return 'medium'\n",
        "    elif episodes >= 27 and episodes <= 50 :\n",
        "        return 'long'\n",
        "    elif episodes > 50 :\n",
        "        return 'marathon'\n",
        "    else :\n",
        "        return 'unknown'\n",
        "\n",
        "# Membuat kolom baru yang berisi hasil kategorisasi dari episode\n",
        "animeFeatureCB['episodes_categorized'] = animeFeatureCB['episodes'].apply(categorizedEpisodes)"
      ]
    },
    {
      "cell_type": "markdown",
      "metadata": {},
      "source": [
        "#### Mengkategorisasikan Rating\n",
        "\n",
        "Hal yang sama juga dilakukan pada rating, dimana rating dikategorikan menjadi 5 kategori berbeda. Kesamaan rating dilihat untuk memahami perbedaan dalam kualitas anime dan meningkatkan relevansi dalam rekomendasi yang dilakukan "
      ]
    },
    {
      "cell_type": "code",
      "execution_count": 57,
      "metadata": {},
      "outputs": [],
      "source": [
        "# Fungsi yang digunakan untuk mapping rating dari numerikal ke kategorikal\n",
        "def categorizedRating(rating) :\n",
        "    '''\n",
        "    Fungsi ini digunakan untuk mengubah data numerik rating menjadi kategorikal.\n",
        "    Fungsi menerima parameter suatu angka dan mengembalikan string kategori dari\n",
        "    rating tersebut.\n",
        "    '''\n",
        "\n",
        "    if rating == 0 :\n",
        "        return 'no rating'\n",
        "    elif rating > 0 and rating < 5 :\n",
        "        return 'bad'\n",
        "    elif rating >= 5 and rating < 7 :\n",
        "        return 'mid'\n",
        "    elif rating >= 7 and rating < 8.5:\n",
        "        return 'good'\n",
        "    elif rating >= 8.5 and rating <= 10 :\n",
        "        return 'excellent'\n",
        "    else :\n",
        "        'unknown'\n",
        "\n",
        "# Membuat kolom baru yang berisi hasil kategorisasi dari rating\n",
        "animeFeatureCB['rating_categorized'] = animeFeatureCB['rating'].apply(categorizedRating)"
      ]
    },
    {
      "cell_type": "markdown",
      "metadata": {},
      "source": [
        "#### Mengkategorisasikan Members\n",
        "\n",
        "Kategorisasi member ini membantu meningkatkan pemahaman sistem rekomendasi untuk memahami peredaan popularitas anime dan meningkatkan relevansi hasil dalam rekomendasi analisis yang dilakukan"
      ]
    },
    {
      "cell_type": "code",
      "execution_count": 58,
      "metadata": {},
      "outputs": [],
      "source": [
        "# Fungsi yang digunakan untuk mapping member dari numerikal ke kategorikal\n",
        "def categorizedMembers(members) :\n",
        "    '''\n",
        "    Fungsi ini digunakan untuk mengubah data numerik jumlah member menjadi\n",
        "    kategorikal. Fungsi menerima parameter suatu angka dan mengembalikan string\n",
        "    kategori dari member tersebut.\n",
        "    '''\n",
        "\n",
        "    if members <= 1000 :\n",
        "        return 'minimal'\n",
        "    elif members > 1000 and members <= 10000 :\n",
        "        return 'few'\n",
        "    elif members > 10000 and members <= 50000 :\n",
        "        return 'moderate'\n",
        "    elif members > 50000 and members <= 100000 :\n",
        "        return 'popular'\n",
        "    elif members > 100000 :\n",
        "        return 'famous'\n",
        "    else :\n",
        "        return 'unknown'\n",
        "\n",
        "# Membuat kolom baru yang berisi hasil kategorisasi dari jumlah member\n",
        "animeFeatureCB['members_categorized'] = animeFeatureCB['members'].apply(categorizedMembers)"
      ]
    },
    {
      "cell_type": "markdown",
      "metadata": {},
      "source": [
        "#### Menggabungkan Data\n",
        "\n",
        "Penggabungan ini bertujuan untuk menggabungkan berbagai fitur dari anime seperti judul, genre, kategori episode, kategori rating, dan kategori member menjadi satu teks yang komprehensif. Penggabungan ini penting untuk membuat satu kolom fitur yang memiliki seluruh informasi terkait suatu anime, yang kemudian dapat digunakan dalam model TF-IDF untuk menganalisis kesamaan antar-anime.\n",
        "\n",
        "Dengan menggabungkan data dari berbagai aspek, model dapat mempertimbangkan semua karakteristik penting secara bersamaan, sehingga menghasilkan rekomendasi atau analisis yang lebih akurat dan relevan. Penggabungan data ini membantu memastikan bahwa semua informasi anime tetap dipertimbangkan dalam penentuan rekomendasi."
      ]
    },
    {
      "cell_type": "code",
      "execution_count": 59,
      "metadata": {},
      "outputs": [],
      "source": [
        "# Membuat kolom baru untuk fitur yang terdiri atas string hasil penggabungan seluruh fitur.\n",
        "animeFeatureCB['features'] = animeFeatureCB.apply(\n",
        "    lambda x: f\"{x['anime_title_normalized']} {x['genre']} {x['episodes_categorized']} {x['rating_categorized']} {x['members_categorized']}\",\n",
        "    axis=1\n",
        ")"
      ]
    },
    {
      "cell_type": "markdown",
      "metadata": {},
      "source": [
        "Berikut adalah contoh dari data 'feature' yang merupakan hasil penggabungan beberapa data suatu anime"
      ]
    },
    {
      "cell_type": "code",
      "execution_count": 60,
      "metadata": {},
      "outputs": [
        {
          "data": {
            "text/html": [
              "<div>\n",
              "<style scoped>\n",
              "    .dataframe tbody tr th:only-of-type {\n",
              "        vertical-align: middle;\n",
              "    }\n",
              "\n",
              "    .dataframe tbody tr th {\n",
              "        vertical-align: top;\n",
              "    }\n",
              "\n",
              "    .dataframe thead th {\n",
              "        text-align: right;\n",
              "    }\n",
              "</style>\n",
              "<table border=\"1\" class=\"dataframe\">\n",
              "  <thead>\n",
              "    <tr style=\"text-align: right;\">\n",
              "      <th></th>\n",
              "      <th>features</th>\n",
              "    </tr>\n",
              "  </thead>\n",
              "  <tbody>\n",
              "    <tr>\n",
              "      <th>0</th>\n",
              "      <td>kimi no na wa  drama romance school supernatur...</td>\n",
              "    </tr>\n",
              "    <tr>\n",
              "      <th>1</th>\n",
              "      <td>fullmetal alchemist brotherhood action adventu...</td>\n",
              "    </tr>\n",
              "    <tr>\n",
              "      <th>2</th>\n",
              "      <td>gintama  action comedy historical parody samur...</td>\n",
              "    </tr>\n",
              "    <tr>\n",
              "      <th>3</th>\n",
              "      <td>steins gate sci-fi thriller medium excellent f...</td>\n",
              "    </tr>\n",
              "    <tr>\n",
              "      <th>4</th>\n",
              "      <td>gintama  action comedy historical parody samur...</td>\n",
              "    </tr>\n",
              "  </tbody>\n",
              "</table>\n",
              "</div>"
            ],
            "text/plain": [
              "                                            features\n",
              "0  kimi no na wa  drama romance school supernatur...\n",
              "1  fullmetal alchemist brotherhood action adventu...\n",
              "2  gintama  action comedy historical parody samur...\n",
              "3  steins gate sci-fi thriller medium excellent f...\n",
              "4  gintama  action comedy historical parody samur..."
            ]
          },
          "execution_count": 60,
          "metadata": {},
          "output_type": "execute_result"
        }
      ],
      "source": [
        "# Cetak contoh fitur yang sudah dibuat\n",
        "animeFeatureCB[['features']].head()"
      ]
    },
    {
      "cell_type": "code",
      "execution_count": 61,
      "metadata": {},
      "outputs": [
        {
          "data": {
            "text/plain": [
              "array([['kimi no na wa  drama romance school supernatural movie excellent famous'],\n",
              "       ['fullmetal alchemist brotherhood action adventure drama fantasy magic military shounen marathon excellent famous'],\n",
              "       ['gintama  action comedy historical parody samurai sci-fi shounen marathon excellent famous'],\n",
              "       ['steins gate sci-fi thriller medium excellent famous'],\n",
              "       ['gintama  action comedy historical parody samurai sci-fi shounen marathon excellent famous']],\n",
              "      dtype=object)"
            ]
          },
          "execution_count": 61,
          "metadata": {},
          "output_type": "execute_result"
        }
      ],
      "source": [
        "animeFeatureCB[['features']].head().values"
      ]
    },
    {
      "cell_type": "markdown",
      "metadata": {},
      "source": [
        "### Modeling dengan Objek Term Frequency (TF) - Inverse Document Frequency (IDF)\n",
        "\n",
        "**TF-IDF (Term Frequency - Inverse Document Frequency)** adalah teknik yang digunakan untuk mengukur seberapa penting sebuah kata dalam deskripsi dari anime tertentu. Teknik ini membantu model memahami kata-kata mana yang paling relevan dan membedakan satu anime dari yang lain. Algoritma TF-IDF dibagi menjadi dua bagian.\n",
        "\n",
        "- **Term Frequency (TF)** <br>\n",
        "Bagian ini bertanggung jawab untuk meghitung seberapa sering sebuah kata muncul dalam deskripsi atau fitur-fitur dari satu anime. Misalnya, genre tertentu sering mucul dalam deskripsi anime Naruto, maka nilai TF untuk ninja akan tinggi untuk anime Naruto.\n",
        "\n",
        "- **Inverse Document Frequency (IDF)** <br>\n",
        "Ini menghitung seberapa unik atau jarang sebuah kata muncuk di seluruh dataset anime. Kata-kata umum seperti 'the' atau 'is' akan memiliki IDF yang rendah karena muncul di hampir semua deskripsi, sedangkan kata-kata seperti 'jutsu' mungkin memiliki IDF yang tinggi karena lebih spesifik untuk anime tertentu.\n",
        "\n",
        "Dengan menggunakan TF-IDF, model bisa membedakan antara anime berdasarkan fitur-fitur yang penting dan unik. Misalnya, jika seorang pengguna menyukai anime dengan genre **Action** dan tema **Ninja**, TF-IDF akan membantu mengidentifikasi anime lain yang juga memiliki fokus kuat pada tema tersebut. Setelah TF-IDF menghitung skor untuk setiap kata atau frasa deskripsi anime, model dapat membandingkan anime satu dengan yang lain berdasarkan kesamaan kata-kata yang penting, bukan hanya bedasarkan kemunculannya saja. Ini membuat rekomendasi lebih relevan.\n",
        "\n",
        "Berikut adalah parameter yang digunakan pada objek `TfidfVectorizer` dari **scikit-learn** :\n",
        "- `min_df` <br>\n",
        "Parameter ini menentukan batas bawah frekuensi dokumen untuk memasukkan kata-kata dalam model. Kata-kata yang muncul di lebih sedikit dokumen akan diabaikan.\n",
        "\n",
        "- `max_features` <br>\n",
        "Parameter ini menentukan jumlah maksimum kata yang dipertimbangkan oleh model. skor n tertinggi lah yang akan dipertahankan. Jumlah n dapat diatur untuk mengontrol ukuran model dan mencegah overfitting dengan membatasi jumlah kata yang dipertimbangkan.\n",
        "\n",
        "- `strip_accents` <br>\n",
        "Parameter ini digunakan untuk menghilangkan aksen dari karakter dalam teks yang berguna untuk meminimalkan perbedaan antar kata yang seharusnya sama (café dan cafe)\n",
        "\n",
        "- `analyzer` <br>\n",
        "Analyzer menentukan level yang akan digunakan untuk menganalisis teks, yaitu apakah ingin menganalisis berdasarkan karakter, atau kata. Dengan mengatur parameter ini, fleksibilitas untuk menyesuaikan analisis dengan kebutuhan spesifik, seperti memfokuskan pada kata atau sub-bagian kata.\n",
        "\n",
        "- `token_pattern` <br>\n",
        "Paramter ini adalah RegEx yang digunakan untuk menentukan pola token yang akan diambil dari teks. Parameter ini mengatur bagaimana teks dibagi menjadi token dan dapat membantu menangani kata khusus atau simbol. Parameter yang digunakan adalah `\\w{1,}` yang berarti pola RegEx tersebut akan mencocokkan setiap kata yang terdiri dari satu kata atau lebih karakter alfanumerik, tanpa memfilter kata-kata yang sangat pendek.\n",
        "\n",
        "- `ngram_range` <br>\n",
        "Ini adalah parameter yang menentukan panjang n-gram yang akan dipertimbangkan. N-gram adalah rangkaian berurutan dari n-item, di mana item bisa berupa kata atau karakter. Parameter yang digunakan adalah `(1,3)`, ini berarti model akan mempertimbangkan urutan kata tunggal (unigrams), dua kata berurutan (bigrams), dan tiga kata berurutan (trigrams).\n",
        "\n",
        "- `stop_words` <br>\n",
        "Stop Words adalah daftar kata yang diabaikan dalam proses pemodelan, biasanya karena kata-kata tersebut terlalu umum dan tidak memberikan banyak informasi."
      ]
    },
    {
      "cell_type": "code",
      "execution_count": 62,
      "metadata": {
        "id": "UsvyCGf9D9gj"
      },
      "outputs": [],
      "source": [
        "# Inisialisasi Object TF-IDF Vectorizer dari sklearn\n",
        "tfV = TfidfVectorizer(\n",
        "    min_df=2,\n",
        "    max_features=1000,\n",
        "    strip_accents='unicode',\n",
        "    analyzer='word',\n",
        "    token_pattern=r'\\w{1,}',\n",
        "    ngram_range=(1, 3),\n",
        "    stop_words='english'\n",
        ")"
      ]
    },
    {
      "cell_type": "code",
      "execution_count": 63,
      "metadata": {},
      "outputs": [],
      "source": [
        "# Buat matriks TF-IDF dari data fitur yang sudah dibuat\n",
        "tfidfMatrix = tfV.fit_transform(animeFeatureCB['features'])"
      ]
    },
    {
      "cell_type": "markdown",
      "metadata": {},
      "source": [
        "Berikut adalah visualisasi dari tabel TF-IDF yang dibuat dari fitur"
      ]
    },
    {
      "cell_type": "code",
      "execution_count": 64,
      "metadata": {},
      "outputs": [
        {
          "data": {
            "text/html": [
              "<div>\n",
              "<style scoped>\n",
              "    .dataframe tbody tr th:only-of-type {\n",
              "        vertical-align: middle;\n",
              "    }\n",
              "\n",
              "    .dataframe tbody tr th {\n",
              "        vertical-align: top;\n",
              "    }\n",
              "\n",
              "    .dataframe thead th {\n",
              "        text-align: right;\n",
              "    }\n",
              "</style>\n",
              "<table border=\"1\" class=\"dataframe\">\n",
              "  <thead>\n",
              "    <tr style=\"text-align: right;\">\n",
              "      <th></th>\n",
              "      <th>0</th>\n",
              "      <th>1</th>\n",
              "      <th>2</th>\n",
              "      <th>2 action</th>\n",
              "      <th>2 comedy</th>\n",
              "      <th>2nd</th>\n",
              "      <th>2nd season</th>\n",
              "      <th>3</th>\n",
              "      <th>4</th>\n",
              "      <th>5</th>\n",
              "      <th>...</th>\n",
              "      <th>yori</th>\n",
              "      <th>yoru</th>\n",
              "      <th>yu</th>\n",
              "      <th>yume</th>\n",
              "      <th>yuri</th>\n",
              "      <th>yuri ova</th>\n",
              "      <th>yuri ova ona</th>\n",
              "      <th>yuusha</th>\n",
              "      <th>z</th>\n",
              "      <th>zero</th>\n",
              "    </tr>\n",
              "  </thead>\n",
              "  <tbody>\n",
              "    <tr>\n",
              "      <th>0</th>\n",
              "      <td>0.0</td>\n",
              "      <td>0.0</td>\n",
              "      <td>0.0</td>\n",
              "      <td>0.0</td>\n",
              "      <td>0.0</td>\n",
              "      <td>0.0</td>\n",
              "      <td>0.0</td>\n",
              "      <td>0.0</td>\n",
              "      <td>0.0</td>\n",
              "      <td>0.0</td>\n",
              "      <td>...</td>\n",
              "      <td>0.0</td>\n",
              "      <td>0.0</td>\n",
              "      <td>0.0</td>\n",
              "      <td>0.0</td>\n",
              "      <td>0.0</td>\n",
              "      <td>0.0</td>\n",
              "      <td>0.0</td>\n",
              "      <td>0.0</td>\n",
              "      <td>0.0</td>\n",
              "      <td>0.0</td>\n",
              "    </tr>\n",
              "    <tr>\n",
              "      <th>1</th>\n",
              "      <td>0.0</td>\n",
              "      <td>0.0</td>\n",
              "      <td>0.0</td>\n",
              "      <td>0.0</td>\n",
              "      <td>0.0</td>\n",
              "      <td>0.0</td>\n",
              "      <td>0.0</td>\n",
              "      <td>0.0</td>\n",
              "      <td>0.0</td>\n",
              "      <td>0.0</td>\n",
              "      <td>...</td>\n",
              "      <td>0.0</td>\n",
              "      <td>0.0</td>\n",
              "      <td>0.0</td>\n",
              "      <td>0.0</td>\n",
              "      <td>0.0</td>\n",
              "      <td>0.0</td>\n",
              "      <td>0.0</td>\n",
              "      <td>0.0</td>\n",
              "      <td>0.0</td>\n",
              "      <td>0.0</td>\n",
              "    </tr>\n",
              "    <tr>\n",
              "      <th>2</th>\n",
              "      <td>0.0</td>\n",
              "      <td>0.0</td>\n",
              "      <td>0.0</td>\n",
              "      <td>0.0</td>\n",
              "      <td>0.0</td>\n",
              "      <td>0.0</td>\n",
              "      <td>0.0</td>\n",
              "      <td>0.0</td>\n",
              "      <td>0.0</td>\n",
              "      <td>0.0</td>\n",
              "      <td>...</td>\n",
              "      <td>0.0</td>\n",
              "      <td>0.0</td>\n",
              "      <td>0.0</td>\n",
              "      <td>0.0</td>\n",
              "      <td>0.0</td>\n",
              "      <td>0.0</td>\n",
              "      <td>0.0</td>\n",
              "      <td>0.0</td>\n",
              "      <td>0.0</td>\n",
              "      <td>0.0</td>\n",
              "    </tr>\n",
              "    <tr>\n",
              "      <th>3</th>\n",
              "      <td>0.0</td>\n",
              "      <td>0.0</td>\n",
              "      <td>0.0</td>\n",
              "      <td>0.0</td>\n",
              "      <td>0.0</td>\n",
              "      <td>0.0</td>\n",
              "      <td>0.0</td>\n",
              "      <td>0.0</td>\n",
              "      <td>0.0</td>\n",
              "      <td>0.0</td>\n",
              "      <td>...</td>\n",
              "      <td>0.0</td>\n",
              "      <td>0.0</td>\n",
              "      <td>0.0</td>\n",
              "      <td>0.0</td>\n",
              "      <td>0.0</td>\n",
              "      <td>0.0</td>\n",
              "      <td>0.0</td>\n",
              "      <td>0.0</td>\n",
              "      <td>0.0</td>\n",
              "      <td>0.0</td>\n",
              "    </tr>\n",
              "    <tr>\n",
              "      <th>4</th>\n",
              "      <td>0.0</td>\n",
              "      <td>0.0</td>\n",
              "      <td>0.0</td>\n",
              "      <td>0.0</td>\n",
              "      <td>0.0</td>\n",
              "      <td>0.0</td>\n",
              "      <td>0.0</td>\n",
              "      <td>0.0</td>\n",
              "      <td>0.0</td>\n",
              "      <td>0.0</td>\n",
              "      <td>...</td>\n",
              "      <td>0.0</td>\n",
              "      <td>0.0</td>\n",
              "      <td>0.0</td>\n",
              "      <td>0.0</td>\n",
              "      <td>0.0</td>\n",
              "      <td>0.0</td>\n",
              "      <td>0.0</td>\n",
              "      <td>0.0</td>\n",
              "      <td>0.0</td>\n",
              "      <td>0.0</td>\n",
              "    </tr>\n",
              "  </tbody>\n",
              "</table>\n",
              "<p>5 rows × 1000 columns</p>\n",
              "</div>"
            ],
            "text/plain": [
              "     0    1    2  2 action  2 comedy  2nd  2nd season    3    4    5  ...  \\\n",
              "0  0.0  0.0  0.0       0.0       0.0  0.0         0.0  0.0  0.0  0.0  ...   \n",
              "1  0.0  0.0  0.0       0.0       0.0  0.0         0.0  0.0  0.0  0.0  ...   \n",
              "2  0.0  0.0  0.0       0.0       0.0  0.0         0.0  0.0  0.0  0.0  ...   \n",
              "3  0.0  0.0  0.0       0.0       0.0  0.0         0.0  0.0  0.0  0.0  ...   \n",
              "4  0.0  0.0  0.0       0.0       0.0  0.0         0.0  0.0  0.0  0.0  ...   \n",
              "\n",
              "   yori  yoru   yu  yume  yuri  yuri ova  yuri ova ona  yuusha    z  zero  \n",
              "0   0.0   0.0  0.0   0.0   0.0       0.0           0.0     0.0  0.0   0.0  \n",
              "1   0.0   0.0  0.0   0.0   0.0       0.0           0.0     0.0  0.0   0.0  \n",
              "2   0.0   0.0  0.0   0.0   0.0       0.0           0.0     0.0  0.0   0.0  \n",
              "3   0.0   0.0  0.0   0.0   0.0       0.0           0.0     0.0  0.0   0.0  \n",
              "4   0.0   0.0  0.0   0.0   0.0       0.0           0.0     0.0  0.0   0.0  \n",
              "\n",
              "[5 rows x 1000 columns]"
            ]
          },
          "execution_count": 64,
          "metadata": {},
          "output_type": "execute_result"
        }
      ],
      "source": [
        "# Ubah matrix TF-IDF ke dalam DataFrame untuk visualisasi\n",
        "tfidfTable = pd.DataFrame(tfidfMatrix.toarray(), columns=tfV.get_feature_names_out(), index=animeFeatureCB.index)\n",
        "\n",
        "tfidfTable.head() # Show table Tfidf"
      ]
    },
    {
      "cell_type": "markdown",
      "metadata": {},
      "source": [
        "#### Model dengan Linear Kernel\n",
        "\n",
        "Kernel linear digunakan untuk menghitung kesamaan antara data dengan mengukur **dot product** dari vektor-vektor fitur dalam ruang lineaer. Kernel ini mengukur kesamaan langsung dalam matrix TF-IDF antara dua anime berdasarkan representasi fitur mereka."
      ]
    },
    {
      "cell_type": "code",
      "execution_count": 65,
      "metadata": {
        "id": "dle_KfkuD9gj"
      },
      "outputs": [],
      "source": [
        "# Membuat perhitungan dengan cara linear untuk mengukur jarak antara fitur anime\n",
        "linearSim = linear_kernel(tfidfMatrix, tfidfMatrix)"
      ]
    },
    {
      "cell_type": "markdown",
      "metadata": {},
      "source": [
        "#### Model dengan Sigmoid Kernel\n",
        "\n",
        "Kernel sigmoid memperkenalkan non-linearitas dalam perhitungan kesamaan antar anime. Kernel sigmoid menggunakan fungsi sigmoid untuk menghitung kesamaan antara dua vektor fitur. Ini sering digunakan dalam item yang mungkin tidak terlihat jelas dalam ruang linear."
      ]
    },
    {
      "cell_type": "code",
      "execution_count": 66,
      "metadata": {
        "id": "-1LMjUjeD9gj"
      },
      "outputs": [],
      "source": [
        "# Membuat perhitungan dengan fungsi sigmoid untuk mengukur jarak antara fitur anime\n",
        "sigmoidSim = sigmoid_kernel(tfidfMatrix, tfidfMatrix)"
      ]
    },
    {
      "cell_type": "markdown",
      "metadata": {},
      "source": [
        "#### Evaluasi Hasil Prediksi Content Based Filtering\n",
        "Evaluasi dilakukan dengan meninjau perbedaan hasil prediksi dari kernel linear dan kernel sigmoid."
      ]
    },
    {
      "cell_type": "code",
      "execution_count": 67,
      "metadata": {},
      "outputs": [],
      "source": [
        "# Mapping judul anime kedalam index\n",
        "indices = pd.Series(animeFeatureCB.reset_index().index, index=animeFeatureCB['anime_title'])"
      ]
    },
    {
      "cell_type": "code",
      "execution_count": 68,
      "metadata": {},
      "outputs": [],
      "source": [
        "def getRecommendation(title, nRecommendation=5, sim=linearSim) :\n",
        "    '''\n",
        "    Fungsi untuk memberikan rekomendasi anime berdasarkan judul yang diberikan menggunakan\n",
        "    kernel yang diberikan pada parameter dan mengembalikan DataFrame yang berisi judul\n",
        "    anime yang direkomendasikan\n",
        "    '''\n",
        "    \n",
        "    # Cek apakah title yang diberikan ada dalam daftar\n",
        "    if title not in indices :\n",
        "        return 'Anime not found'\n",
        "\n",
        "    # Mendapatkan indeks anime dari daftar\n",
        "    idx = indices[title]\n",
        "\n",
        "    # Hitung similarity score dari judul yang diberikan\n",
        "    simScores = list(enumerate(sim[idx]))\n",
        "\n",
        "    # Sort berdasarkan similarity score\n",
        "    simScores = sorted(simScores, key=lambda x: x[1], reverse=True)\n",
        "\n",
        "    # Ambil 10 data pertama\n",
        "    recommendationIndices = [i[0] for i in simScores[1:nRecommendation+1]] # simScore[0] = anime itu sendiri\n",
        "\n",
        "    # Mengembalikan hasil rekomendasi\n",
        "    return animeFeatureCB.iloc[recommendationIndices][['anime_title']]"
      ]
    },
    {
      "cell_type": "markdown",
      "metadata": {},
      "source": [
        "Hasil rekomendasi menggunakan kernel linear"
      ]
    },
    {
      "cell_type": "code",
      "execution_count": 69,
      "metadata": {},
      "outputs": [
        {
          "data": {
            "text/html": [
              "<div>\n",
              "<style scoped>\n",
              "    .dataframe tbody tr th:only-of-type {\n",
              "        vertical-align: middle;\n",
              "    }\n",
              "\n",
              "    .dataframe tbody tr th {\n",
              "        vertical-align: top;\n",
              "    }\n",
              "\n",
              "    .dataframe thead th {\n",
              "        text-align: right;\n",
              "    }\n",
              "</style>\n",
              "<table border=\"1\" class=\"dataframe\">\n",
              "  <thead>\n",
              "    <tr style=\"text-align: right;\">\n",
              "      <th></th>\n",
              "      <th>anime_title</th>\n",
              "    </tr>\n",
              "  </thead>\n",
              "  <tbody>\n",
              "    <tr>\n",
              "      <th>1067</th>\n",
              "      <td>Pokemon XY: Mega Evolution</td>\n",
              "    </tr>\n",
              "    <tr>\n",
              "      <th>3219</th>\n",
              "      <td>Pokemon XY&amp;amp;Z Specials</td>\n",
              "    </tr>\n",
              "    <tr>\n",
              "      <th>2656</th>\n",
              "      <td>Pokemon Advanced Generation</td>\n",
              "    </tr>\n",
              "    <tr>\n",
              "      <th>4532</th>\n",
              "      <td>Pokemon: Pikachu no Fuyuyasumi</td>\n",
              "    </tr>\n",
              "    <tr>\n",
              "      <th>4695</th>\n",
              "      <td>Pokemon: Pikachu no Fuyuyasumi (2000)</td>\n",
              "    </tr>\n",
              "  </tbody>\n",
              "</table>\n",
              "</div>"
            ],
            "text/plain": [
              "                                anime_title\n",
              "1067             Pokemon XY: Mega Evolution\n",
              "3219              Pokemon XY&amp;Z Specials\n",
              "2656            Pokemon Advanced Generation\n",
              "4532         Pokemon: Pikachu no Fuyuyasumi\n",
              "4695  Pokemon: Pikachu no Fuyuyasumi (2000)"
            ]
          },
          "execution_count": 69,
          "metadata": {},
          "output_type": "execute_result"
        }
      ],
      "source": [
        "# Rekomendasi menggunakan kernel linear\n",
        "getRecommendation(\"Pokemon: The Origin\", sim=linearSim)"
      ]
    },
    {
      "cell_type": "markdown",
      "metadata": {},
      "source": [
        "Hasil rekomendasi menggunakan kernel sigmoid"
      ]
    },
    {
      "cell_type": "code",
      "execution_count": 70,
      "metadata": {},
      "outputs": [
        {
          "data": {
            "text/html": [
              "<div>\n",
              "<style scoped>\n",
              "    .dataframe tbody tr th:only-of-type {\n",
              "        vertical-align: middle;\n",
              "    }\n",
              "\n",
              "    .dataframe tbody tr th {\n",
              "        vertical-align: top;\n",
              "    }\n",
              "\n",
              "    .dataframe thead th {\n",
              "        text-align: right;\n",
              "    }\n",
              "</style>\n",
              "<table border=\"1\" class=\"dataframe\">\n",
              "  <thead>\n",
              "    <tr style=\"text-align: right;\">\n",
              "      <th></th>\n",
              "      <th>anime_title</th>\n",
              "    </tr>\n",
              "  </thead>\n",
              "  <tbody>\n",
              "    <tr>\n",
              "      <th>1067</th>\n",
              "      <td>Pokemon XY: Mega Evolution</td>\n",
              "    </tr>\n",
              "    <tr>\n",
              "      <th>3219</th>\n",
              "      <td>Pokemon XY&amp;amp;Z Specials</td>\n",
              "    </tr>\n",
              "    <tr>\n",
              "      <th>2656</th>\n",
              "      <td>Pokemon Advanced Generation</td>\n",
              "    </tr>\n",
              "    <tr>\n",
              "      <th>4532</th>\n",
              "      <td>Pokemon: Pikachu no Fuyuyasumi</td>\n",
              "    </tr>\n",
              "    <tr>\n",
              "      <th>4695</th>\n",
              "      <td>Pokemon: Pikachu no Fuyuyasumi (2000)</td>\n",
              "    </tr>\n",
              "  </tbody>\n",
              "</table>\n",
              "</div>"
            ],
            "text/plain": [
              "                                anime_title\n",
              "1067             Pokemon XY: Mega Evolution\n",
              "3219              Pokemon XY&amp;Z Specials\n",
              "2656            Pokemon Advanced Generation\n",
              "4532         Pokemon: Pikachu no Fuyuyasumi\n",
              "4695  Pokemon: Pikachu no Fuyuyasumi (2000)"
            ]
          },
          "execution_count": 70,
          "metadata": {},
          "output_type": "execute_result"
        }
      ],
      "source": [
        "# Rekomendasi menggunakan kernel sigmoid\n",
        "getRecommendation(\"Pokemon: The Origin\", sim=sigmoidSim)"
      ]
    },
    {
      "cell_type": "markdown",
      "metadata": {},
      "source": [
        "Dapat dilihat bahwa hasil rekomendasi model dengan menggunakan kernel **linear** dan **sigmoid** memberikan hasil rekomendasi yang sama. Ini menunjukkan bahwa hubungan antara fitur-fitur dalam data cukup linear dan sederhana sehingga kedua kernel menangkap pola yang serupa. Dalam kasus ini penggunaan kernel yang lebih kompleks seperti sigmoid tidak memberikan keuntungan tambahan dibandingkan kernel linear."
      ]
    },
    {
      "cell_type": "markdown",
      "metadata": {},
      "source": [
        "#### Kesimpulan Akhir\n",
        "\n",
        "Model yang dibuat berhasil mengimplementasikan sistem rekomendasi Content-Based Filtering untuk anime, dengan menggunakan TF-IDF untuk mengubah fitur seperti judul, genre, jumlah episode, rating, dan jumlah anggota menjadi representsasi vektor.\n",
        "\n",
        "Hasil akhir model yang dibuat menunjukkan bahwa sistem rekomendasi yang dibangun dapat memberikan saran anime yang relevan berdasarkan konten yang mirip dengan anime yang disukai pengguna. Hasil rekomendasi dari kedua kernel yang sama mengindikasikan bahwa hubungan antar fitur cukup linear dan sederhana. Sistem ini menunjukkan potensi yang baik dalam memberikan rekomendasi yang relevan dan bisa dioptimalkan lebih lanjut dengan menguji model langsung pada user."
      ]
    },
    {
      "cell_type": "markdown",
      "metadata": {},
      "source": [
        "### Gabungan Kedua Model\n",
        "\n",
        "Berdsarkan hasil pengujian yang dilakukan, kesimpulan akhir dari penelitian ini adalah :\n",
        "\n",
        "1. **Collaborative Filtering** <br>\n",
        "**Euclidean Distance** terbukti lebih efektif dibandingkan **Cosine Similarity** sistem rekomendasi anime, dengan menunjukkan nilai MAE yang lebih rendah. Model Euclidean Distance lebih sensitif terhadap perbedaan kecil dalam skala rating yang diberikan pengguna, sehingga memberikan prediksi yang lebih akurat dan mendekati rating aktual. Hal ini menunjukkan bahwa pada dataset ini, preferensi user mungkin lebih seragam, membuat model Euclidean lebih relevan.\n",
        "\n",
        "2. **Model Weighted Euclidean Distance** <br>\n",
        "Hasil dari **Grid Search** menunjukkan bahwa pembobotan fitur genre, tipe, dan jumlah episode sangat mempengaruhi performa model. Pembobotan dengan rasio 0.15 : 1.75 : 0.875 menghasilkan MAE terkecil, mengindikasikan bahwa preferensi pengguna cenderung lebi dipengaruhi oleh tipe anime tertentu. Ini menunjukkan bahwa penyesuaian weight pada fitur tertentu dapat meningkatkan akurasi rekomendasi dengan lebih baik menangkap preferensi spesifik user.\n",
        "\n",
        "3. **Content-Based Filtering** <br>\n",
        "Hasil analisis menunjukkan bahwa model dengan kernel **linear** dan **sigmoid** memberikan rekomendasi yang sama. Ini menandakan bahwa hubungan antar fitur dalam data cukup linear, sehingga model yang lebih sederhana dengan kernel linear sudah mampu menangkap pola yang ada secara efektif. Penggunaan kernel yang lebih kompleks seperti sigmoid tidak memberikan peningkatan performa yang signifikan dalam kasus ini.\n",
        "\n",
        "#### Kesimpulan Keseluruhan\n",
        "Penelitian ini menunjukkan bahwa kombinasi antara **Collaborative Filtering** dan **Content-Based Filtering** dapat menghasilkan sistem rekomendasi yang komprehensif dan efektif.\n",
        "\n",
        "1. **Collaborative Filtering** dengan **Euclidean Distance** dan **Weight** pada fitur-fitur tertentu memungkinkan sistem rekomendasi untuuk memahami dan memprediksi preferensi user berdasarkan pola perlikau user lain yang memiliki selera serupa. Model ini berhasil menangkap preferensi yang mendalam, terutama ketika user memiliki skala penilaian yang seragam dan konsisten, serta ketika bobot yang diterapkan pada fitur seperti genre, tipe, dan jumlah episode.\n",
        "\n",
        "2. **Content-Based Filtering** dengan **Kernel Linear** menyediakan kemampuan untuk merekomenasikan anime yang memiliki kesamaan konten dengan anime yang sudah disukai user. Meskipun dalam kasus ini hubungan antara fiture dalam data cukup linear, Content-Based Filtering tetap memainkan peran penting dalam memberikan rekomendasi yang relevan berdasarkan atribut atau karakteristik dair suatu anime\n",
        "\n",
        "Dengan menggabungkan kedua pendekatan ini, sistem rekomendasi menjadi lebih robust dan adaptif. **Collaborative Fiiltering** memberikan rekomendasi yang dipersonalisasi berasarkan perilaku dan preferensi pengguna lain, sementara **Content-Based Filtering** memastikan bahwa rekomendasi tetap relevan bahkan jika data user terbatas, dengan fokus pada kesamaan konten. Kerja sama antara kedua sistem ini memungkinkan pembuatan rekomendasi yang lebih holistik, menangkap preferensi user dari berbagai sudut pandang dan memberikan pengalaman user yang lebih kaya dan memuaskan."
      ]
    }
  ],
  "metadata": {
    "colab": {
      "collapsed_sections": [
        "LVoe_x-RD9gi"
      ],
      "provenance": []
    },
    "kernelspec": {
      "display_name": "base",
      "language": "python",
      "name": "python3"
    },
    "language_info": {
      "codemirror_mode": {
        "name": "ipython",
        "version": 3
      },
      "file_extension": ".py",
      "mimetype": "text/x-python",
      "name": "python",
      "nbconvert_exporter": "python",
      "pygments_lexer": "ipython3",
      "version": "3.10.13"
    },
    "orig_nbformat": 4
  },
  "nbformat": 4,
  "nbformat_minor": 0
}
